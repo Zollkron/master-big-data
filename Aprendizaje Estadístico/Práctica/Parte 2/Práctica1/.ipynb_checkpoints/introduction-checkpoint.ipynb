{
 "cells": [
  {
   "cell_type": "markdown",
   "metadata": {},
   "source": [
    "# Introducción a scikit-learn"
   ]
  },
  {
   "cell_type": "markdown",
   "metadata": {},
   "source": [
    "# 1. Carga de datos"
   ]
  },
  {
   "cell_type": "code",
   "execution_count": 1,
   "metadata": {
    "collapsed": false
   },
   "outputs": [
    {
     "name": "stdout",
     "output_type": "stream",
     "text": [
      "(10, 3)\n",
      "xRaw, y [[ -1.   5.]\n",
      " [ -2.   3.]\n",
      " [ -1.   0.]\n",
      " [ -1.  -2.]\n",
      " [ -3.  -4.]\n",
      " [  1.  nan]\n",
      " [  2.   3.]\n",
      " [  1.   0.]\n",
      " [  1.  -2.]\n",
      " [  3.  -4.]] [ 0.  0.  0.  0.  0.  1.  1.  1.  1.  1.]\n",
      "mean, std [  0.  nan] [ 1.78885438         nan]\n",
      "Eliminate missing values: mean, std [ 0.         -0.11111111] [ 1.78885438  2.87904305]\n",
      "Data after x standardizing [[ -5.59016994e-01   1.77528124e+00]\n",
      " [ -1.11803399e+00   1.08060597e+00]\n",
      " [ -5.59016994e-01   3.85930704e-02]\n",
      " [ -5.59016994e-01  -6.56082197e-01]\n",
      " [ -1.67705098e+00  -1.35075746e+00]\n",
      " [  5.59016994e-01  -9.64055595e-18]\n",
      " [  1.11803399e+00   1.08060597e+00]\n",
      " [  5.59016994e-01   3.85930704e-02]\n",
      " [  5.59016994e-01  -6.56082197e-01]\n",
      " [  1.67705098e+00  -1.35075746e+00]]\n",
      "mean, std [ 0.         -0.11111111] [ 1.78885438  2.87904305]\n"
     ]
    }
   ],
   "source": [
    "from sklearn import preprocessing\n",
    "from sklearn.preprocessing import Imputer\n",
    "import numpy as np\n",
    "\n",
    "datasetName = 'toyExampleMissing.data'\n",
    "datasetDelimiter = ','\n",
    "\n",
    "# load the CSV file as a numpy matrix\n",
    "dataset = np.loadtxt(datasetName, delimiter=datasetDelimiter)\n",
    "print dataset.shape\n",
    "\n",
    "# separate the data from the target attributes\n",
    "xRaw = dataset[:,0:dataset.shape[1]-1]\n",
    "y = dataset[:,dataset.shape[1]-1]\n",
    "print \"xRaw, y\", xRaw, y\n",
    "print \"mean, std\", xRaw.mean(axis=0), xRaw.std(axis=0)\n",
    "\n",
    "\n",
    "# missing values\n",
    "imp = Imputer(missing_values='NaN', strategy='mean', axis=0)\n",
    "xPrep = imp.fit_transform(xRaw)\n",
    "print \"Eliminate missing values: mean, std\", xPrep.mean(axis=0), xPrep.std(axis=0)\n",
    "\n",
    "\n",
    "#Standardize data\n",
    "scaler = preprocessing.StandardScaler().fit(xPrep)\n",
    "x=scaler.transform(xPrep)\n",
    "print \"Data after x standardizing\", x\n",
    "print \"mean, std\", scaler.mean_, scaler.scale_\n",
    "\n",
    "\n"
   ]
  },
  {
   "cell_type": "markdown",
   "metadata": {},
   "source": [
    "# 2. Operaciones básicas con matrices"
   ]
  },
  {
   "cell_type": "code",
   "execution_count": 2,
   "metadata": {
    "collapsed": false,
    "scrolled": true
   },
   "outputs": [
    {
     "name": "stdout",
     "output_type": "stream",
     "text": [
      "[[ 1  1  2  3]\n",
      " [ 0  1 -3  7]]\n",
      "[[1 3]\n",
      " [1 7]]\n"
     ]
    }
   ],
   "source": [
    "# add new data\n",
    "a = np.array ([1, 1, 2, 3])\n",
    "b = np.array ([0, 1, -3, 7])\n",
    "c = np.vstack((a, b))\n",
    "\n",
    "print c\n",
    "\n",
    "# select part of the columns\n",
    "d = c[:,[1, 3]]\n",
    "print d\n"
   ]
  },
  {
   "cell_type": "markdown",
   "metadata": {},
   "source": [
    "# 3. Representación gráfica"
   ]
  },
  {
   "cell_type": "code",
   "execution_count": 3,
   "metadata": {
    "collapsed": false
   },
   "outputs": [
    {
     "ename": "IOError",
     "evalue": "[Errno 2] No such file or directory: 'bloodTransfusion.data'",
     "output_type": "error",
     "traceback": [
      "\u001b[0;31m---------------------------------------------------------------------------\u001b[0m",
      "\u001b[0;31mIOError\u001b[0m                                   Traceback (most recent call last)",
      "\u001b[0;32m<ipython-input-3-b88b4807788f>\u001b[0m in \u001b[0;36m<module>\u001b[0;34m()\u001b[0m\n\u001b[1;32m      8\u001b[0m \u001b[0;34m\u001b[0m\u001b[0m\n\u001b[1;32m      9\u001b[0m \u001b[0;31m# load the CSV file as a numpy matrix\u001b[0m\u001b[0;34m\u001b[0m\u001b[0;34m\u001b[0m\u001b[0m\n\u001b[0;32m---> 10\u001b[0;31m \u001b[0mdataset\u001b[0m \u001b[0;34m=\u001b[0m \u001b[0mnp\u001b[0m\u001b[0;34m.\u001b[0m\u001b[0mloadtxt\u001b[0m\u001b[0;34m(\u001b[0m\u001b[0mdatasetName\u001b[0m\u001b[0;34m,\u001b[0m \u001b[0mdelimiter\u001b[0m\u001b[0;34m=\u001b[0m\u001b[0mdatasetDelimiter\u001b[0m\u001b[0;34m)\u001b[0m\u001b[0;34m\u001b[0m\u001b[0m\n\u001b[0m\u001b[1;32m     11\u001b[0m \u001b[0;34m\u001b[0m\u001b[0m\n\u001b[1;32m     12\u001b[0m \u001b[0;31m# separate the data from the target attributes\u001b[0m\u001b[0;34m\u001b[0m\u001b[0;34m\u001b[0m\u001b[0m\n",
      "\u001b[0;32m/home/moises/anaconda2/lib/python2.7/site-packages/numpy/lib/npyio.pyc\u001b[0m in \u001b[0;36mloadtxt\u001b[0;34m(fname, dtype, comments, delimiter, converters, skiprows, usecols, unpack, ndmin)\u001b[0m\n\u001b[1;32m    801\u001b[0m                 \u001b[0mfh\u001b[0m \u001b[0;34m=\u001b[0m \u001b[0miter\u001b[0m\u001b[0;34m(\u001b[0m\u001b[0mbz2\u001b[0m\u001b[0;34m.\u001b[0m\u001b[0mBZ2File\u001b[0m\u001b[0;34m(\u001b[0m\u001b[0mfname\u001b[0m\u001b[0;34m)\u001b[0m\u001b[0;34m)\u001b[0m\u001b[0;34m\u001b[0m\u001b[0m\n\u001b[1;32m    802\u001b[0m             \u001b[0;32melif\u001b[0m \u001b[0msys\u001b[0m\u001b[0;34m.\u001b[0m\u001b[0mversion_info\u001b[0m\u001b[0;34m[\u001b[0m\u001b[0;36m0\u001b[0m\u001b[0;34m]\u001b[0m \u001b[0;34m==\u001b[0m \u001b[0;36m2\u001b[0m\u001b[0;34m:\u001b[0m\u001b[0;34m\u001b[0m\u001b[0m\n\u001b[0;32m--> 803\u001b[0;31m                 \u001b[0mfh\u001b[0m \u001b[0;34m=\u001b[0m \u001b[0miter\u001b[0m\u001b[0;34m(\u001b[0m\u001b[0mopen\u001b[0m\u001b[0;34m(\u001b[0m\u001b[0mfname\u001b[0m\u001b[0;34m,\u001b[0m \u001b[0;34m'U'\u001b[0m\u001b[0;34m)\u001b[0m\u001b[0;34m)\u001b[0m\u001b[0;34m\u001b[0m\u001b[0m\n\u001b[0m\u001b[1;32m    804\u001b[0m             \u001b[0;32melse\u001b[0m\u001b[0;34m:\u001b[0m\u001b[0;34m\u001b[0m\u001b[0m\n\u001b[1;32m    805\u001b[0m                 \u001b[0mfh\u001b[0m \u001b[0;34m=\u001b[0m \u001b[0miter\u001b[0m\u001b[0;34m(\u001b[0m\u001b[0mopen\u001b[0m\u001b[0;34m(\u001b[0m\u001b[0mfname\u001b[0m\u001b[0;34m)\u001b[0m\u001b[0;34m)\u001b[0m\u001b[0;34m\u001b[0m\u001b[0m\n",
      "\u001b[0;31mIOError\u001b[0m: [Errno 2] No such file or directory: 'bloodTransfusion.data'"
     ]
    }
   ],
   "source": [
    "%matplotlib inline\n",
    "import matplotlib.pyplot as plt\n",
    "import scipy.stats as stats\n",
    "import numpy as np\n",
    "\n",
    "datasetName = 'bloodTransfusion.data'\n",
    "datasetDelimiter = ','\n",
    "\n",
    "# load the CSV file as a numpy matrix\n",
    "dataset = np.loadtxt(datasetName, delimiter=datasetDelimiter)\n",
    "\n",
    "# separate the data from the target attributes\n",
    "xx = dataset[:,0:dataset.shape[1]-1]\n",
    "y = dataset[:,dataset.shape[1]-1]\n",
    "\n",
    "\n",
    "xC0=np.empty([0,xx.shape[1]])\n",
    "xC1=np.empty([0,xx.shape[1]])\n",
    "\n",
    "for i in range(xx.shape[0]):\n",
    "    if y[i] == 0:\n",
    "        xC0=np.vstack((xC0, xx[i,:]))\n",
    "    elif y[i] == 1:\n",
    "        xC1=np.vstack((xC1, xx[i,:]))      \n",
    "    \n",
    "for i in range(xx.shape[1]):\n",
    "    for j in range(i+1, xx.shape[1]):\n",
    "        plt.plot(xC0[:,i], xC0[:,j],'ro', xC1[:,i], xC1[:,j],'bo')\n",
    "        plt.xlabel('x'+str(i))\n",
    "        plt.ylabel('x'+str(j))\n",
    "        plt.show()\n",
    "        #correlation\n",
    "        print stats.pearsonr(xx[:,i], xx[:,j])\n",
    "        \n",
    "for i in range(0, xx.shape[1]):\n",
    "    plt.hist(xx[:,i])\n",
    "    plt.ylabel('x'+str(i))\n",
    "    plt.show()\n",
    "plt.hist(y)\n",
    "plt.ylabel('y')\n",
    "plt.show()"
   ]
  },
  {
   "cell_type": "code",
   "execution_count": null,
   "metadata": {
    "collapsed": true
   },
   "outputs": [],
   "source": []
  }
 ],
 "metadata": {
  "anaconda-cloud": {},
  "kernelspec": {
   "display_name": "Python [default]",
   "language": "python",
   "name": "python2"
  },
  "language_info": {
   "codemirror_mode": {
    "name": "ipython",
    "version": 2
   },
   "file_extension": ".py",
   "mimetype": "text/x-python",
   "name": "python",
   "nbconvert_exporter": "python",
   "pygments_lexer": "ipython2",
   "version": "2.7.12"
  }
 },
 "nbformat": 4,
 "nbformat_minor": 0
}
