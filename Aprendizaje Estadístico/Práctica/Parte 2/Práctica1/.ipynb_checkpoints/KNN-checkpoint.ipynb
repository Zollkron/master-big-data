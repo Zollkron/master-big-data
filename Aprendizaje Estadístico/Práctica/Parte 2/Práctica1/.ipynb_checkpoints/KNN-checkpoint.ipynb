{
 "cells": [
  {
   "cell_type": "code",
   "execution_count": 1,
   "metadata": {
    "collapsed": false,
    "scrolled": true
   },
   "outputs": [
    {
     "name": "stdout",
     "output_type": "stream",
     "text": [
      "xTrain [[-1.67705098 -1.34890655]\n",
      " [ 1.67705098 -1.34890655]\n",
      " [-1.11803399  0.79708114]\n",
      " [ 1.11803399  0.79708114]\n",
      " [ 0.55901699 -0.12262787]\n",
      " [-0.55901699 -0.73576721]\n",
      " [-0.55901699  1.41022048]\n",
      " [ 0.55901699  1.41022048]] \n",
      "xTest [[-0.55901699 -0.12262787]\n",
      " [ 0.55901699 -0.73576721]] \n",
      "yTrain [ 0.  1.  0.  1.  1.  0.  0.  1.] \n",
      "yTest [ 0.  1.]\n",
      "Best hyperparameters {'n_neighbors': 1, 'weights': 'uniform'}\n",
      "1.000 (+/-0.000) for {'n_neighbors': 1, 'weights': 'uniform'}\n",
      "()\n",
      "1.000 (+/-0.000) for {'n_neighbors': 1, 'weights': 'distance'}\n",
      "()\n",
      "1.000 (+/-0.000) for {'n_neighbors': 2, 'weights': 'uniform'}\n",
      "()\n",
      "1.000 (+/-0.000) for {'n_neighbors': 2, 'weights': 'distance'}\n",
      "()\n",
      "0.875 (+/-0.217) for {'n_neighbors': 3, 'weights': 'uniform'}\n",
      "()\n",
      "1.000 (+/-0.000) for {'n_neighbors': 3, 'weights': 'distance'}\n",
      "()\n"
     ]
    },
    {
     "data": {
      "image/png": "[encoded data removed]",
      "text/plain": [
       "<matplotlib.figure.Figure at 0x7fd9a1f8ad10>"
      ]
     },
     "metadata": {},
     "output_type": "display_data"
    },
    {
     "data": {
      "image/png": "[encoded data removed]",
      "text/plain": [
       "<matplotlib.figure.Figure at 0x7fd96aea4b10>"
      ]
     },
     "metadata": {},
     "output_type": "display_data"
    }
   ],
   "source": [
    "from sklearn import preprocessing, cross_validation, neighbors\n",
    "from sklearn.grid_search import GridSearchCV\n",
    "from sklearn.preprocessing import Imputer\n",
    "from sklearn.externals import joblib\n",
    "import numpy as np\n",
    "%matplotlib inline\n",
    "import matplotlib.pyplot as plt\n",
    "from matplotlib.colors import ListedColormap\n",
    "\n",
    "datasetName = 'toyExample.data'\n",
    "datasetDelimiter = ','\n",
    "\n",
    "# load the CSV file as a numpy matrix\n",
    "dataset = np.loadtxt(datasetName, delimiter=datasetDelimiter)\n",
    "# separate the data from the target attributes\n",
    "xRaw = dataset[:,0:dataset.shape[1]-1]\n",
    "y = dataset[:,dataset.shape[1]-1]\n",
    "# missing values\n",
    "imp = Imputer(missing_values='NaN', strategy='mean', axis=0)\n",
    "xPrep = imp.fit_transform(xRaw)\n",
    "#Standardize data\n",
    "scaler = preprocessing.StandardScaler().fit(xPrep)\n",
    "x=scaler.transform(xPrep)\n",
    "\n",
    "#Divide in training and test, shuffling the examples and keeping the proportion of examples of each class\n",
    "xTrain, xTest, yTrain, yTest = cross_validation.train_test_split(x, y, test_size=0.2, random_state=0)\n",
    "print 'xTrain', xTrain, \"\\nxTest\", xTest, \"\\nyTrain\", yTrain, \"\\nyTest\", yTest\n",
    "\n",
    "\n",
    "#Generate the mesh\n",
    "h = .02  # step size in the mesh\n",
    "# Create color maps\n",
    "cmap_light = ListedColormap(['#FFAAAA', '#AAFFAA', '#AAAAFF'])\n",
    "cmap_bold = ListedColormap(['#FF0000', '#00FF00', '#0000FF'])\n",
    "# Plot the decision boundary. For that, we will assign a color to each\n",
    "# point in the mesh [x_min, m_max]x[y_min, y_max].\n",
    "x_min = scaler.inverse_transform(xTrain)[:, 0].min() - 1\n",
    "x_max = scaler.inverse_transform(xTrain)[:, 0].max() + 1\n",
    "y_min = scaler.inverse_transform(xTrain)[:, 1].min() - 1\n",
    "y_max = scaler.inverse_transform(xTrain)[:, 1].max() + 1\n",
    "xx, yy = np.meshgrid(np.arange(x_min, x_max, h),\n",
    "                         np.arange(y_min, y_max, h))\n",
    "\n",
    "\n",
    "################################################################\n",
    "#KNN results\n",
    "################################################################\n",
    "\n",
    "#Generate grid search\n",
    "hyperParams = {'n_neighbors': range(1,4), \n",
    "               'weights': ['uniform', 'distance']}\n",
    "\n",
    "#Create an instance of Neighbors Classifier and fit the data for the grid parameters\n",
    "modelCV = GridSearchCV(neighbors.KNeighborsClassifier(), \n",
    "                     hyperParams, cv=4, scoring='accuracy')\n",
    "modelCV.fit(xTrain, yTrain)\n",
    "print \"Best hyperparameters\", modelCV.best_params_\n",
    "neighList, errList, devList = [], [], []\n",
    "for hyperP, mean_score, scores in modelCV.grid_scores_:\n",
    "    print(\"%0.3f (+/-%0.03f) for %r\"\n",
    "              % (mean_score, scores.std(), hyperP))\n",
    "    if hyperP['weights'] == modelCV.best_params_['weights']:\n",
    "        neighList.append(hyperP['n_neighbors'])\n",
    "        errList.append(mean_score)\n",
    "        devList.append(scores.std())\n",
    "    print()\n",
    "\n",
    "\n",
    "#Create an instance of Neighbors Classifier with the best hyperparameters and the full training set\n",
    "model = neighbors.KNeighborsClassifier(n_neighbors = modelCV.best_params_['n_neighbors'], \n",
    "                                       weights = modelCV.best_params_['weights'])\n",
    "model.fit(xTrain, yTrain)\n",
    "Z = model.predict(np.c_[xx.ravel(), yy.ravel()])\n",
    "\n",
    "# Put the result into a color plot\n",
    "Z = Z.reshape(xx.shape)\n",
    "plt.figure()\n",
    "plt.pcolormesh(xx, yy, Z, cmap=cmap_light)\n",
    "\n",
    "\n",
    "# Plot also the training points\n",
    "plt.scatter(scaler.inverse_transform(xTrain)[:, 0], \n",
    "            scaler.inverse_transform(xTrain)[:, 1], \n",
    "            c=yTrain, cmap=cmap_bold)\n",
    "plt.xlim(xx.min(), xx.max())\n",
    "plt.ylim(yy.min(), yy.max())\n",
    "plt.title(\"k = %i, weights = '%s'\"\n",
    "          % (modelCV.best_params_['n_neighbors'], modelCV.best_params_['weights']))\n",
    "\n",
    "\n",
    "#Saving and re-loading the model\n",
    "joblib.dump(model, 'KNN_model.pkl') \n",
    "newModel = joblib.load('KNN_model.pkl')\n",
    "newModel.predict(xTest)\n",
    "plt.scatter(scaler.inverse_transform(xTest)[:, 0], \n",
    "                scaler.inverse_transform(xTest)[:, 1], \n",
    "                c=yTest, cmap=cmap_bold, marker = '1')\n",
    "\n",
    "plt.show()\n",
    "plt.errorbar(neighList, errList, yerr = devList)\n",
    "plt.xlim(neighList[0]-1, neighList[len(neighList)-1]+1)\n",
    "plt.show()\n",
    "\n"
   ]
  },
  {
   "cell_type": "code",
   "execution_count": null,
   "metadata": {
    "collapsed": true
   },
   "outputs": [],
   "source": []
  }
 ],
 "metadata": {
  "anaconda-cloud": {},
  "kernelspec": {
   "display_name": "Python [default]",
   "language": "python",
   "name": "python2"
  },
  "language_info": {
   "codemirror_mode": {
    "name": "ipython",
    "version": 2
   },
   "file_extension": ".py",
   "mimetype": "text/x-python",
   "name": "python",
   "nbconvert_exporter": "python",
   "pygments_lexer": "ipython2",
   "version": "2.7.12"
  }
 },
 "nbformat": 4,
 "nbformat_minor": 0
}
