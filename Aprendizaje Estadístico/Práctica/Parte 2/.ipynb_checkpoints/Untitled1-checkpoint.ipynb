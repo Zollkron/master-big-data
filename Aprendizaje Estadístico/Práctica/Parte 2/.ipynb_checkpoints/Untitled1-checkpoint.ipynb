{
 "cells": [
  {
   "cell_type": "code",
   "execution_count": null,
   "metadata": {
    "collapsed": true
   },
   "outputs": [],
   "source": [
    "def entropia_r(tIzq, tDer, negIzq, posIzq, negDer, posDer):\n",
    "    vNegIzq = negIzq/tIzq\n",
    "    vPosIzq = posIzq/tIzq\n",
    "    vNegDer = negDer/tDer\n",
    "    vPosDer = posDer/tDer\n",
    "    return (((tIzq/(tIzq+tDer)) * ((-vNegIzq*math.log(vNegIzq)) \n",
    "                                                 - (vPosIzq*math.log(vPosIzq)))\n",
    "              ) + (tDer/(tIzq+tDer)) * ( (-vNegDer*math.log(vNegDer)) \n",
    "                                                 - (vPosDer*math.log(vPosDer))))"
   ]
  },
  {
   "cell_type": "code",
   "execution_count": null,
   "metadata": {
    "collapsed": false
   },
   "outputs": [],
   "source": [
    "import numpy as np\n",
    "def probabilidades_y_umbral(variable):\n",
    "   suma_ceros = 0\n",
    "   suma_unos = 0\n",
    "   umbral = 0\n",
    "   for k, v in variable:\n",
    "       if v == 0: suma_ceros = suma_ceros + k\n",
    "       else: suma_unos = suma_unos + k\n",
    "   print(\"Suma ceros = %d\" % suma_ceros)\n",
    "   print(\"Suma unos = %d\" % suma_unos)\n",
    "   umbral = np.median([suma_ceros,suma_unos])\n",
    "   print(\"Umbral = %d\" % umbral)\n",
    "   total_casos = abs(suma_ceros)+abs(suma_unos)\n",
    "   probabilidad_ceros = float(abs(suma_ceros)) / float(total_casos)\n",
    "   probabilidad_unos = float(abs(suma_unos)) / float(total_casos)\n",
    "   datos = [probabilidad_ceros, probabilidad_unos, umbral]\n",
    "   return(datos)\n",
    "def entropia_m(probabilidades):\n",
    "   e = 0\n",
    "   for p in probabilidades:\n",
    "       e = e -p*np.log2(p)\n",
    "   return(e)\n",
    "x1,x2,x3 = [],[],[]\n",
    "x1.append([4,1])\n",
    "x2.append([3,1])\n",
    "x3.append([-1,1])\n",
    "x1.append([-3,0])\n",
    "x2.append([-1,0])\n",
    "x3.append([-1,0])\n",
    "x1.append([3,0])\n",
    "x2.append([-2,0])\n",
    "x3.append([0,0])\n",
    "x1.append([1,1])\n",
    "x2.append([4,1])\n",
    "x3.append([0,1])\n",
    "x1.append([-2,0])\n",
    "x2.append([3,0])\n",
    "x3.append([1,0])\n",
    "x1.append([-3,0])\n",
    "x2.append([5,0])\n",
    "x3.append([5,0])\n",
    "print(x1)\n",
    "print(x2)\n",
    "print(x3)#Construimos el árbol comenzamos por la variable x1\n",
    "arbol = {0:[],1:[]}\n",
    "print(\"Variable X1\")\n",
    "datos_x1 = probabilidades_y_umbral(x1)\n",
    "probs_x1 = [datos_x1[0],datos_x1[1]]\n",
    "umbral = datos_x1[2]\n",
    "print(probs_x1)\n",
    "print(\"Entropia = %.2f\" % entropia_m(probs_x1))\n",
    "for elem in x1:\n",
    "   if elem[0] > datos_x1[2]:\n",
    "       arbol[1].append(elem[0])\n",
    "   else: arbol[0].append(elem[0])\n",
    "print(arbol)\n",
    "nuevo_x2 = [[3, 1],[-2, 0],[4, 1]]\n",
    "print(nuevo_x2)\n",
    "arbol2 = {0:[],1:[]}\n",
    "print(\"Variable X2\")\n",
    "datos_x2 = probabilidades_y_umbral(nuevo_x2)\n",
    "probs_x2 = [datos_x2[0],datos_x2[1]]\n",
    "umbral = datos_x2[2]\n",
    "print(probs_x2)\n",
    "print(\"Entropia = %.2f\" % entropia_m(probs_x2))\n",
    "for elem in nuevo_x2:\n",
    "   if elem[0] > datos_x2[2]:\n",
    "       arbol2[1].append(elem[0])\n",
    "   else: arbol2[0].append(elem[0])\n",
    "print(arbol2)"
   ]
  }
 ],
 "metadata": {
  "anaconda-cloud": {},
  "kernelspec": {
   "display_name": "Python [default]",
   "language": "python",
   "name": "python2"
  },
  "language_info": {
   "codemirror_mode": {
    "name": "ipython",
    "version": 2
   },
   "file_extension": ".py",
   "mimetype": "text/x-python",
   "name": "python",
   "nbconvert_exporter": "python",
   "pygments_lexer": "ipython2",
   "version": "2.7.12"
  }
 },
 "nbformat": 4,
 "nbformat_minor": 1
}
