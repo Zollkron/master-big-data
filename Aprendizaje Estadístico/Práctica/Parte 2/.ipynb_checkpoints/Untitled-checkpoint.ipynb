{
 "cells": [
  {
   "cell_type": "markdown",
   "metadata": {},
   "source": [
    "## Examen Junio 2017"
   ]
  },
  {
   "cell_type": "code",
   "execution_count": null,
   "metadata": {
    "collapsed": false
   },
   "outputs": [],
   "source": [
    "import math\n",
    "import numpy as np\n",
    "class Punto:\n",
    "    \n",
    "    def __init__(self, x,y,z):\n",
    "        self.x = x\n",
    "        self.y = y\n",
    "        self.z = z\n",
    "        \n",
    "    def imprimirPunto(self):\n",
    "        print \"(x: \" + str(self.x) + \", y: \" + str(self.y) + \", z: \" + str(self.z) + \")\"\n",
    "\n",
    "def distanciaEuclides(punto1, punto2):\n",
    "    distancia = math.sqrt((punto2.x-punto1.x)**2+(punto2.y-punto1.y)**2+(punto2.z-punto1.z)**2)\n",
    "    return distancia\n",
    "\n",
    "puntoOrigen = Punto(0,0,0)\n",
    "puntoOrigen.imprimirPunto()"
   ]
  },
  {
   "cell_type": "code",
   "execution_count": null,
   "metadata": {
    "collapsed": false
   },
   "outputs": [],
   "source": [
    "puntos = []\n",
    "puntos.append(Punto(0,3,2))\n",
    "puntos.append(Punto(3,0,1))\n",
    "puntos.append(Punto(0,3,-1))\n",
    "puntos.append(Punto(3,0,-1))\n",
    "puntos.append(Punto(1,2,1))\n",
    "puntos.append(Punto(2,1,1))\n",
    "for punto in puntos:\n",
    "    print distanciaEuclides(puntoOrigen,punto)"
   ]
  }
 ],
 "metadata": {
  "anaconda-cloud": {},
  "kernelspec": {
   "display_name": "Python [default]",
   "language": "python",
   "name": "python2"
  },
  "language_info": {
   "codemirror_mode": {
    "name": "ipython",
    "version": 2
   },
   "file_extension": ".py",
   "mimetype": "text/x-python",
   "name": "python",
   "nbconvert_exporter": "python",
   "pygments_lexer": "ipython2",
   "version": "2.7.12"
  }
 },
 "nbformat": 4,
 "nbformat_minor": 1
}
