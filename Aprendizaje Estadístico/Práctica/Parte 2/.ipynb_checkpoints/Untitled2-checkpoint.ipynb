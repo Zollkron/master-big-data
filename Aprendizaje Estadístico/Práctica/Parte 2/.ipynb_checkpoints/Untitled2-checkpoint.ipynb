{
 "cells": [
  {
   "cell_type": "code",
   "execution_count": null,
   "metadata": {
    "collapsed": true
   },
   "outputs": [],
   "source": [
    "#Capa oculta\n",
    "w1 <- matrix(c(-2,1, 1,-1,3,-1), nrow = 3, ncol=2,byrow = TRUE)\n",
    "w1\n",
    "b1 <- matrix(c(0,-1, 1), nrow=3, ncol=1, byrow=TRUE)\n",
    "b1\n",
    "#Salida\n",
    "w2 <- matrix(c(2, 3, 1), nrow=1, ncol=3, byrow=TRUE)\n",
    "w2\n",
    "b2 <- matrix(c(0), nrow=1, ncol=1, byrow=TRUE)\n",
    "b2\n",
    "# entrada al primer par de neuronas\n",
    "x <- matrix(c(1,1), nrow=2, ncol=1, byrow=TRUE)\n",
    "x\n",
    "# Salida\n",
    "y <- 1\n",
    "y"
   ]
  },
  {
   "cell_type": "code",
   "execution_count": null,
   "metadata": {
    "collapsed": true
   },
   "outputs": [],
   "source": [
    "a1=x\n",
    "#z1 no existe\n",
    "z2 <- w1 %*% a1 + b1\n",
    "z2\n",
    "sigmoid <- function(z){\n",
    "  1 / (1 + exp(-z))\n",
    "}\n",
    "a2 <- sigmoid(z2)\n",
    "a2\n",
    "z3 <- w2 %*% a2 + b2\n",
    "z3\n",
    "identidad <- function(z){\n",
    "  z\n",
    "}\n",
    "a3 <- identidad(z3)\n",
    "a3"
   ]
  },
  {
   "cell_type": "code",
   "execution_count": null,
   "metadata": {
    "collapsed": true
   },
   "outputs": [],
   "source": [
    "derivada_identidad<-function(x) 1\n",
    "sigma3 <- -(y - a3) %*% derivada_identidad(z3)\n",
    "sigma3\n",
    "derivada_sigmoide <- function(x){\n",
    "  exp(x) /((exp(x) + 1)^2)\n",
    "}\n",
    "sigma2 <- t(w2 * sigma3[1,1]) * derivada_sigmoide(z2)\n",
    "sigma2\n",
    "derivada_parcial_W_2<-sigma3%*%t(a2)\n",
    "derivada_parcial_W_2\n",
    "derivada_parcial_b_2 <- sigma3\n",
    "derivada_parcial_b_2\n",
    "derivada_parcial_W_1<-sigma2%*%t(a1)\n",
    "derivada_parcial_W_1\n",
    "derivada_parcial_b_1 <- sigma2\n",
    "derivada_parcial_b_1\n",
    "alpha = 0.5\n",
    "lambda = 1\n",
    "m = 1\n",
    "fw2<-w2-(alpha*(((1/m)*derivada_parcial_W_2)+lambda*w2))\n",
    "fw2\n",
    "fw1<-w1-(alpha*(((1/m)*derivada_parcial_W_1)+lambda*w1))\n",
    "fw1\n",
    "fb2 <- b2 - alpha*((1/m)*derivada_parcial_b_2)\n",
    "fb2\n",
    "fb1 <- b1 - alpha*((1/m)*derivada_parcial_b_1)\n",
    "fb1"
   ]
  }
 ],
 "metadata": {
  "anaconda-cloud": {},
  "kernelspec": {
   "display_name": "R [conda env:my-r-env]",
   "language": "R",
   "name": "conda-env-my-r-env-r"
  },
  "language_info": {
   "codemirror_mode": "r",
   "file_extension": ".r",
   "mimetype": "text/x-r-source",
   "name": "R",
   "pygments_lexer": "r",
   "version": "3.3.2"
  }
 },
 "nbformat": 4,
 "nbformat_minor": 1
}
