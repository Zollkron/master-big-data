{
 "cells": [
  {
   "cell_type": "markdown",
   "metadata": {},
   "source": [
    "# Boletín 3 (Ejercicios)"
   ]
  },
  {
   "cell_type": "markdown",
   "metadata": {},
   "source": [
    "## Ejercicio 1"
   ]
  },
  {
   "cell_type": "markdown",
   "metadata": {},
   "source": [
    "Tras hacer los calculos a mano, tenemos que la primera división se realizaría para la variable $x_1$ con una entropía de 0.3182. \n",
    "\n",
    "De esta división obtendríamos dos ramas, una para las observaciones tales que $x_1 < -0.5$ para la $y = 0$, donde irían a parar las observaciones 2,5,6, todas ellas de la misma clase $y = 0$, y por tanto ya sería un nodo hoja porque es un nodo puro. \n",
    "\n",
    "Al nodo derecho irían las observaciones con $x_1 > -0.5$, 4,3 y 1 que sería para $y = 1$. No obstante, la observación 3 no pertenece a la clase $y = 1$ sino a la $y = 0$, por lo que este nodo, al no ser puro, no es un nodo hoja. \n",
    "\n",
    "Continuamos para dividir de nuevo el último nodo impuro, por la variable $x_2$ con una entropía de 0. \n",
    "\n",
    "La división de este último nodo sería:\n",
    "- Observaciones con $x_2 < 0.5$ (3) para $y = 0$\n",
    "- Observaciones con $x_2 > 0.5$ (1,4) para $y = 1$\n",
    "\n",
    "Al ser ya los dos últimos nodos generados, dos nodos puros, estos ya se consideran nodos hoja y el árbol ya se da por terminado y construído."
   ]
  },
  {
   "cell_type": "markdown",
   "metadata": {},
   "source": [
    "## Ejercicio 2"
   ]
  },
  {
   "cell_type": "markdown",
   "metadata": {},
   "source": [
    "### Apartado a"
   ]
  },
  {
   "cell_type": "markdown",
   "metadata": {},
   "source": [
    "- criterion : string, optional (default=”gini”)\n",
    "\n",
    "- splitter : string, optional (default=”best”)\n",
    "\n",
    "- max_features : int, float, string or None, optional (default=None)\n",
    "\n",
    "- max_depth : int or None, optional (default=None)\n",
    "\n",
    "- min_samples_split : int, float, optional (default=2)\n",
    "\n",
    "- min_samples_leaf : int, float, optional (default=1)\n",
    "\n",
    "- min_weight_fraction_leaf : float, optional (default=0.)\n",
    "\n",
    "- max_leaf_nodes : int or None, optional (default=None)\n",
    "\n",
    "- class_weight : dict, list of dicts, “balanced” or None, optional (default=None)\n",
    "\n",
    "- random_state : int, RandomState instance or None, optional (default=None)\n",
    "\n",
    "- min_impurity_split : float, optional (default=1e-7)\n",
    "\n",
    "- presort : bool, optional (default=False)"
   ]
  },
  {
   "cell_type": "markdown",
   "metadata": {},
   "source": [
    "### Apartado b"
   ]
  },
  {
   "cell_type": "code",
   "execution_count": 5,
   "metadata": {
    "collapsed": false
   },
   "outputs": [
    {
     "name": "stdout",
     "output_type": "stream",
     "text": [
      "xTrain 598 \n",
      "xTest 150 \n",
      "yTrain 598 \n",
      "yTest 150\n"
     ]
    }
   ],
   "source": [
    "from sklearn import preprocessing, cross_validation, tree\n",
    "from sklearn.grid_search import GridSearchCV\n",
    "from sklearn.preprocessing import Imputer\n",
    "from sklearn.externals import joblib\n",
    "%matplotlib inline\n",
    "import matplotlib.pyplot as plt\n",
    "from matplotlib.colors import ListedColormap\n",
    "from sklearn.metrics import mean_squared_error\n",
    "from sklearn.metrics import confusion_matrix\n",
    "\n",
    "datasetName = 'bloodTransfusion.data'\n",
    "datasetDelimiter = ','\n",
    "dataset = np.loadtxt(datasetName, delimiter=datasetDelimiter)\n",
    "#print(dataset)\n",
    "\n",
    "xRaw = dataset[:,0:dataset.shape[1]-1]\n",
    "y = dataset[:,dataset.shape[1]-1]\n",
    "#print \"xRaw, y\", xRaw, y\n",
    "#print \"Media, Desviación Típica\", xRaw.mean(axis=0), xRaw.std(axis=0)\n",
    "#Si hay valores perdidos o 'NaN' los imputamos\n",
    "imp = Imputer(missing_values='NaN', strategy='mean', axis=0)\n",
    "xPrep = imp.fit_transform(xRaw)\n",
    "#print \"Eliminamos valores perdidos: Media, Desviación Típica\", xPrep.mean(axis=0), xPrep.std(axis=0)\n",
    "#Estandarizamos los datos haciéndoles un escalado\n",
    "scaler = preprocessing.StandardScaler().fit(xPrep)\n",
    "x=scaler.transform(xPrep)\n",
    "#print \"Datos después de la estandarización de x\", x\n",
    "#print \"Media, Desviación Típica\", scaler.mean_, scaler.scale_\n",
    "\n",
    "xTrain, xTest, yTrain, yTest = cross_validation.train_test_split(x, y, test_size=0.2, random_state=0)\n",
    "print 'xTrain', len(xTrain), \"\\nxTest\", len(xTest), \"\\nyTrain\", len(yTrain), \"\\nyTest\", len(yTest)"
   ]
  },
  {
   "cell_type": "markdown",
   "metadata": {},
   "source": [
    "### Apartado c"
   ]
  },
  {
   "cell_type": "code",
   "execution_count": 6,
   "metadata": {
    "collapsed": false
   },
   "outputs": [
    {
     "name": "stdout",
     "output_type": "stream",
     "text": [
      "Best hyperparameters {'min_samples_split': 120}\n"
     ]
    },
    {
     "data": {
      "image/png": "[encoded data removed]",
      "text/plain": [
       "<matplotlib.figure.Figure at 0x7f9573759f90>"
      ]
     },
     "metadata": {},
     "output_type": "display_data"
    }
   ],
   "source": [
    "hyperParams = {'min_samples_split': range(1,200)}\n",
    "\n",
    "modelCV = GridSearchCV(tree.DecisionTreeClassifier(criterion='entropy'),  \n",
    "                     hyperParams, cv=5) \n",
    "modelCV.fit(xTrain, yTrain) \n",
    "print \"Best hyperparameters\", modelCV.best_params_\n",
    "SamplesList, errList, devList = [], [], []   \n",
    "for hyperP, mean_score, scores in modelCV.grid_scores_: #para que muestre el resto de combinaciones\n",
    "    #print(\"%0.3f (+/-%0.03f) for %r\"\n",
    "     #         % (mean_score, scores.std(), hyperP))\n",
    "    SamplesList.append(hyperP['min_samples_split'])\n",
    "    errList.append(1-mean_score)\n",
    "    devList.append(scores.std())\n",
    "    #print()\n",
    "plt.errorbar(SamplesList, errList)\n",
    "plt.xlim(SamplesList[0]-1, SamplesList[len(SamplesList)-1]+1)\n",
    "plt.show()"
   ]
  },
  {
   "cell_type": "markdown",
   "metadata": {},
   "source": [
    "### Apartado d"
   ]
  },
  {
   "cell_type": "code",
   "execution_count": 27,
   "metadata": {
    "collapsed": false,
    "scrolled": true
   },
   "outputs": [
    {
     "name": "stdout",
     "output_type": "stream",
     "text": [
      "0.0364777673697\n",
      "Mínimo error de clasificación: 22.0 % con tamaño mínimo de muestras para dividir= 144\n",
      "El mejor hiperparámetro nos da un error de 26.0 %\n"
     ]
    },
    {
     "data": {
      "image/png": "[encoded data removed]",
      "text/plain": [
       "<matplotlib.figure.Figure at 0x7f9571560e50>"
      ]
     },
     "metadata": {},
     "output_type": "display_data"
    }
   ],
   "source": [
    "#Mímimo error estimado\n",
    "print(min(errList))\n",
    "\n",
    "#Creamos el clasificador de árboles de decisión\n",
    "muestras =[]\n",
    "precisiones = []\n",
    "for i in range(1,200):\n",
    "    c=i\n",
    "    clf = tree.DecisionTreeClassifier(min_samples_split= c, criterion='entropy')\n",
    "    clf.fit(xTrain, yTrain)\n",
    "    muestras.append(c)\n",
    "    clf.predict(xTest)\n",
    "    porcentaje_acierto=100-clf.score(xTest,yTest)*100\n",
    "    #print \"Número de vecinos: \", c, \"con un porcentaje de acierto: \", porcentaje_acierto, \"%\"\n",
    "    precisiones.append(porcentaje_acierto)\n",
    "print \"Mínimo error de clasificación:\",min(precisiones),\"% con tamaño mínimo de muestras para dividir=\",  np.argmin(precisiones)+1  \n",
    "print \"El mejor hiperparámetro nos da un error de\", precisiones[modelCV.best_params_['min_samples_split']-1], \"%\"\n",
    "plt.plot(muestras,precisiones)\n",
    "plt.xlim(muestras[0]-1, muestras[len(muestras)-1]+1)\n",
    "plt.ylim(min(precisiones)-5,max(precisiones)+5)\n",
    "plt.show()\n"
   ]
  },
  {
   "cell_type": "markdown",
   "metadata": {},
   "source": [
    "## Ejercicio 3"
   ]
  },
  {
   "cell_type": "markdown",
   "metadata": {},
   "source": [
    "### Apartado a"
   ]
  },
  {
   "cell_type": "markdown",
   "metadata": {},
   "source": [
    "- criterion : string, optional (default=”gini”)\n",
    "\n",
    "- splitter : string, optional (default=”best”)\n",
    "\n",
    "- max_features : int, float, string or None, optional (default=None)\n",
    "\n",
    "- max_depth : int or None, optional (default=None)\n",
    "\n",
    "- min_samples_split : int, float, optional (default=2)\n",
    "\n",
    "- min_samples_leaf : int, float, optional (default=1)\n",
    "\n",
    "- min_weight_fraction_leaf : float, optional (default=0.)\n",
    "\n",
    "- max_leaf_nodes : int or None, optional (default=None)\n",
    "\n",
    "- class_weight : dict, list of dicts, “balanced” or None, optional (default=None)\n",
    "\n",
    "- random_state : int, RandomState instance or None, optional (default=None)\n",
    "\n",
    "- min_impurity_split : float, optional (default=1e-7)\n",
    "\n",
    "- presort : bool, optional (default=False)"
   ]
  },
  {
   "cell_type": "markdown",
   "metadata": {},
   "source": [
    "### Apartado b"
   ]
  },
  {
   "cell_type": "code",
   "execution_count": 19,
   "metadata": {
    "collapsed": false
   },
   "outputs": [
    {
     "name": "stdout",
     "output_type": "stream",
     "text": [
      "x2Train 614 \n",
      "x2Test 154 \n",
      "yTrain 614 \n",
      "yTest 154\n"
     ]
    }
   ],
   "source": [
    "datasetName = 'EnergyEfficiency.data'\n",
    "datasetDelimiter = ','\n",
    "dataset = np.loadtxt(datasetName, delimiter=datasetDelimiter, skiprows=1)\n",
    "#print(dataset)\n",
    "\n",
    "xRaw = dataset[:,0:dataset.shape[1]-1]\n",
    "y2 = dataset[:,dataset.shape[1]-1]\n",
    "\n",
    "#print \"xRaw, y\", xRaw, y\n",
    "#print \"Media, Desviación Típica\", xRaw.mean(axis=0), xRaw.std(axis=0)\n",
    "#Si hay valores perdidos o 'NaN' los imputamos\n",
    "imp = Imputer(missing_values='NaN', strategy='mean', axis=0)\n",
    "xPrep = imp.fit_transform(xRaw)\n",
    "#print \"Eliminamos valores perdidos: Media, Desviación Típica\", xPrep.mean(axis=0), xPrep.std(axis=0)\n",
    "#Estandarizamos los datos haciéndoles un escalado\n",
    "scaler = preprocessing.StandardScaler().fit(xPrep)\n",
    "x2=scaler.transform(xPrep)\n",
    "#print \"Datos después de la estandarización de x\", x\n",
    "#print \"Media, Desviación Típica\", scaler.mean_, scaler.scale_\n",
    "\n",
    "x2Train, x2Test, y2Train, y2Test = cross_validation.train_test_split(x2, y2, test_size=0.2, random_state=0)\n",
    "print 'x2Train', len(x2Train), \"\\nx2Test\", len(x2Test), \"\\nyTrain\", len(y2Train), \"\\nyTest\", len(y2Test)"
   ]
  },
  {
   "cell_type": "markdown",
   "metadata": {},
   "source": [
    "### Apartado c"
   ]
  },
  {
   "cell_type": "code",
   "execution_count": 22,
   "metadata": {
    "collapsed": false
   },
   "outputs": [
    {
     "name": "stdout",
     "output_type": "stream",
     "text": [
      "Best hyperparameters {'min_samples_split': 24}\n"
     ]
    },
    {
     "data": {
      "image/png": "[encoded data removed]",
      "text/plain": [
       "<matplotlib.figure.Figure at 0x7f95714896d0>"
      ]
     },
     "metadata": {},
     "output_type": "display_data"
    }
   ],
   "source": [
    "hyperParams = {'min_samples_split': range(1,200)}\n",
    "\n",
    "modelCV = GridSearchCV(tree.DecisionTreeRegressor(),  \n",
    "                     hyperParams, cv=5) \n",
    "modelCV.fit(x2Train, y2Train) \n",
    "print \"Best hyperparameters\", modelCV.best_params_\n",
    "SamplesList, errList, devList = [], [], []   \n",
    "for hyperP, mean_score, scores in modelCV.grid_scores_: #para que te muestre el resto de combinaciones\n",
    "#    print(\"%0.3f (+/-%0.03f) for %r\"\n",
    "#              % (mean_score, scores.std(), hyperP))\n",
    "    SamplesList.append(hyperP['min_samples_split'])\n",
    "    errList.append(1-mean_score)\n",
    "    devList.append(scores.std())\n",
    "#    print()\n",
    "plt.errorbar(SamplesList, errList)\n",
    "plt.xlim(SamplesList[0]-1, SamplesList[len(SamplesList)-1]+1)\n",
    "plt.show()"
   ]
  },
  {
   "cell_type": "code",
   "execution_count": 26,
   "metadata": {
    "collapsed": false
   },
   "outputs": [
    {
     "name": "stdout",
     "output_type": "stream",
     "text": [
      "0.0364777673697\n",
      "Mínimo error 3.6773379054  con mínimo número de muestras para hacer la división = 19\n",
      "El mejor hiperparámetro, 24 ,nos da un error de 3.70430816823\n"
     ]
    },
    {
     "data": {
      "image/png": "[encoded data removed]",
      "text/plain": [
       "<matplotlib.figure.Figure at 0x7f9571609c50>"
      ]
     },
     "metadata": {},
     "output_type": "display_data"
    }
   ],
   "source": [
    "#Mímimo error estimado\n",
    "print(min(errList))\n",
    "\n",
    "#Creamos el clasificador de árboles de decisión\n",
    "muestras2 =[]\n",
    "errores = []\n",
    "for i in range(1,200):\n",
    "    c = i\n",
    "    clf = tree.DecisionTreeRegressor(min_samples_split= c)\n",
    "    clf.fit(x2Train, y2Train)\n",
    "    muestras2.append(c)\n",
    "    clf.predict(x2Test)\n",
    "    error = mean_squared_error(clf.predict(x2Test), y2Test)\n",
    "    #print \"Número de vecinos:\", c, \"con error\", error\n",
    "    errores.append(error)\n",
    "print \"Mínimo error\", min(errores), \" con mínimo número de muestras para hacer la división =\",  np.argmin(errores)+1  \n",
    "print \"El mejor hiperparámetro,\", modelCV.best_params_['min_samples_split'],\",nos da un error de\", errores[modelCV.best_params_['min_samples_split']-1]\n",
    "plt.plot(muestras2,errores)\n",
    "plt.xlim(muestras2[0]-1, muestras2[len(muestras2)-1]+1)\n",
    "plt.ylim(min(errores)-5,max(errores)+5)\n",
    "plt.show()"
   ]
  },
  {
   "cell_type": "markdown",
   "metadata": {},
   "source": [
    "## Ejercicio 4"
   ]
  },
  {
   "cell_type": "markdown",
   "metadata": {},
   "source": [
    "No, pues en cada paso, el árbol divide el conjunto, dependiendo de la variable con menor entropía. Por tanto, es importante considerar todas las variables en todos los pasos."
   ]
  }
 ],
 "metadata": {
  "anaconda-cloud": {},
  "kernelspec": {
   "display_name": "Python [default]",
   "language": "python",
   "name": "python2"
  },
  "language_info": {
   "codemirror_mode": {
    "name": "ipython",
    "version": 2
   },
   "file_extension": ".py",
   "mimetype": "text/x-python",
   "name": "python",
   "nbconvert_exporter": "python",
   "pygments_lexer": "ipython2",
   "version": "2.7.12"
  }
 },
 "nbformat": 4,
 "nbformat_minor": 1
}
