{
 "cells": [
  {
   "cell_type": "markdown",
   "metadata": {},
   "source": [
    "# Instalación de la base de datos ArangoDB"
   ]
  },
  {
   "cell_type": "markdown",
   "metadata": {},
   "source": [
    "### Paso 0: Antes de nada tenemos que comprobar la versión de sistema que estamos ejecutando en la máquina virtual y en consecuencia bajarnos los certificados y repositorios correctos"
   ]
  },
  {
   "cell_type": "code",
   "execution_count": 3,
   "metadata": {
    "collapsed": false
   },
   "outputs": [
    {
     "name": "stdout",
     "output_type": "stream",
     "text": [
      "Distributor ID:\tUbuntu\n",
      "Description:\tUbuntu 15.10\n",
      "Release:\t15.10\n",
      "Codename:\twily\n"
     ]
    },
    {
     "name": "stderr",
     "output_type": "stream",
     "text": [
      "No LSB modules are available.\n"
     ]
    }
   ],
   "source": [
    "%%bash\n",
    "lsb_release -a"
   ]
  },
  {
   "cell_type": "markdown",
   "metadata": {},
   "source": [
    "En nuestro caso tenemos un sistema Ubuntu versión 15.10 así que nos bajamos los certificados y repositorios para esta versión en concreto."
   ]
  },
  {
   "cell_type": "markdown",
   "metadata": {},
   "source": [
    "### Paso 1: Obtenemos el certificado"
   ]
  },
  {
   "cell_type": "code",
   "execution_count": 4,
   "metadata": {
    "collapsed": false
   },
   "outputs": [
    {
     "name": "stdout",
     "output_type": "stream",
     "text": [
      "ERROR: This command can only be used by root.\n"
     ]
    },
    {
     "name": "stderr",
     "output_type": "stream",
     "text": [
      "--2016-10-29 23:00:35--  https://www.arangodb.com/repositories/arangodb3/xUbuntu_15.10/Release.key\n",
      "Resolving www.arangodb.com (www.arangodb.com)... 85.214.140.94\n",
      "Connecting to www.arangodb.com (www.arangodb.com)|85.214.140.94|:443... connected.\n",
      "HTTP request sent, awaiting response... 200 OK\n",
      "Length: 1003 [application/pgp-keys]\n",
      "Saving to: ‘Release.key’\n",
      "\n",
      "     0K                                                       100% 60.3M=0s\n",
      "\n",
      "2016-10-29 23:00:36 (60.3 MB/s) - ‘Release.key’ saved [1003/1003]\n",
      "\n"
     ]
    }
   ],
   "source": [
    "%%bash\n",
    "wget https://www.arangodb.com/repositories/arangodb3/xUbuntu_15.10/Release.key"
   ]
  },
  {
   "cell_type": "markdown",
   "metadata": {},
   "source": [
    "### Paso 2: Añaidmos el certificado"
   ]
  },
  {
   "cell_type": "code",
   "execution_count": 10,
   "metadata": {
    "collapsed": false
   },
   "outputs": [
    {
     "name": "stdout",
     "output_type": "stream",
     "text": [
      "OK\r\n"
     ]
    }
   ],
   "source": [
    "!sudo apt-key add Release.key"
   ]
  },
  {
   "cell_type": "markdown",
   "metadata": {},
   "source": [
    "### Paso 3: Añadimos la nueva fuente"
   ]
  },
  {
   "cell_type": "code",
   "execution_count": null,
   "metadata": {
    "collapsed": false
   },
   "outputs": [],
   "source": [
    "%%bash\n",
    "echo 'deb https://www.arangodb.com/repositories/arangodb3/xUbuntu_15.10/ /' | sudo tee /etc/apt/sources.list.d/arangodb.list"
   ]
  },
  {
   "cell_type": "markdown",
   "metadata": {},
   "source": [
    "### Paso4: Instalamos el paquete para transito de datos por https (esto es opcional ya que también se puede obtener por http pero así es más seguro)"
   ]
  },
  {
   "cell_type": "code",
   "execution_count": 11,
   "metadata": {
    "collapsed": false
   },
   "outputs": [
    {
     "name": "stdout",
     "output_type": "stream",
     "text": [
      "Reading package lists... Done\n",
      "Building dependency tree       \n",
      "Reading state information... Done\n",
      "apt-transport-https is already the newest version.\n",
      "0 upgraded, 0 newly installed, 0 to remove and 0 not upgraded.\n"
     ]
    }
   ],
   "source": [
    "!sudo apt-get install apt-transport-https"
   ]
  },
  {
   "cell_type": "markdown",
   "metadata": {},
   "source": [
    "### Paso 5: Actualizamos las fuentes de datos del sistema"
   ]
  },
  {
   "cell_type": "code",
   "execution_count": 12,
   "metadata": {
    "collapsed": false
   },
   "outputs": [
    {
     "name": "stdout",
     "output_type": "stream",
     "text": [
      "Hit http://archive.ubuntu.com wily InRelease\n",
      "Hit http://archive.ubuntu.com wily-updates InRelease\n",
      "Hit http://archive.ubuntu.com wily-backports InRelease\n",
      "Hit http://archive.ubuntu.com wily/main Sources\n",
      "Hit http://security.ubuntu.com wily-security InRelease\n",
      "Hit http://archive.ubuntu.com wily/restricted Sources\n",
      "Hit http://archive.ubuntu.com wily/universe Sources\n",
      "Hit http://archive.ubuntu.com wily/multiverse Sources\n",
      "Hit http://security.ubuntu.com wily-security/main Sources\n",
      "Hit http://archive.ubuntu.com wily/main amd64 Packages\n",
      "Hit http://archive.ubuntu.com wily/restricted amd64 Packages\n",
      "Hit http://archive.ubuntu.com wily/universe amd64 Packages\n",
      "Hit http://security.ubuntu.com wily-security/restricted Sources\n",
      "Hit http://archive.ubuntu.com wily/multiverse amd64 Packages\n",
      "Get:1 https://www.arangodb.com  InRelease [326 B]\n",
      "Ign https://www.arangodb.com  InRelease\n",
      "Hit http://archive.ubuntu.com wily/main Translation-en\n",
      "Hit http://archive.ubuntu.com wily/multiverse Translation-en\n",
      "Hit http://security.ubuntu.com wily-security/universe Sources\n",
      "Hit http://archive.ubuntu.com wily/restricted Translation-en\n",
      "Get:2 https://www.arangodb.com  Release.gpg [189 B]\n",
      "Hit http://archive.ubuntu.com wily/universe Translation-en\n",
      "Hit http://archive.ubuntu.com wily-updates/main Sources\n",
      "Hit http://security.ubuntu.com wily-security/multiverse Sources\n",
      "Hit https://www.arangodb.com  Release\n",
      "Hit http://archive.ubuntu.com wily-updates/restricted Sources\n",
      "Hit http://archive.ubuntu.com wily-updates/universe Sources\n",
      "Hit https://www.arangodb.com  Packages\n",
      "Hit http://security.ubuntu.com wily-security/main amd64 Packages\n",
      "Get:3 https://www.arangodb.com  Translation-en_US [326 B]\n",
      "Hit http://archive.ubuntu.com wily-updates/multiverse Sources\n",
      "Hit http://security.ubuntu.com wily-security/restricted amd64 Packages\n",
      "Hit http://archive.ubuntu.com wily-updates/main amd64 Packages\n",
      "Get:4 https://www.arangodb.com  Translation-en [323 B]\n",
      "Hit http://archive.ubuntu.com wily-updates/restricted amd64 Packages\n",
      "Hit http://archive.ubuntu.com wily-updates/universe amd64 Packages\n",
      "Get:5 https://www.arangodb.com  Translation-en_US [326 B]\n",
      "Hit http://security.ubuntu.com wily-security/universe amd64 Packages\n",
      "Hit http://archive.ubuntu.com wily-updates/multiverse amd64 Packages\n",
      "Hit http://archive.ubuntu.com wily-updates/main Translation-en\n",
      "Get:6 https://www.arangodb.com  Translation-en [323 B]\n",
      "Hit http://archive.ubuntu.com wily-updates/multiverse Translation-en\n",
      "Hit http://security.ubuntu.com wily-security/multiverse amd64 Packages\n",
      "Hit http://archive.ubuntu.com wily-updates/restricted Translation-en\n",
      "Get:7 https://www.arangodb.com  Translation-en_US [326 B]\n",
      "Hit http://archive.ubuntu.com wily-updates/universe Translation-en\n",
      "Hit http://archive.ubuntu.com wily-backports/main Sources\n",
      "Get:8 https://www.arangodb.com  Translation-en [323 B]\n",
      "Hit http://security.ubuntu.com wily-security/main Translation-en\n",
      "Hit http://archive.ubuntu.com wily-backports/restricted Sources\n",
      "Hit http://archive.ubuntu.com wily-backports/universe Sources\n",
      "Get:9 https://www.arangodb.com  Translation-en_US [326 B]\n",
      "Hit http://archive.ubuntu.com wily-backports/multiverse Sources\n",
      "Hit http://security.ubuntu.com wily-security/multiverse Translation-en\n",
      "Hit http://archive.ubuntu.com wily-backports/main amd64 Packages\n",
      "Get:10 https://www.arangodb.com  Translation-en [323 B]\n",
      "Hit http://archive.ubuntu.com wily-backports/restricted amd64 Packages\n",
      "Hit http://archive.ubuntu.com wily-backports/universe amd64 Packages\n",
      "Hit http://security.ubuntu.com wily-security/restricted Translation-en\n",
      "Get:11 https://www.arangodb.com  Translation-en_US [326 B]\n",
      "Ign https://www.arangodb.com  Translation-en_US\n",
      "Hit http://archive.ubuntu.com wily-backports/multiverse amd64 Packages\n",
      "Hit http://archive.ubuntu.com wily-backports/main Translation-en\n",
      "Get:12 https://www.arangodb.com  Translation-en [323 B]\n",
      "Ign https://www.arangodb.com  Translation-en\n",
      "Hit http://security.ubuntu.com wily-security/universe Translation-en\n",
      "Hit http://archive.ubuntu.com wily-backports/multiverse Translation-en\n",
      "Hit http://archive.ubuntu.com wily-backports/restricted Translation-en\n",
      "Hit http://archive.ubuntu.com wily-backports/universe Translation-en\n",
      "Fetched 189 B in 1s (110 B/s)\n",
      "Reading package lists... Done\n"
     ]
    }
   ],
   "source": [
    "!sudo apt-get update"
   ]
  },
  {
   "cell_type": "markdown",
   "metadata": {},
   "source": [
    "#### Paso 5bis: Podemos aprovechar para comprobar si al instalar nos ha inicializado el servicio de arango que por defecto suele hacerlo"
   ]
  },
  {
   "cell_type": "code",
   "execution_count": 40,
   "metadata": {
    "collapsed": false
   },
   "outputs": [
    {
     "name": "stdout",
     "output_type": "stream",
     "text": [
      "\u001b[1;32m●\u001b[0m arangodb3.service - LSB: arangodb\r\n",
      "   Loaded: loaded (/etc/init.d/arangodb3)\r\n",
      "   Active: \u001b[1;32mactive (running)\u001b[0m since Sun 2016-10-30 00:07:21 UTC; 35min ago\r\n",
      "     Docs: man:systemd-sysv-generator(8)\r\n",
      "   CGroup: /system.slice/arangodb3.service\r\n",
      "           ├─342 /usr/sbin/arangod --uid arangodb --gid arangodb --pid-file /...\r\n",
      "           └─343 /usr/sbin/arangod --uid arangodb --gid arangodb --pid-file /...\r\n"
     ]
    }
   ],
   "source": [
    "!service arangodb status"
   ]
  },
  {
   "cell_type": "code",
   "execution_count": null,
   "metadata": {
    "collapsed": true
   },
   "outputs": [],
   "source": [
    "#### Si no está inicializado podemos hacerlo usando..."
   ]
  },
  {
   "cell_type": "code",
   "execution_count": 42,
   "metadata": {
    "collapsed": false
   },
   "outputs": [
    {
     "name": "stdout",
     "output_type": "stream",
     "text": [
      "Starting arangodb3 (via systemctl): arangodb3.service.\n"
     ]
    }
   ],
   "source": [
    "!sudo /etc/init.d/arangodb3 start"
   ]
  },
  {
   "cell_type": "code",
   "execution_count": null,
   "metadata": {
    "collapsed": true
   },
   "outputs": [],
   "source": [
    "#### Si lo queremos parar..."
   ]
  },
  {
   "cell_type": "code",
   "execution_count": 41,
   "metadata": {
    "collapsed": false
   },
   "outputs": [
    {
     "name": "stdout",
     "output_type": "stream",
     "text": [
      "Stopping arangodb3 (via systemctl): arangodb3.service.\n"
     ]
    }
   ],
   "source": [
    "!sudo /etc/init.d/arangodb3 stop"
   ]
  },
  {
   "cell_type": "markdown",
   "metadata": {},
   "source": [
    "### Paso 6: Instalamos ArangoDB (Nos pedirá una contraseña para el usuario root así que mejor realizar la instalación desde el terminal)"
   ]
  },
  {
   "cell_type": "code",
   "execution_count": 35,
   "metadata": {
    "collapsed": false
   },
   "outputs": [],
   "source": [
    "##%%bash\n",
    "#sudo debconf-set-selections <<< 'arangodb3 arangodb3/password password admin' \n",
    "#sudo debconf-set-selections <<< 'arangodb3 arangodb3/password_again password admin'\n",
    "#He intentado una instalación no atendida mediante configurar debconf con los dos comandos anteriores comentados\n",
    "#pero después de hacer la instalación daba el siguiente error: \n",
    "### dpkg-preconfigure: unable to re-open stdin: No such file or directory\n",
    "#Así que mejor hacerlo desde la propia terminal, pero que conste que lo he intentado al menos xD\n",
    "#sudo apt-get -y install arangodb3=3.0.10"
   ]
  },
  {
   "cell_type": "markdown",
   "metadata": {},
   "source": [
    "### Paso 7: Instalamos el driver de pyArango mediante el repositorio de Python y Creamos una nueva base de datos (seguramente necesitemos reiniciar Python para que inicie el nuevo módulo instalado)"
   ]
  },
  {
   "cell_type": "code",
   "execution_count": 50,
   "metadata": {
    "collapsed": false
   },
   "outputs": [
    {
     "name": "stdout",
     "output_type": "stream",
     "text": [
      "Downloading/unpacking pyArango\n",
      "  Downloading pyArango-1.2.7.tar.gz\n",
      "  Running setup.py (path:/tmp/pip-build-6LXOBR/pyArango/setup.py) egg_info for package pyArango\n",
      "    \n",
      "Downloading/unpacking requests>=2.7.0 (from pyArango)\n",
      "  Downloading requests-2.11.1-py2.py3-none-any.whl (514kB): 514kB downloaded\n",
      "Downloading/unpacking future (from pyArango)\n",
      "  Downloading future-0.16.0.tar.gz (824kB): 824kB downloaded\n",
      "  Running setup.py (path:/tmp/pip-build-6LXOBR/future/setup.py) egg_info for package future\n",
      "    \n",
      "    warning: no files found matching '*.au' under directory 'tests'\n",
      "    warning: no files found matching '*.gif' under directory 'tests'\n",
      "    warning: no files found matching '*.txt' under directory 'tests'\n",
      "Installing collected packages: pyArango, requests, future\n",
      "  Running setup.py install for pyArango\n",
      "    \n",
      "    Installing sample script to /home/vagrant/.local/bin\n",
      "\u001b[33m  Could not find .egg-info directory in install record for pyArango\n",
      "\u001b[0m  Running setup.py install for future\n",
      "    \n",
      "    warning: no files found matching '*.au' under directory 'tests'\n",
      "    warning: no files found matching '*.gif' under directory 'tests'\n",
      "    warning: no files found matching '*.txt' under directory 'tests'\n",
      "    Installing pasteurize script to /home/vagrant/.local/bin\n",
      "    Installing futurize script to /home/vagrant/.local/bin\n",
      "\u001b[33m  Could not find .egg-info directory in install record for future (from pyArango)\n",
      "\u001b[0mSuccessfully installed pyArango requests future\n",
      "Cleaning up...\n"
     ]
    }
   ],
   "source": [
    "!pip install pyArango"
   ]
  },
  {
   "cell_type": "code",
   "execution_count": 3,
   "metadata": {
    "collapsed": false
   },
   "outputs": [
    {
     "data": {
      "text/plain": [
       "ArangoDB database: stackoverflow"
      ]
     },
     "execution_count": 3,
     "metadata": {},
     "output_type": "execute_result"
    }
   ],
   "source": [
    "from pyArango.connection import *\n",
    "conn = Connection(username=\"root\", password=\"admin\")\n",
    "#La conexión por defecto es a http://localhost:8529\n",
    "db = conn.createDatabase(name=\"stackoverflow\")\n",
    "db"
   ]
  },
  {
   "cell_type": "markdown",
   "metadata": {},
   "source": [
    "#### Paso 7bis: (Siguiendo desde el terminal) Creamos una nueva base de datos usando la herramienta arangosh"
   ]
  },
  {
   "cell_type": "code",
   "execution_count": 38,
   "metadata": {
    "collapsed": false
   },
   "outputs": [],
   "source": [
    "#arangosh\n",
    "#arangosh> db._createDatabase(\"bdge\");\n",
    "#arangosh> var users = require(\"@arangodb/users\");\n",
    "#arangosh> users.save(\"root@bdge\", \"admin\");\n",
    "#arangosh> users.grantDatabase(\"root@bdge\", \"bdge\");\n",
    "#quit"
   ]
  },
  {
   "cell_type": "markdown",
   "metadata": {},
   "source": [
    "#### Paso 7cis: Por último ya nos podemos conectar a nuestra base de datos desde terminal usando arangosh"
   ]
  },
  {
   "cell_type": "code",
   "execution_count": 39,
   "metadata": {
    "collapsed": false
   },
   "outputs": [],
   "source": [
    "#arangosh --server.username \"root@bdge\" --server.database bdge"
   ]
  },
  {
   "cell_type": "code",
   "execution_count": null,
   "metadata": {
    "collapsed": true
   },
   "outputs": [],
   "source": [
    "#ArangoDB también puede ser accedido mediante explorador web usando la dirección http://localhost:8529"
   ]
  },
  {
   "cell_type": "markdown",
   "metadata": {},
   "source": [
    "### Paso 8: Creamos las colecciones e Importamos los contenidos de los CSV "
   ]
  },
  {
   "cell_type": "code",
   "execution_count": 4,
   "metadata": {
    "collapsed": false
   },
   "outputs": [
    {
     "data": {
      "text/plain": [
       "ArangoDB collection name: posts, id: 44097, type: document, status: loaded"
      ]
     },
     "execution_count": 4,
     "metadata": {},
     "output_type": "execute_result"
    }
   ],
   "source": [
    "postsCollection = db.createCollection(name=\"posts\")\n",
    "postsCollection"
   ]
  },
  {
   "cell_type": "code",
   "execution_count": 5,
   "metadata": {
    "collapsed": false
   },
   "outputs": [
    {
     "name": "stdout",
     "output_type": "stream",
     "text": [
      "Ya descargado\n"
     ]
    }
   ],
   "source": [
    "%%bash\n",
    "(test -e /vagrant/Posts.csv && echo \"Ya descargado\") || (\\\n",
    "(wget http://neuromancer.inf.um.es:8080/es.stackoverflow/Posts.csv.gz -O - 2>/dev/null | gunzip > /vagrant/Posts.csv) \\\n",
    "  && echo OK)"
   ]
  },
  {
   "cell_type": "code",
   "execution_count": 6,
   "metadata": {
    "collapsed": false
   },
   "outputs": [
    {
     "name": "stdout",
     "output_type": "stream",
     "text": [
      "Connected to ArangoDB 'http+tcp://127.0.0.1:8529', version 3.0.10, database: 'stackoverflow', username: 'root'\n",
      "----------------------------------------\n",
      "database:               stackoverflow\n",
      "collection:             posts\n",
      "create:                 no\n",
      "source filename:        /vagrant/Posts.csv\n",
      "file type:              csv\n",
      "quote:                  \"\n",
      "separator:              \n",
      "connect timeout:        5\n",
      "request timeout:        1200\n",
      "----------------------------------------\n",
      "Starting CSV import...\n",
      "\n",
      "created:          17946\n",
      "warnings/errors:  0\n",
      "updated/replaced: 0\n",
      "ignored:          0\n",
      "lines read:       17947\n"
     ]
    },
    {
     "name": "stderr",
     "output_type": "stream",
     "text": [
      "2016-10-30T01:57:45Z [1678] INFO processed 917504 bytes (3%) of input file\n",
      "2016-10-30T01:57:45Z [1678] INFO processed 1835008 bytes (6%) of input file\n",
      "2016-10-30T01:57:45Z [1678] INFO processed 2752512 bytes (9%) of input file\n",
      "2016-10-30T01:57:45Z [1678] INFO processed 3670016 bytes (12%) of input file\n",
      "2016-10-30T01:57:45Z [1678] INFO processed 4587520 bytes (15%) of input file\n",
      "2016-10-30T01:57:45Z [1678] INFO processed 5505024 bytes (18%) of input file\n",
      "2016-10-30T01:57:45Z [1678] INFO processed 6422528 bytes (21%) of input file\n",
      "2016-10-30T01:57:45Z [1678] INFO processed 7340032 bytes (24%) of input file\n",
      "2016-10-30T01:57:45Z [1678] INFO processed 8257536 bytes (27%) of input file\n",
      "2016-10-30T01:57:45Z [1678] INFO processed 9175040 bytes (30%) of input file\n",
      "2016-10-30T01:57:45Z [1678] INFO processed 10092544 bytes (33%) of input file\n",
      "2016-10-30T01:57:45Z [1678] INFO processed 11010048 bytes (36%) of input file\n",
      "2016-10-30T01:57:45Z [1678] INFO processed 11927552 bytes (39%) of input file\n",
      "2016-10-30T01:57:45Z [1678] INFO processed 12812288 bytes (42%) of input file\n",
      "2016-10-30T01:57:45Z [1678] INFO processed 13729792 bytes (45%) of input file\n",
      "2016-10-30T01:57:45Z [1678] INFO processed 14647296 bytes (48%) of input file\n",
      "2016-10-30T01:57:45Z [1678] INFO processed 15564800 bytes (51%) of input file\n",
      "2016-10-30T01:57:45Z [1678] INFO processed 16482304 bytes (54%) of input file\n",
      "2016-10-30T01:57:45Z [1678] INFO processed 17399808 bytes (57%) of input file\n",
      "2016-10-30T01:57:45Z [1678] INFO processed 18317312 bytes (60%) of input file\n",
      "2016-10-30T01:57:45Z [1678] INFO processed 19234816 bytes (63%) of input file\n",
      "2016-10-30T01:57:45Z [1678] INFO processed 20152320 bytes (66%) of input file\n",
      "2016-10-30T01:57:45Z [1678] INFO processed 21069824 bytes (69%) of input file\n",
      "2016-10-30T01:57:45Z [1678] INFO processed 21987328 bytes (72%) of input file\n",
      "2016-10-30T01:57:45Z [1678] INFO processed 22904832 bytes (75%) of input file\n",
      "2016-10-30T01:57:45Z [1678] INFO processed 23822336 bytes (78%) of input file\n",
      "2016-10-30T01:57:45Z [1678] INFO processed 24739840 bytes (81%) of input file\n",
      "2016-10-30T01:57:45Z [1678] INFO processed 25624576 bytes (84%) of input file\n",
      "2016-10-30T01:57:45Z [1678] INFO processed 26542080 bytes (87%) of input file\n",
      "2016-10-30T01:57:45Z [1678] INFO processed 27459584 bytes (90%) of input file\n",
      "2016-10-30T01:57:45Z [1678] INFO processed 28377088 bytes (93%) of input file\n",
      "2016-10-30T01:57:45Z [1678] INFO processed 29294592 bytes (96%) of input file\n",
      "2016-10-30T01:57:45Z [1678] INFO processed 30212096 bytes (99%) of input file\n"
     ]
    }
   ],
   "source": [
    "%%bash\n",
    "arangoimp --server.database stackoverflow --collection posts --type csv \\\n",
    "   --overwrite --server.username root --server.password admin --file /vagrant/Posts.csv"
   ]
  },
  {
   "cell_type": "code",
   "execution_count": 9,
   "metadata": {
    "collapsed": false
   },
   "outputs": [
    {
     "data": {
      "text/plain": [
       "17946"
      ]
     },
     "execution_count": 9,
     "metadata": {},
     "output_type": "execute_result"
    }
   ],
   "source": [
    "postsCollection.count()"
   ]
  }
 ],
 "metadata": {
  "celltoolbar": "Raw Cell Format",
  "kernelspec": {
   "display_name": "Python 2",
   "language": "python",
   "name": "python2"
  },
  "language_info": {
   "codemirror_mode": {
    "name": "ipython",
    "version": 2
   },
   "file_extension": ".py",
   "mimetype": "text/x-python",
   "name": "python",
   "nbconvert_exporter": "python",
   "pygments_lexer": "ipython2",
   "version": "2.7.10"
  }
 },
 "nbformat": 4,
 "nbformat_minor": 1
}
