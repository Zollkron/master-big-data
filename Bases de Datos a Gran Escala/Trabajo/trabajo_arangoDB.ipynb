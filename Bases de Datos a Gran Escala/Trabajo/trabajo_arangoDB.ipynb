{
 "cells": [
  {
   "cell_type": "markdown",
   "metadata": {},
   "source": [
    "# Instalación de la base de datos ArangoDB"
   ]
  },
  {
   "cell_type": "markdown",
   "metadata": {},
   "source": [
    "### Paso 0: Antes de nada tenemos que comprobar la versión de sistema que estamos ejecutando en la máquina virtual y en consecuencia bajarnos los certificados y repositorios correctos"
   ]
  },
  {
   "cell_type": "code",
   "execution_count": 14,
   "metadata": {
    "collapsed": false
   },
   "outputs": [
    {
     "name": "stdout",
     "output_type": "stream",
     "text": [
      "Distributor ID:\tUbuntu\n",
      "Description:\tUbuntu 16.10\n",
      "Release:\t16.10\n",
      "Codename:\tyakkety\n"
     ]
    },
    {
     "name": "stderr",
     "output_type": "stream",
     "text": [
      "No LSB modules are available.\n"
     ]
    }
   ],
   "source": [
    "%%bash\n",
    "lsb_release -a"
   ]
  },
  {
   "cell_type": "markdown",
   "metadata": {},
   "source": [
    "En nuestro caso tenemos un sistema Ubuntu versión 15.10 así que nos bajamos los certificados y repositorios para esta versión en concreto."
   ]
  },
  {
   "cell_type": "markdown",
   "metadata": {},
   "source": [
    "### Paso 1: Obtenemos el certificado"
   ]
  },
  {
   "cell_type": "code",
   "execution_count": 15,
   "metadata": {
    "collapsed": false
   },
   "outputs": [
    {
     "name": "stderr",
     "output_type": "stream",
     "text": [
      "--2017-03-09 17:20:15--  https://www.arangodb.com/repositories/arangodb3/xUbuntu_16.10/Release.key\n",
      "Resolviendo www.arangodb.com (www.arangodb.com)... 85.214.140.94\n",
      "Conectando con www.arangodb.com (www.arangodb.com)[85.214.140.94]:443... conectado.\n",
      "Petición HTTP enviada, esperando respuesta... 404 Not Found\n",
      "2017-03-09 17:20:15 ERROR 404: Not Found.\n",
      "\n"
     ]
    }
   ],
   "source": [
    "%%bash\n",
    "wget https://www.arangodb.com/repositories/arangodb3/xUbuntu_16.10/Release.key"
   ]
  },
  {
   "cell_type": "markdown",
   "metadata": {},
   "source": [
    "### Paso 2: Añaidmos el certificado"
   ]
  },
  {
   "cell_type": "code",
   "execution_count": 10,
   "metadata": {
    "collapsed": false
   },
   "outputs": [
    {
     "name": "stdout",
     "output_type": "stream",
     "text": [
      "OK\r\n"
     ]
    }
   ],
   "source": [
    "!sudo apt-key add Release.key"
   ]
  },
  {
   "cell_type": "markdown",
   "metadata": {},
   "source": [
    "### Paso 3: Añadimos la nueva fuente"
   ]
  },
  {
   "cell_type": "code",
   "execution_count": 11,
   "metadata": {
    "collapsed": false
   },
   "outputs": [
    {
     "name": "stdout",
     "output_type": "stream",
     "text": [
      "deb https://www.arangodb.com/repositories/arangodb3/xUbuntu_16.04/ /\n"
     ]
    }
   ],
   "source": [
    "%%bash\n",
    "echo 'deb https://www.arangodb.com/repositories/arangodb3/xUbuntu_16.10/ /' | sudo tee /etc/apt/sources.list.d/arangodb.list"
   ]
  },
  {
   "cell_type": "markdown",
   "metadata": {},
   "source": [
    "### Paso4: Instalamos el paquete para transito de datos por https (esto es opcional ya que también se puede obtener por http pero así es más seguro)"
   ]
  },
  {
   "cell_type": "code",
   "execution_count": 12,
   "metadata": {
    "collapsed": false
   },
   "outputs": [
    {
     "name": "stdout",
     "output_type": "stream",
     "text": [
      "Leyendo lista de paquetes... Hecho\n",
      "Creando árbol de dependencias       \n",
      "Leyendo la información de estado... Hecho\n",
      "apt-transport-https ya está en su versión más reciente (1.3.4).\n",
      "0 actualizados, 0 nuevos se instalarán, 0 para eliminar y 48 no actualizados.\n"
     ]
    }
   ],
   "source": [
    "!sudo apt-get install apt-transport-https"
   ]
  },
  {
   "cell_type": "markdown",
   "metadata": {},
   "source": [
    "### Paso 5: Actualizamos las fuentes de datos del sistema"
   ]
  },
  {
   "cell_type": "code",
   "execution_count": 13,
   "metadata": {
    "collapsed": false
   },
   "outputs": [
    {
     "name": "stdout",
     "output_type": "stream",
     "text": [
      "Obj:1 http://cran.rstudio.com/bin/linux/ubuntu xenial/ InRelease\n",
      "Obj:2 http://cran.rstudio.com/bin/linux/ubuntu yakkety/ InRelease              \n",
      "Des:3 http://security.ubuntu.com/ubuntu yakkety-security InRelease [102 kB]    \n",
      "Ign:4 https://www.arangodb.com/repositories/arangodb3/xUbuntu_16.04  InRelease \n",
      "Des:5 https://www.arangodb.com/repositories/arangodb3/xUbuntu_16.04  Release [1.009 B]\n",
      "Des:6 https://www.arangodb.com/repositories/arangodb3/xUbuntu_16.04  Release.gpg [189 B]\n",
      "Obj:7 http://es.archive.ubuntu.com/ubuntu yakkety InRelease                    \n",
      "Des:8 http://es.archive.ubuntu.com/ubuntu yakkety-updates InRelease [102 kB]   \n",
      "Ign:6 https://www.arangodb.com/repositories/arangodb3/xUbuntu_16.04  Release.gpg\n",
      "Des:9 http://es.archive.ubuntu.com/ubuntu yakkety-backports InRelease [102 kB]\n",
      "Des:10 https://www.arangodb.com/repositories/arangodb3/xUbuntu_16.04  Packages [1.092 B]\n",
      "Descargados 309 kB en 2s (119 kB/s)                          \n",
      "Leyendo lista de paquetes... Hecho\n",
      "W: https://www.arangodb.com/repositories/arangodb3/xUbuntu_16.04/Release.gpg: Signature by key 4497DA50FBD0158CCFD1996CEE611E131C42E360 uses weak digest algorithm (SHA1)\n",
      "W: Error de GPG: https://www.arangodb.com/repositories/arangodb3/xUbuntu_16.04  Release: Las siguientes firmas no fueron válidas: EXPKEYSIG EE611E131C42E360 home:fceller OBS Project <home:fceller@build.opensuse.org>\n",
      "W: El repositorio «https://www.arangodb.com/repositories/arangodb3/xUbuntu_16.04  Release» no está firmado.\n",
      "N: Los datos de un repositorio como este no se pueden autenticar y por tanto su uso es potencialmente peligroso.\n",
      "N: Vea la página de manual apt-secure(8) para los detalles sobre la creación de repositorios y la configuración de usuarios.\n"
     ]
    }
   ],
   "source": [
    "!sudo apt-get update"
   ]
  },
  {
   "cell_type": "markdown",
   "metadata": {},
   "source": [
    "#### Paso 5bis: Podemos aprovechar para comprobar si al instalar nos ha inicializado el servicio de arango que por defecto suele hacerlo"
   ]
  },
  {
   "cell_type": "code",
   "execution_count": 16,
   "metadata": {
    "collapsed": false
   },
   "outputs": [
    {
     "name": "stdout",
     "output_type": "stream",
     "text": [
      "\u001b[0;1;32m●\u001b[0m arangodb3.service - LSB: arangodb\r\n",
      "   Loaded: loaded (/etc/init.d/arangodb3; generated; vendor preset: enabled)\r\n",
      "   Active: \u001b[0;1;32mactive (running)\u001b[0m since jue 2017-03-09 17:24:31 CET; 30s ago\r\n",
      "     Docs: man:systemd-sysv-generator(8)\r\n",
      "   CGroup: /system.slice/arangodb3.service\r\n",
      "           ├─4627 /usr/sbin/arangod --uid arangodb --gid arangodb --pid-file ...\r\n",
      "           └─4628 /usr/sbin/arangod --uid arangodb --gid arangodb --pid-file ...\r\n",
      "\r\n",
      "mar 09 17:24:29 hp-notebook systemd[1]: Starting LSB: arangodb...\r\n",
      "mar 09 17:24:29 hp-notebook arangodb3[4582]:  * Starting arango database ser...d\r\n",
      "mar 09 17:24:31 hp-notebook arangodb3[4582]: {startup} starting up in daemon...e\r\n",
      "mar 09 17:24:31 hp-notebook arangodb3[4582]: changed working directory for c...'\r\n",
      "mar 09 17:24:31 hp-notebook arangodb3[4582]:    ...done.\r\n",
      "mar 09 17:24:31 hp-notebook systemd[1]: Started LSB: arangodb.\r\n",
      "Hint: Some lines were ellipsized, use -l to show in full.\r\n"
     ]
    }
   ],
   "source": [
    "!service arangodb status"
   ]
  },
  {
   "cell_type": "code",
   "execution_count": null,
   "metadata": {
    "collapsed": true
   },
   "outputs": [],
   "source": [
    "#### Si no está inicializado podemos hacerlo usando..."
   ]
  },
  {
   "cell_type": "code",
   "execution_count": 3,
   "metadata": {
    "collapsed": false
   },
   "outputs": [
    {
     "name": "stdout",
     "output_type": "stream",
     "text": [
      "Starting arangodb3 (via systemctl): arangodb3.service.\r\n"
     ]
    }
   ],
   "source": [
    "!sudo /etc/init.d/arangodb3 start"
   ]
  },
  {
   "cell_type": "code",
   "execution_count": null,
   "metadata": {
    "collapsed": true
   },
   "outputs": [],
   "source": [
    "#### Si lo queremos parar..."
   ]
  },
  {
   "cell_type": "code",
   "execution_count": 41,
   "metadata": {
    "collapsed": false
   },
   "outputs": [
    {
     "name": "stdout",
     "output_type": "stream",
     "text": [
      "Stopping arangodb3 (via systemctl): arangodb3.service.\n"
     ]
    }
   ],
   "source": [
    "!sudo /etc/init.d/arangodb3 stop"
   ]
  },
  {
   "cell_type": "markdown",
   "metadata": {},
   "source": [
    "### Paso 6: Instalamos ArangoDB (Nos pedirá una contraseña para el usuario root así que mejor realizar la instalación desde el terminal)"
   ]
  },
  {
   "cell_type": "code",
   "execution_count": 35,
   "metadata": {
    "collapsed": false
   },
   "outputs": [],
   "source": [
    "##%%bash\n",
    "#sudo debconf-set-selections <<< 'arangodb3 arangodb3/password password admin' \n",
    "#sudo debconf-set-selections <<< 'arangodb3 arangodb3/password_again password admin'\n",
    "#He intentado una instalación no atendida mediante configurar debconf con los dos comandos anteriores comentados\n",
    "#pero después de hacer la instalación daba el siguiente error: \n",
    "### dpkg-preconfigure: unable to re-open stdin: No such file or directory\n",
    "#Así que mejor hacerlo desde la propia terminal, pero que conste que lo he intentado al menos xD\n",
    "#sudo apt-get -y install arangodb3=3.0.10"
   ]
  },
  {
   "cell_type": "markdown",
   "metadata": {},
   "source": [
    "### Paso 7: Instalamos el driver de pyArango mediante el repositorio de Python y Creamos una nueva base de datos (seguramente necesitemos reiniciar Python para que inicie el nuevo módulo instalado)"
   ]
  },
  {
   "cell_type": "code",
   "execution_count": 17,
   "metadata": {
    "collapsed": false
   },
   "outputs": [
    {
     "name": "stdout",
     "output_type": "stream",
     "text": [
      "Collecting pyArango\n",
      "  Downloading pyArango-1.2.8.tar.gz\n",
      "Requirement already satisfied: requests>=2.7.0 in /home/moises/anaconda2/lib/python2.7/site-packages (from pyArango)\n",
      "Collecting future (from pyArango)\n",
      "  Downloading future-0.16.0.tar.gz (824kB)\n",
      "\u001b[K    100% |████████████████████████████████| 829kB 355kB/s ta 0:00:01\n",
      "\u001b[?25hBuilding wheels for collected packages: pyArango, future\n",
      "  Running setup.py bdist_wheel for pyArango ... \u001b[?25l-\b \b\\\b \b|\b \bdone\n",
      "\u001b[?25h  Stored in directory: /home/moises/.cache/pip/wheels/eb/f2/83/27c96837fe8bebff4e9142bc06ca2be57a477f3029118edaa6\n",
      "  Running setup.py bdist_wheel for future ... \u001b[?25l-\b \b\\\b \b|\b \b/\b \b-\b \b\\\b \b|\b \b/\b \b-\b \bdone\n",
      "\u001b[?25h  Stored in directory: /home/moises/.cache/pip/wheels/c2/50/7c/0d83b4baac4f63ff7a765bd16390d2ab43c93587fac9d6017a\n",
      "Successfully built pyArango future\n",
      "Installing collected packages: future, pyArango\n",
      "Successfully installed future-0.16.0 pyArango-1.2.8\n"
     ]
    }
   ],
   "source": [
    "!pip install pyArango"
   ]
  },
  {
   "cell_type": "code",
   "execution_count": 12,
   "metadata": {
    "collapsed": false
   },
   "outputs": [
    {
     "data": {
      "text/plain": [
       "ArangoDB database: stackoverflow"
      ]
     },
     "execution_count": 12,
     "metadata": {},
     "output_type": "execute_result"
    }
   ],
   "source": [
    "from pyArango.connection import *\n",
    "conn = Connection(username=\"root\", password=\"\") #Según la instalación a veces no tiene contraseña o es 'admin'\n",
    "#La conexión por defecto es a http://localhost:8529\n",
    "if not conn.hasDatabase(name=\"stackoverflow\"):\n",
    "    db = conn.createDatabase(name=\"stackoverflow\")\n",
    "else:\n",
    "    db = conn.__getitem__(dbName=\"stackoverflow\")\n",
    "db"
   ]
  },
  {
   "cell_type": "markdown",
   "metadata": {},
   "source": [
    "#### Paso 7bis: (Siguiendo desde el terminal) Creamos una nueva base de datos usando la herramienta arangosh"
   ]
  },
  {
   "cell_type": "code",
   "execution_count": 38,
   "metadata": {
    "collapsed": false
   },
   "outputs": [],
   "source": [
    "#arangosh\n",
    "#arangosh> db._createDatabase(\"stackoverflow\"\");\n",
    "#arangosh> var users = require(\"@arangodb/users\");\n",
    "#arangosh> users.save(\"root@stackoverflow\"\", \"\");\n",
    "#arangosh> users.grantDatabase(\"root@stackoverflow\"\", \"\");\n",
    "#quit"
   ]
  },
  {
   "cell_type": "markdown",
   "metadata": {},
   "source": [
    "#### Paso 7cis: Por último ya nos podemos conectar a nuestra base de datos desde terminal usando arangosh"
   ]
  },
  {
   "cell_type": "code",
   "execution_count": 39,
   "metadata": {
    "collapsed": false
   },
   "outputs": [],
   "source": [
    "#arangosh --server.username \"root@stackoverflow\"\" --server.database bdge"
   ]
  },
  {
   "cell_type": "code",
   "execution_count": null,
   "metadata": {
    "collapsed": true
   },
   "outputs": [],
   "source": [
    "#ArangoDB también puede ser accedido mediante explorador web usando la dirección http://localhost:8529"
   ]
  },
  {
   "cell_type": "markdown",
   "metadata": {},
   "source": [
    "# Carga de los datos"
   ]
  },
  {
   "cell_type": "markdown",
   "metadata": {},
   "source": [
    "## Creación de las Colecciones (Parte documental de Arango) "
   ]
  },
  {
   "cell_type": "code",
   "execution_count": 5,
   "metadata": {
    "collapsed": false
   },
   "outputs": [
    {
     "data": {
      "text/plain": [
       "ArangoDB collection name: posts, id: 1194, type: document, status: loaded"
      ]
     },
     "execution_count": 5,
     "metadata": {},
     "output_type": "execute_result"
    }
   ],
   "source": [
    "postsCollection = db.createCollection(name=\"posts\")\n",
    "postsCollection"
   ]
  },
  {
   "cell_type": "code",
   "execution_count": 12,
   "metadata": {
    "collapsed": false
   },
   "outputs": [
    {
     "name": "stdout",
     "output_type": "stream",
     "text": [
      "Ya descargado\n"
     ]
    }
   ],
   "source": [
    "%%bash\n",
    "(test -e ./Posts.csv && echo \"Ya descargado\") || (\\\n",
    "(wget http://neuromancer.inf.um.es:8080/es.stackoverflow/Posts.csv.gz -O - 2>/dev/null | gunzip > ./Posts.csv) \\\n",
    "  && echo OK)"
   ]
  },
  {
   "cell_type": "code",
   "execution_count": 10,
   "metadata": {
    "collapsed": false,
    "scrolled": true
   },
   "outputs": [
    {
     "name": "stdout",
     "output_type": "stream",
     "text": [
      "Connected to ArangoDB 'http+tcp://127.0.0.1:8529', version 3.1.13, database: 'stackoverflow', username: 'root'\n",
      "----------------------------------------\n",
      "database:               stackoverflow\n",
      "collection:             posts\n",
      "create:                 no\n",
      "source filename:        ./Posts.csv\n",
      "file type:              csv\n",
      "quote:                  \"\n",
      "separator:              \n",
      "connect timeout:        5\n",
      "request timeout:        1200\n",
      "----------------------------------------\n",
      "Starting CSV import...\n",
      "\n",
      "created:          17946\n",
      "warnings/errors:  0\n",
      "updated/replaced: 0\n",
      "ignored:          0\n",
      "lines read:       17948\n"
     ]
    },
    {
     "name": "stderr",
     "output_type": "stream",
     "text": [
      "2017-03-09T16:49:35Z [5502] INFO processed 917504 bytes (3%) of input file\n",
      "2017-03-09T16:49:35Z [5502] INFO processed 1835008 bytes (6%) of input file\n",
      "2017-03-09T16:49:35Z [5502] INFO processed 2752512 bytes (9%) of input file\n",
      "2017-03-09T16:49:35Z [5502] INFO processed 3670016 bytes (12%) of input file\n",
      "2017-03-09T16:49:35Z [5502] INFO processed 4587520 bytes (15%) of input file\n",
      "2017-03-09T16:49:35Z [5502] INFO processed 5505024 bytes (18%) of input file\n",
      "2017-03-09T16:49:35Z [5502] INFO processed 6422528 bytes (21%) of input file\n",
      "2017-03-09T16:49:35Z [5502] INFO processed 7340032 bytes (24%) of input file\n",
      "2017-03-09T16:49:35Z [5502] INFO processed 8257536 bytes (27%) of input file\n",
      "2017-03-09T16:49:35Z [5502] INFO processed 9175040 bytes (30%) of input file\n",
      "2017-03-09T16:49:35Z [5502] INFO processed 10092544 bytes (33%) of input file\n",
      "2017-03-09T16:49:35Z [5502] INFO processed 11010048 bytes (36%) of input file\n",
      "2017-03-09T16:49:35Z [5502] INFO processed 11927552 bytes (39%) of input file\n",
      "2017-03-09T16:49:35Z [5502] INFO processed 12812288 bytes (42%) of input file\n",
      "2017-03-09T16:49:35Z [5502] INFO processed 13729792 bytes (45%) of input file\n",
      "2017-03-09T16:49:35Z [5502] INFO processed 14647296 bytes (48%) of input file\n",
      "2017-03-09T16:49:35Z [5502] INFO processed 15564800 bytes (51%) of input file\n",
      "2017-03-09T16:49:36Z [5502] INFO processed 16482304 bytes (54%) of input file\n",
      "2017-03-09T16:49:36Z [5502] INFO processed 17399808 bytes (57%) of input file\n",
      "2017-03-09T16:49:36Z [5502] INFO processed 18317312 bytes (60%) of input file\n",
      "2017-03-09T16:49:36Z [5502] INFO processed 19234816 bytes (63%) of input file\n",
      "2017-03-09T16:49:36Z [5502] INFO processed 20152320 bytes (66%) of input file\n",
      "2017-03-09T16:49:36Z [5502] INFO processed 21069824 bytes (69%) of input file\n",
      "2017-03-09T16:49:36Z [5502] INFO processed 21987328 bytes (72%) of input file\n",
      "2017-03-09T16:49:36Z [5502] INFO processed 22904832 bytes (75%) of input file\n",
      "2017-03-09T16:49:36Z [5502] INFO processed 23822336 bytes (78%) of input file\n",
      "2017-03-09T16:49:36Z [5502] INFO processed 24739840 bytes (81%) of input file\n",
      "2017-03-09T16:49:36Z [5502] INFO processed 25624576 bytes (84%) of input file\n",
      "2017-03-09T16:49:36Z [5502] INFO processed 26542080 bytes (87%) of input file\n",
      "2017-03-09T16:49:36Z [5502] INFO processed 27459584 bytes (90%) of input file\n",
      "2017-03-09T16:49:36Z [5502] INFO processed 28377088 bytes (93%) of input file\n",
      "2017-03-09T16:49:36Z [5502] INFO processed 29294592 bytes (96%) of input file\n",
      "2017-03-09T16:49:36Z [5502] INFO processed 30212096 bytes (99%) of input file\n"
     ]
    }
   ],
   "source": [
    "%%bash\n",
    "arangoimp --server.database stackoverflow --collection posts --type csv \\\n",
    "   --overwrite --server.username root --server.password '' --file ./Posts.csv"
   ]
  },
  {
   "cell_type": "code",
   "execution_count": 13,
   "metadata": {
    "collapsed": false
   },
   "outputs": [
    {
     "data": {
      "text/plain": [
       "17946"
      ]
     },
     "execution_count": 13,
     "metadata": {},
     "output_type": "execute_result"
    }
   ],
   "source": [
    "postsCollection.count()"
   ]
  },
  {
   "cell_type": "code",
   "execution_count": 14,
   "metadata": {
    "collapsed": false
   },
   "outputs": [
    {
     "data": {
      "text/plain": [
       "ArangoDB collection name: users, id: 38373, type: document, status: loaded"
      ]
     },
     "execution_count": 14,
     "metadata": {},
     "output_type": "execute_result"
    }
   ],
   "source": [
    "usersCollection = db.createCollection(name=\"users\")\n",
    "usersCollection"
   ]
  },
  {
   "cell_type": "code",
   "execution_count": 15,
   "metadata": {
    "collapsed": false
   },
   "outputs": [
    {
     "name": "stdout",
     "output_type": "stream",
     "text": [
      "OK\n"
     ]
    }
   ],
   "source": [
    "%%bash\n",
    "(test -e ./Users.csv && echo \"Ya descargado\") || (\\\n",
    "(wget http://neuromancer.inf.um.es:8080/es.stackoverflow/Users.csv.gz -O - 2>/dev/null | gunzip > ./Users.csv) \\\n",
    "  && echo OK)"
   ]
  },
  {
   "cell_type": "code",
   "execution_count": 16,
   "metadata": {
    "collapsed": false
   },
   "outputs": [
    {
     "name": "stdout",
     "output_type": "stream",
     "text": [
      "Connected to ArangoDB 'http+tcp://127.0.0.1:8529', version 3.1.13, database: 'stackoverflow', username: 'root'\n",
      "----------------------------------------\n",
      "database:               stackoverflow\n",
      "collection:             users\n",
      "create:                 no\n",
      "source filename:        ./Users.csv\n",
      "file type:              csv\n",
      "quote:                  \"\n",
      "separator:              \n",
      "connect timeout:        5\n",
      "request timeout:        1200\n",
      "----------------------------------------\n",
      "Starting CSV import...\n",
      "\n",
      "created:          10930\n",
      "warnings/errors:  0\n",
      "updated/replaced: 0\n",
      "ignored:          0\n",
      "lines read:       10932\n"
     ]
    },
    {
     "name": "stderr",
     "output_type": "stream",
     "text": [
      "2017-03-09T17:08:42Z [9424] INFO processed 98304 bytes (3%) of input file\n",
      "2017-03-09T17:08:42Z [9424] INFO processed 196608 bytes (7%) of input file\n",
      "2017-03-09T17:08:42Z [9424] INFO processed 294912 bytes (11%) of input file\n",
      "2017-03-09T17:08:42Z [9424] INFO processed 360448 bytes (15%) of input file\n",
      "2017-03-09T17:08:42Z [9424] INFO processed 458752 bytes (18%) of input file\n",
      "2017-03-09T17:08:42Z [9424] INFO processed 557056 bytes (22%) of input file\n",
      "2017-03-09T17:08:42Z [9424] INFO processed 622592 bytes (26%) of input file\n",
      "2017-03-09T17:08:42Z [9424] INFO processed 720896 bytes (29%) of input file\n",
      "2017-03-09T17:08:42Z [9424] INFO processed 819200 bytes (33%) of input file\n",
      "2017-03-09T17:08:42Z [9424] INFO processed 884736 bytes (37%) of input file\n",
      "2017-03-09T17:08:42Z [9424] INFO processed 983040 bytes (40%) of input file\n",
      "2017-03-09T17:08:42Z [9424] INFO processed 1081344 bytes (44%) of input file\n",
      "2017-03-09T17:08:42Z [9424] INFO processed 1179648 bytes (48%) of input file\n",
      "2017-03-09T17:08:42Z [9424] INFO processed 1245184 bytes (52%) of input file\n",
      "2017-03-09T17:08:42Z [9424] INFO processed 1343488 bytes (55%) of input file\n",
      "2017-03-09T17:08:42Z [9424] INFO processed 1441792 bytes (59%) of input file\n",
      "2017-03-09T17:08:42Z [9424] INFO processed 1507328 bytes (63%) of input file\n",
      "2017-03-09T17:08:42Z [9424] INFO processed 1605632 bytes (66%) of input file\n",
      "2017-03-09T17:08:42Z [9424] INFO processed 1703936 bytes (70%) of input file\n",
      "2017-03-09T17:08:42Z [9424] INFO processed 1769472 bytes (74%) of input file\n",
      "2017-03-09T17:08:42Z [9424] INFO processed 1867776 bytes (77%) of input file\n",
      "2017-03-09T17:08:42Z [9424] INFO processed 1966080 bytes (81%) of input file\n",
      "2017-03-09T17:08:43Z [9424] INFO processed 2031616 bytes (85%) of input file\n",
      "2017-03-09T17:08:43Z [9424] INFO processed 2129920 bytes (88%) of input file\n",
      "2017-03-09T17:08:43Z [9424] INFO processed 2228224 bytes (92%) of input file\n",
      "2017-03-09T17:08:43Z [9424] INFO processed 2326528 bytes (96%) of input file\n",
      "2017-03-09T17:08:43Z [9424] INFO processed 2389430 bytes (100%) of input file\n"
     ]
    }
   ],
   "source": [
    "%%bash\n",
    "arangoimp --server.database stackoverflow --collection users --type csv \\\n",
    "   --overwrite --server.username root --server.password '' --file ./Users.csv"
   ]
  },
  {
   "cell_type": "code",
   "execution_count": 17,
   "metadata": {
    "collapsed": false,
    "scrolled": true
   },
   "outputs": [
    {
     "data": {
      "text/plain": [
       "10930"
      ]
     },
     "execution_count": 17,
     "metadata": {},
     "output_type": "execute_result"
    }
   ],
   "source": [
    "usersCollection.count()"
   ]
  },
  {
   "cell_type": "code",
   "execution_count": 13,
   "metadata": {
    "collapsed": false
   },
   "outputs": [
    {
     "data": {
      "text/plain": [
       "ArangoDB collection name: tags, id: 74074, type: document, status: loaded"
      ]
     },
     "execution_count": 13,
     "metadata": {},
     "output_type": "execute_result"
    }
   ],
   "source": [
    "tagsCollection = db.createCollection(name=\"tags\")\n",
    "tagsCollection"
   ]
  },
  {
   "cell_type": "code",
   "execution_count": 14,
   "metadata": {
    "collapsed": false
   },
   "outputs": [
    {
     "name": "stdout",
     "output_type": "stream",
     "text": [
      "OK\n"
     ]
    }
   ],
   "source": [
    "%%bash\n",
    "(test -e ./Tags.csv && echo \"Ya descargado\") || (\\\n",
    "(wget http://neuromancer.inf.um.es:8080/es.stackoverflow/Tags.csv.gz -O - 2>/dev/null | gunzip > ./Tags.csv) \\\n",
    "  && echo OK)"
   ]
  },
  {
   "cell_type": "code",
   "execution_count": 17,
   "metadata": {
    "collapsed": false
   },
   "outputs": [
    {
     "name": "stdout",
     "output_type": "stream",
     "text": [
      "Connected to ArangoDB 'http+tcp://127.0.0.1:8529', version 3.1.13, database: 'stackoverflow', username: 'root'\n",
      "----------------------------------------\n",
      "database:               stackoverflow\n",
      "collection:             tags\n",
      "create:                 no\n",
      "source filename:        ./Tags.csv\n",
      "file type:              csv\n",
      "quote:                  \"\n",
      "separator:              \n",
      "connect timeout:        5\n",
      "request timeout:        1200\n",
      "----------------------------------------\n",
      "Starting CSV import...\n",
      "\n",
      "created:          873\n",
      "warnings/errors:  0\n",
      "updated/replaced: 0\n",
      "ignored:          0\n",
      "lines read:       875\n"
     ]
    },
    {
     "name": "stderr",
     "output_type": "stream",
     "text": [
      "2017-03-09T20:08:54Z [2197] INFO processed 21831 bytes (3%) of input file\n"
     ]
    }
   ],
   "source": [
    "%%bash\n",
    "arangoimp --server.database stackoverflow --collection tags --type csv \\\n",
    "   --overwrite --server.username root --server.password '' --file ./Tags.csv"
   ]
  },
  {
   "cell_type": "code",
   "execution_count": 18,
   "metadata": {
    "collapsed": false,
    "scrolled": true
   },
   "outputs": [
    {
     "data": {
      "text/plain": [
       "873"
      ]
     },
     "execution_count": 18,
     "metadata": {},
     "output_type": "execute_result"
    }
   ],
   "source": [
    "tagsCollection.count()"
   ]
  },
  {
   "cell_type": "code",
   "execution_count": 19,
   "metadata": {
    "collapsed": false
   },
   "outputs": [
    {
     "data": {
      "text/plain": [
       "ArangoDB collection name: votes, id: 78708, type: document, status: loaded"
      ]
     },
     "execution_count": 19,
     "metadata": {},
     "output_type": "execute_result"
    }
   ],
   "source": [
    "votesCollection = db.createCollection(name=\"votes\")\n",
    "votesCollection"
   ]
  },
  {
   "cell_type": "code",
   "execution_count": 20,
   "metadata": {
    "collapsed": false
   },
   "outputs": [
    {
     "name": "stdout",
     "output_type": "stream",
     "text": [
      "OK\n"
     ]
    }
   ],
   "source": [
    "%%bash\n",
    "(test -e ./Votes.csv && echo \"Ya descargado\") || (\\\n",
    "(wget http://neuromancer.inf.um.es:8080/es.stackoverflow/Votes.csv.gz -O - 2>/dev/null | gunzip > ./Votes.csv) \\\n",
    "  && echo OK)"
   ]
  },
  {
   "cell_type": "code",
   "execution_count": 21,
   "metadata": {
    "collapsed": false
   },
   "outputs": [
    {
     "name": "stdout",
     "output_type": "stream",
     "text": [
      "Connected to ArangoDB 'http+tcp://127.0.0.1:8529', version 3.1.13, database: 'stackoverflow', username: 'root'\n",
      "----------------------------------------\n",
      "database:               stackoverflow\n",
      "collection:             votes\n",
      "create:                 no\n",
      "source filename:        ./Votes.csv\n",
      "file type:              csv\n",
      "quote:                  \"\n",
      "separator:              \n",
      "connect timeout:        5\n",
      "request timeout:        1200\n",
      "----------------------------------------\n",
      "Starting CSV import...\n",
      "\n",
      "created:          40655\n",
      "warnings/errors:  0\n",
      "updated/replaced: 0\n",
      "ignored:          0\n",
      "lines read:       40657\n"
     ]
    },
    {
     "name": "stderr",
     "output_type": "stream",
     "text": [
      "2017-03-09T20:11:19Z [2212] INFO processed 65536 bytes (3%) of input file\n",
      "2017-03-09T20:11:19Z [2212] INFO processed 131072 bytes (7%) of input file\n",
      "2017-03-09T20:11:19Z [2212] INFO processed 196608 bytes (11%) of input file\n",
      "2017-03-09T20:11:19Z [2212] INFO processed 262144 bytes (15%) of input file\n",
      "2017-03-09T20:11:19Z [2212] INFO processed 327680 bytes (19%) of input file\n",
      "2017-03-09T20:11:19Z [2212] INFO processed 393216 bytes (23%) of input file\n",
      "2017-03-09T20:11:19Z [2212] INFO processed 458752 bytes (27%) of input file\n",
      "2017-03-09T20:11:19Z [2212] INFO processed 524288 bytes (31%) of input file\n",
      "2017-03-09T20:11:19Z [2212] INFO processed 589824 bytes (35%) of input file\n",
      "2017-03-09T20:11:19Z [2212] INFO processed 655360 bytes (39%) of input file\n",
      "2017-03-09T20:11:19Z [2212] INFO processed 720896 bytes (43%) of input file\n",
      "2017-03-09T20:11:19Z [2212] INFO processed 786432 bytes (47%) of input file\n",
      "2017-03-09T20:11:19Z [2212] INFO processed 851968 bytes (51%) of input file\n",
      "2017-03-09T20:11:19Z [2212] INFO processed 917504 bytes (55%) of input file\n",
      "2017-03-09T20:11:19Z [2212] INFO processed 983040 bytes (59%) of input file\n",
      "2017-03-09T20:11:19Z [2212] INFO processed 1048576 bytes (63%) of input file\n",
      "2017-03-09T20:11:19Z [2212] INFO processed 1114112 bytes (67%) of input file\n",
      "2017-03-09T20:11:19Z [2212] INFO processed 1179648 bytes (71%) of input file\n",
      "2017-03-09T20:11:19Z [2212] INFO processed 1245184 bytes (75%) of input file\n",
      "2017-03-09T20:11:19Z [2212] INFO processed 1310720 bytes (79%) of input file\n",
      "2017-03-09T20:11:19Z [2212] INFO processed 1376256 bytes (83%) of input file\n",
      "2017-03-09T20:11:19Z [2212] INFO processed 1441792 bytes (87%) of input file\n",
      "2017-03-09T20:11:19Z [2212] INFO processed 1507328 bytes (91%) of input file\n",
      "2017-03-09T20:11:19Z [2212] INFO processed 1572864 bytes (95%) of input file\n",
      "2017-03-09T20:11:19Z [2212] INFO processed 1636248 bytes (99%) of input file\n"
     ]
    }
   ],
   "source": [
    "%%bash\n",
    "arangoimp --server.database stackoverflow --collection votes --type csv \\\n",
    "   --overwrite --server.username root --server.password '' --file ./Votes.csv"
   ]
  },
  {
   "cell_type": "code",
   "execution_count": 22,
   "metadata": {
    "collapsed": false
   },
   "outputs": [
    {
     "data": {
      "text/plain": [
       "40655"
      ]
     },
     "execution_count": 22,
     "metadata": {},
     "output_type": "execute_result"
    }
   ],
   "source": [
    "votesCollection.count()"
   ]
  },
  {
   "cell_type": "markdown",
   "metadata": {},
   "source": [
    "## Consultas AQL"
   ]
  },
  {
   "cell_type": "code",
   "execution_count": 26,
   "metadata": {
    "collapsed": false
   },
   "outputs": [
    {
     "data": {
      "text/plain": [
       "ArangoDoc 'posts/1524': {u'Body': u'<p>Estoy creando un servicio usando ASP.NET WebApi. Quiero a\\xf1adir soporte para negociaci\\xf3n del tipo de contenido basado en extensiones en el URI, as\\xed que he a\\xf1adido lo siguiente al c\\xf3digo de inicializaci\\xf3n del servicio:</p><br/><br/><pre><code>public static class WebApiConfig<br/>{<br/>  public static void Register(HttpConfiguration config)<br/>  {<br/>    config.Formatters.JsonFormatter.AddUriPathExtensionMapping(\"json\", \"application/json\");<br/>    config.Formatters.XmlFormatter.AddUriPathExtensionMapping(\"xml\", \"application/xml\");<br/>  }<br/>}<br/></code></pre><br/><br/><p>Para que esto funcione necesito crear dos rutas para cada acci\\xf3n del controlador (estoy usando exclusivamente enrutamiento basado en atributos):</p><br/><br/><pre><code>[Route(\"item/{id}/details\")]<br/>[Route(\"item/{id}/details.{ext}\")]<br/>[HttpGet]<br/>public ItemDetail[] GetItemDetails(int id)<br/>{<br/>  return itemsService.GetItemDetails(id);<br/>}<br/><br/>[Route(\"item/{name}\")]<br/>[Route(\"item/{name}.{ext}\")]<br/>[HttpPost]<br/>public int CreateItem(string name)<br/>{<br/>  return itemsService.Create(name);<br/>}<br/></code></pre><br/><br/><p>Esto queda feo y hace que el c\\xf3digo sea innecesariamente largo, as\\xed que investigu\\xe9 una forma de a\\xf1adir la ruta con la extensi\\xf3n autom\\xe1ticamente cuando se crea la ruta normal. Como resultado desarroll\\xe9 una implementaci\\xf3n personalizada de <code>IDirectRouteProvider</code> que puedo usar al registrar los atributos de ruta:</p><br/><br/><pre><code>config.MapHttpAttributeRoutes(new AutomaticExtensionRouteProvider());<br/></code></pre><br/><br/><p>El c\\xf3digo del proveedor personalizado es:</p><br/><br/><pre><code>public class AutomaticExtensionRouteProvider : DefaultDirectRouteProvider<br/>{<br/>    protected override IReadOnlyList<RouteEntry> GetActionDirectRoutes(<br/>      HttpActionDescriptor actionDescriptor,<br/>      IReadOnlyList<IDirectRouteFactory> factories,<br/>      IInlineConstraintResolver constraintResolver)<br/>    {<br/>        var result = base.GetActionDirectRoutes(actionDescriptor, factories, constraintResolver);<br/>        var list = new List<RouteEntry>(result);<br/>        foreach(var route in result.Where(r => !r.Route.RouteTemplate.EndsWith(\".{ext}\")))<br/>        {<br/>            var newTemplate = route.Route.RouteTemplate + \".{ext}\";<br/>            if (!result.Any(r => r.Route.RouteTemplate == newTemplate))<br/>            {<br/>                var entry = new RouteEntry(null, new HttpRoute(newTemplate,<br/>                    new HttpRouteValueDictionary(route.Route.Defaults),<br/>                    new HttpRouteValueDictionary(route.Route.Constraints),<br/>                    new HttpRouteValueDictionary(route.Route.DataTokens)));<br/>                list.Add(entry);<br/>            }<br/>        }<br/>        return list.AsReadOnly();<br/>    }<br/>}<br/></code></pre><br/><br/><p>El problema es que esto funciona bien... pero falla en un caso: <strong>cuando la \\xfaltima parte de la ruta es un par\\xe1metro sin restricciones</strong>. As\\xed pues, en el ejemplo anterior la creaci\\xf3n de rutas para <code>GetItemDetails</code> funciona, pero para <code>CreateItem</code> lanza lo siguiente:</p><br/><br/><pre><code>System.InvalidOperationException: Multiple actions were found that match the request: <br/>CreateItem on type FooBar.Api.Controllers.ItemsController<br/>CreateItem on type FooBar.Api.Controllers.ItemsController<br/>   at System.Web.Http.Controllers.ApiControllerActionSelector.ActionSelectorCacheItem.SelectAction(HttpControllerContext controllerContext)<br/>   at System.Web.Http.Controllers.ApiControllerActionSelector.SelectAction(HttpControllerContext controllerContext)<br/></code></pre><br/><br/><p>Me imagino de d\\xf3nde puede venir el problema: una cadena arbitraria cumple los patrones <code>{name}</code> y <code>{name}.{ext}</code>, por lo que el motor de WebApi se atraganta al intentar seleccionar la ruta adecuada. <strong>Pero entonces, \\xbfpor qu\\xe9 funciona cuando se especifican las dos rutas expl\\xedcitamente en atributos?</strong> Por lo que yo entiendo, la ruta que yo creo en la clase <code>AutomaticExtensionRouteProvider</code> es id\\xe9ntica a la que se crea expl\\xedcitamente con un atributo (y si depuro veo que en efecto as\\xed es).</p><br/><br/><p>As\\xed pues, \\xbfqu\\xe9 est\\xe1 pasando aqu\\xed?</p><br/>', u'ViewCount': 102, u'Title': u'La creaci\\xf3n manual de un alias de ruta con un DirectRouteProvider personalizado causa un error \"Multiple actions were found that match the request\"', u'LastEditorUserId': 21, u'LastActivityDate': u'2015-11-02T17:02:47.503', u'LastEditDate': u'2015-11-02T17:02:47.503', u'AnswerCount': 1, u'CommentCount': 2, u'AcceptedAnswerId': 2, u'Score': 6, u'PostTypeId': 1, u'OwnerUserId': 23, u'Tags': u'<.net><asp.net-web-api><asp.net>', u'CreationDate': u'2015-10-29T15:56:52.933', u'Id': 1}"
      ]
     },
     "execution_count": 26,
     "metadata": {},
     "output_type": "execute_result"
    }
   ],
   "source": [
    "aql = \"FOR post IN posts FILTER post.Id == @Id LIMIT 10 RETURN post\"\n",
    "bindVars = {'Id' : 1}\n",
    "#Poniendo rawResults a True se obtendrían dictionarios en lugar de documentos, útil si quieres como resultado un conjunto de campos por ejemplo\n",
    "queryResult = db.AQLQuery(aql, rawResults = False, batchSize = 1, bindVars = bindVars)\n",
    "document = queryResult[0]\n",
    "document"
   ]
  }
 ],
 "metadata": {
  "celltoolbar": "Raw Cell Format",
  "kernelspec": {
   "display_name": "Python 2",
   "language": "python",
   "name": "python2"
  },
  "language_info": {
   "codemirror_mode": {
    "name": "ipython",
    "version": 2
   },
   "file_extension": ".py",
   "mimetype": "text/x-python",
   "name": "python",
   "nbconvert_exporter": "python",
   "pygments_lexer": "ipython2",
   "version": "2.7.13"
  }
 },
 "nbformat": 4,
 "nbformat_minor": 1
}
