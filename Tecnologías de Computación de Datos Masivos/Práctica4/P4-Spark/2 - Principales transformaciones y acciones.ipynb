{
 "cells": [
  {
   "cell_type": "markdown",
   "metadata": {},
   "source": [
    "Principales transformaciones y acciones\n",
    "======================================\n",
    "### Transformaciones elemento-a-elemento\n",
    "Generan un nuevo RDD a partir de uno dado"
   ]
  },
  {
   "cell_type": "markdown",
   "metadata": {},
   "source": [
    "-   `filter(func)` filtra los elementos de un RDD"
   ]
  },
  {
   "cell_type": "code",
   "execution_count": 1,
   "metadata": {
    "collapsed": false
   },
   "outputs": [
    {
     "name": "stdout",
     "output_type": "stream",
     "text": [
      "Requirement already satisfied: test_helper in /home/moises/anaconda2/lib/python2.7/site-packages\r\n"
     ]
    }
   ],
   "source": [
    "!pip install test_helper"
   ]
  },
  {
   "cell_type": "code",
   "execution_count": 2,
   "metadata": {
    "collapsed": false
   },
   "outputs": [
    {
     "name": "stdout",
     "output_type": "stream",
     "text": [
      "[0, 1, 2, 3, 4]\n",
      "1 test passed.\n"
     ]
    }
   ],
   "source": [
    "from test_helper import Test\n",
    "from __future__ import print_function\n",
    "\n",
    "\n",
    "rdd = sc.parallelize(xrange(-5,5))          # Rango (-5, 5)\n",
    "filtered_rdd = rdd.filter(lambda x: x>=0)   # Devuelve los positivos\n",
    "print(filtered_rdd.collect())\n",
    "Test.assertEquals(filtered_rdd.collect(), [0, 1, 2, 3, 4])"
   ]
  },
  {
   "cell_type": "markdown",
   "metadata": {},
   "source": [
    "-   `map(func)` aplica una función a los elementos de un RDD"
   ]
  },
  {
   "cell_type": "code",
   "execution_count": 3,
   "metadata": {
    "collapsed": false
   },
   "outputs": [
    {
     "name": "stdout",
     "output_type": "stream",
     "text": [
      "[(1, 1), (2, 4), (3, 9), (4, 16), (5, 25)]\n",
      "1 test passed.\n"
     ]
    }
   ],
   "source": [
    "def add1(x):\n",
    "    return(x+1)\n",
    "\n",
    "squared_rdd = (filtered_rdd\n",
    "               .map(add1)\n",
    "               .map(lambda x: (x, x*x))) \n",
    "print(squared_rdd.collect())\n",
    "Test.assertEquals(squared_rdd.collect(), [(1, 1), (2, 4), (3, 9), (4, 16), (5, 25)])"
   ]
  },
  {
   "cell_type": "markdown",
   "metadata": {
    "collapsed": true
   },
   "source": [
    "-   `flatMap(func)` igual que `map`, pero “aplana” la salida"
   ]
  },
  {
   "cell_type": "code",
   "execution_count": 4,
   "metadata": {
    "collapsed": false
   },
   "outputs": [
    {
     "name": "stdout",
     "output_type": "stream",
     "text": [
      "[1, 1, 2, 4, 3, 9, 4, 16, 5, 25]\n",
      "1 test passed.\n"
     ]
    }
   ],
   "source": [
    "squaredflat_rdd = (filtered_rdd\n",
    "                   .map(add1)\n",
    "                   .flatMap(lambda x: (x, x*x)))\n",
    "print(squaredflat_rdd.collect())\n",
    "Test.assertEquals(squaredflat_rdd.collect(), [1, 1, 2, 4, 3, 9, 4, 16, 5, 25])"
   ]
  },
  {
   "cell_type": "markdown",
   "metadata": {},
   "source": [
    "-   `sample(withReplacement, fraction, seed=None)` devuelve una muestra del RDD\n",
    "    - `withReplacement` - si True, cada elemento puede aparecer varias veces en la muestra\n",
    "    - `fraction` - tamaño esperado de la muestra como una fracción del tamaño del RDD (sin reemplazo: probabilidad de seleccionar un elemento, su valor debe ser [0, 1]; con reemplazo: número esperado de veces que que se escoge un elemento, su valor debe ser >= 0\n",
    "    - `seed` - semilla para el generador de números aleatorios"
   ]
  },
  {
   "cell_type": "code",
   "execution_count": 5,
   "metadata": {
    "collapsed": false
   },
   "outputs": [
    {
     "name": "stdout",
     "output_type": "stream",
     "text": [
      "s1=[1, 2, 4, 3, 9, 4, 5, 25]\n",
      "s2=[1, 1, 1, 4, 4, 3, 3, 3, 9, 9, 9, 9, 16, 16, 5, 25, 25]\n",
      "s3=[1, 1, 2, 4, 3, 9, 4, 5]\n"
     ]
    }
   ],
   "source": [
    "s1 = squaredflat_rdd.sample(False, 0.5).collect()\n",
    "s2 = squaredflat_rdd.sample(True, 2).collect()\n",
    "s3 = squaredflat_rdd.sample(False, 0.8).collect()\n",
    "print('s1={0}\\ns2={1}\\ns3={2}'.format(s1, s2, s3))"
   ]
  },
  {
   "cell_type": "markdown",
   "metadata": {
    "collapsed": true
   },
   "source": [
    "-   `distinct()` devuelve un nuevo RDD sin duplicados"
   ]
  },
  {
   "cell_type": "code",
   "execution_count": 6,
   "metadata": {
    "collapsed": false
   },
   "outputs": [
    {
     "name": "stdout",
     "output_type": "stream",
     "text": [
      "[16, 4, 1, 25, 5, 9, 2, 3]\n"
     ]
    }
   ],
   "source": [
    "distinct_rdd = squaredflat_rdd.distinct()\n",
    "print(distinct_rdd.collect())"
   ]
  },
  {
   "cell_type": "markdown",
   "metadata": {},
   "source": [
    "-   `groupBy(func)` devuelve un RDD con los datos agrupados en formato\n",
    "    clave/valor, usando una función para obtener la clave"
   ]
  },
  {
   "cell_type": "code",
   "execution_count": 7,
   "metadata": {
    "collapsed": false
   },
   "outputs": [
    {
     "name": "stdout",
     "output_type": "stream",
     "text": [
      "[(0, <pyspark.resultiterable.ResultIterable object at 0x7fa3997653d0>), (1, <pyspark.resultiterable.ResultIterable object at 0x7fa3990bbe10>), (2, <pyspark.resultiterable.ResultIterable object at 0x7fa3990d1090>)]\n",
      "[(0, [3, 9]), (1, [1, 4, 16, 25]), (2, [2, 5])]\n"
     ]
    }
   ],
   "source": [
    "grouped_rdd = distinct_rdd.groupBy(lambda x: x%3)\n",
    "print(grouped_rdd.collect())\n",
    "print([(x,sorted(y)) for (x,y) in grouped_rdd.collect()])"
   ]
  },
  {
   "cell_type": "markdown",
   "metadata": {},
   "source": [
    "### Transformaciones sobre dos RDDs\n",
    "\n",
    "Operaciones tipo conjunto sobre dos RDDs"
   ]
  },
  {
   "cell_type": "markdown",
   "metadata": {},
   "source": [
    "-   `union(rdd)` produce un RDD con los datos de los dos de partida"
   ]
  },
  {
   "cell_type": "code",
   "execution_count": 8,
   "metadata": {
    "collapsed": false
   },
   "outputs": [
    {
     "name": "stdout",
     "output_type": "stream",
     "text": [
      "1 test passed.\n"
     ]
    }
   ],
   "source": [
    "rdda = sc.parallelize(['a', 'b', 'c'])\n",
    "rddb = sc.parallelize(['c', 'd', 'e'])\n",
    "rddu = rdda.union(rddb)\n",
    "Test.assertEquals(rddu.collect(),['a', 'b', 'c', 'c', 'd', 'e'])"
   ]
  },
  {
   "cell_type": "markdown",
   "metadata": {},
   "source": [
    "-   `intersection(rdd)` elementos en ambos RDDs"
   ]
  },
  {
   "cell_type": "code",
   "execution_count": 9,
   "metadata": {
    "collapsed": false
   },
   "outputs": [
    {
     "name": "stdout",
     "output_type": "stream",
     "text": [
      "1 test passed.\n"
     ]
    }
   ],
   "source": [
    "rddi = rdda.intersection(rddb)\n",
    "Test.assertEquals(rddi.collect(),['c'])"
   ]
  },
  {
   "cell_type": "markdown",
   "metadata": {},
   "source": [
    "-   `subtract(rdd)` los datos del primer RDD menos los del segundo"
   ]
  },
  {
   "cell_type": "code",
   "execution_count": 10,
   "metadata": {
    "collapsed": false
   },
   "outputs": [
    {
     "name": "stdout",
     "output_type": "stream",
     "text": [
      "1 test passed.\n"
     ]
    }
   ],
   "source": [
    "rdds = rdda.subtract(rddb)\n",
    "Test.assertEquals(rdds.collect(), ['a', 'b'])"
   ]
  },
  {
   "cell_type": "markdown",
   "metadata": {},
   "source": [
    "-   `cartesian(rdd)` producto cartesiano de ambos RDDs (operación muy\n",
    "    costosa)"
   ]
  },
  {
   "cell_type": "code",
   "execution_count": 11,
   "metadata": {
    "collapsed": false
   },
   "outputs": [
    {
     "name": "stdout",
     "output_type": "stream",
     "text": [
      "1 test passed.\n"
     ]
    }
   ],
   "source": [
    "rddc = rdda.cartesian(rddb)\n",
    "Test.assertEquals(rddc.collect(), \n",
    "                  [('a','c'),('a','d'),('a','e'),('b','c'),('b','d'),('b','e'),('c','c'), ('c','d'), ('c','e')])"
   ]
  },
  {
   "cell_type": "markdown",
   "metadata": {},
   "source": [
    "### Acciones sobre RDDs simples"
   ]
  },
  {
   "cell_type": "markdown",
   "metadata": {},
   "source": [
    "#### Acciones de agregación"
   ]
  },
  {
   "cell_type": "markdown",
   "metadata": {},
   "source": [
    "-   `reduce(func)` combina los elementos del RDD en paralelo\n",
    "    - La función de reducción debe ser un monoide conmutativo\n",
    "    - Primero se realiza la redución a nivel de partición"
   ]
  },
  {
   "cell_type": "code",
   "execution_count": 12,
   "metadata": {
    "collapsed": false
   },
   "outputs": [
    {
     "name": "stdout",
     "output_type": "stream",
     "text": [
      "1 test passed.\n",
      "1 test passed.\n"
     ]
    }
   ],
   "source": [
    "rdd = sc.parallelize(xrange(1,5))\n",
    "r = rdd.reduce(lambda x,y: x*y) # r = 1*2*3*4 = 24\n",
    "from operator import add\n",
    "s = rdd.reduce(add) # s = 1+2+3+4 = 10\n",
    "Test.assertEquals(r, 24)\n",
    "Test.assertEquals(s, 10)"
   ]
  },
  {
   "cell_type": "markdown",
   "metadata": {},
   "source": [
    "-   `fold(cero, func)` similar a `reduce`, pero proporcionando el valor\n",
    "    identidad para la función (p.e. 0 para $+$; 1 para $\\times$, o `[]`\n",
    "    para concatenación de listas)\n",
    "    - `cero` se usa como valor inicial para cada partición\n",
    "    - `func` debe ser un monoide conmutativo para garantizar un resultado consistente"
   ]
  },
  {
   "cell_type": "code",
   "execution_count": 13,
   "metadata": {
    "collapsed": false
   },
   "outputs": [
    {
     "name": "stdout",
     "output_type": "stream",
     "text": [
      "[[[1, 2, 3, 4]], [[-10, -9, -8, -7, -6, -5, -4], ['a', 'b', 'c']]]\n",
      "[1, 2, 3, 4, -10, -9, -8, -7, -6, -5, -4, 'a', 'b', 'c']\n",
      "1 test passed.\n"
     ]
    }
   ],
   "source": [
    "rdd = sc.parallelize([range(1,5), range(-10,-3), ['a', 'b', 'c']], 2)\n",
    "print(rdd.glom().collect())\n",
    "f = rdd.fold([], lambda x,y: x+y)\n",
    "print(f)\n",
    "Test.assertEquals(f, [1, 2, 3, 4, -10, -9, -8, -7, -6, -5, -4, 'a', 'b', 'c'])"
   ]
  },
  {
   "cell_type": "markdown",
   "metadata": {},
   "source": [
    "- `aggregate(cero,seqOp,combOp)` devuelve una colección agregando los elementos del RDD usando dos funciones:\n",
    "    1. `seqOp` -  agregación a nivel de partición: se crea un acumulador por partición (inicializado a `cero`) y se agregan los valores de la partición en el acumulador\n",
    "    2. `combOp` - agregación entre particiones: se agregan los acumuladores de todas las particiiones\n",
    "    \n",
    " - Ambas agregaciones usan un valor inicial `cero` (similar al caso de `fold`).\n",
    " - Permite devolver un tipo diferente del de los elementos del RDD de entrada."
   ]
  },
  {
   "cell_type": "code",
   "execution_count": 14,
   "metadata": {
    "collapsed": false
   },
   "outputs": [
    {
     "name": "stdout",
     "output_type": "stream",
     "text": [
      "1 test passed.\n",
      "1 test passed.\n",
      "1 test passed.\n"
     ]
    }
   ],
   "source": [
    "l = [1, 2, 3, 4, 5, 6, 7, 8]\n",
    "rdd = sc.parallelize(l, 2)\n",
    "seqOp  = (lambda acc, val: (acc[0]+[val], acc[1]*val, acc[2]+1))       \n",
    "combOp = (lambda acc1, acc2: (acc1[0]+acc2[0], acc1[1]*acc2[1], acc1[2]+acc2[2]))\n",
    "a = rdd.aggregate(([], 1., 0), seqOp, combOp) \n",
    "Test.assertEquals(a[0], l)\n",
    "Test.assertEquals(a[1], 8.*7.*6.*5.*4.*3.*2.*1.)\n",
    "Test.assertEquals(a[2], len(l))"
   ]
  },
  {
   "cell_type": "markdown",
   "metadata": {},
   "source": [
    "#### Acciones para contar elementos"
   ]
  },
  {
   "cell_type": "markdown",
   "metadata": {},
   "source": [
    "- `count()` devuelve un entero con el número de elementos del RDD\n",
    "\n",
    "- `countApprox(timeout, confidence=0.95)` versión aproximada de `count()` que devuelve un resultado potencialmente incompleto en un tiempo máximo, incluso si no todas las tareas han finalizado. (Experimental).\n",
    "- `countApproxDistinct(relativeSD=0.05)` devuelve una estimación del número de elementos diferentes del RDD.  (Experimental).\n",
    "    - `relativeSD` – exactitud relativa (valores más pequeños implican menor error, pero requieren más memoria; debe ser mayor que 0.000017)."
   ]
  },
  {
   "cell_type": "code",
   "execution_count": 15,
   "metadata": {
    "collapsed": false
   },
   "outputs": [
    {
     "name": "stdout",
     "output_type": "stream",
     "text": [
      "1 test passed.\n",
      "1 test passed.\n",
      "1 test passed.\n",
      "1 test passed.\n"
     ]
    }
   ],
   "source": [
    "rdd = sc.parallelize([i % 20 for i in range(1000)])\n",
    "Test.assertEquals(rdd.count(), 1000)\n",
    "Test.assertEquals(rdd.distinct().count(), 20)\n",
    "Test.assertTrue(900 < rdd.countApprox(1, 0.4) < 1100)\n",
    "Test.assertTrue(15 < rdd.countApproxDistinct(0.5) < 25)"
   ]
  },
  {
   "cell_type": "markdown",
   "metadata": {},
   "source": [
    "\n",
    "-   `countByValue()` devuelve el número de apariciones de cada elemento\n",
    "    del RDD como un diccionario {valor:número}"
   ]
  },
  {
   "cell_type": "code",
   "execution_count": 16,
   "metadata": {
    "collapsed": false
   },
   "outputs": [
    {
     "name": "stdout",
     "output_type": "stream",
     "text": [
      "1 test passed.\n"
     ]
    }
   ],
   "source": [
    "rdd = sc.parallelize(list(\"abracadabra\")).cache()\n",
    "dicc = rdd.countByValue()\n",
    "Test.assertEquals(dicc, {'a': 5, 'c': 1, 'b': 2, 'r': 2, 'd': 1})"
   ]
  },
  {
   "cell_type": "markdown",
   "metadata": {},
   "source": [
    "#### Acciones para obtener valores"
   ]
  },
  {
   "cell_type": "markdown",
   "metadata": {},
   "source": [
    "-   `collect()` devuelve una lista con todos los elementos del RDD\n",
    "    - Usar con cuidado, si el RDD es muy grande"
   ]
  },
  {
   "cell_type": "code",
   "execution_count": 17,
   "metadata": {
    "collapsed": false
   },
   "outputs": [
    {
     "name": "stdout",
     "output_type": "stream",
     "text": [
      "1 test passed.\n"
     ]
    }
   ],
   "source": [
    "lista = rdd.collect()\n",
    "Test.assertEquals(lista, ['a','b','r','a','c','a','d','a','b','r','a'])"
   ]
  },
  {
   "cell_type": "markdown",
   "metadata": {},
   "source": [
    "-   `take(n)` devuelve `n` elementos del RDD\n",
    "-   `takeSample(withRep, n, [seed])` devuelve `n` elementos aleatorios\n",
    "    del RDD"
   ]
  },
  {
   "cell_type": "code",
   "execution_count": 18,
   "metadata": {
    "collapsed": false
   },
   "outputs": [
    {
     "name": "stdout",
     "output_type": "stream",
     "text": [
      "1 test passed.\n",
      "['r', 'd', 'a', 'a']\n"
     ]
    }
   ],
   "source": [
    "t = rdd.take(4)\n",
    "Test.assertEquals(t, ['a','b','r','a'])\n",
    "s = rdd.takeSample(False, 4)\n",
    "print(s)"
   ]
  },
  {
   "cell_type": "markdown",
   "metadata": {},
   "source": [
    "-   `top(n)` devuelve una lista con los primeros `n` elementos del RDD ordenado en\n",
    "    orden descendente\n",
    "-   `takeOrdered(n,[orden])` devuelve una lista con los primeros `n` elementos del RDD en orden\n",
    "    ascendente, o siguiendo el orden indicado en la función opcional"
   ]
  },
  {
   "cell_type": "code",
   "execution_count": 19,
   "metadata": {
    "collapsed": false
   },
   "outputs": [
    {
     "name": "stdout",
     "output_type": "stream",
     "text": [
      "1 test passed.\n",
      "1 test passed.\n",
      "1 test passed.\n"
     ]
    }
   ],
   "source": [
    "rdd = sc.parallelize([10, 1, 2, 9, 3, 4, 5, 6, 7]).cache()\n",
    "t = rdd.top(4)\n",
    "o = rdd.takeOrdered(4)\n",
    "i = rdd.takeOrdered(4, lambda x: -x)\n",
    "Test.assertEquals(t, [10, 9, 7, 6])\n",
    "Test.assertEquals(o, [1, 2, 3, 4])\n",
    "Test.assertEquals(i, t)"
   ]
  },
  {
   "cell_type": "markdown",
   "metadata": {},
   "source": [
    "## Práctica 1\n",
    "\n",
    "Usando countByValue, implementa un WordCount simple"
   ]
  },
  {
   "cell_type": "code",
   "execution_count": 20,
   "metadata": {
    "collapsed": false
   },
   "outputs": [
    {
     "name": "stdout",
     "output_type": "stream",
     "text": [
      "894\n",
      "950\n",
      "71\n",
      "1 test passed.\n",
      "1 test passed.\n",
      "1 test passed.\n"
     ]
    }
   ],
   "source": [
    "import re\n",
    "quijote = sc.textFile(\"datos/quijote.txt\")\n",
    "palabras = quijote.flatMap(lambda line: line.split(\" \"))\n",
    "#print(palabras.collect())\n",
    "wc = palabras.countByValue()\n",
    "#print(wc.collect())\n",
    "print(wc['Quijote'])\n",
    "print(wc['Sancho'])\n",
    "print(wc['Rocinante'])\n",
    "\n",
    "Test.assertEquals(wc['Quijote'], 894)\n",
    "Test.assertEquals(wc['Sancho'], 950)\n",
    "Test.assertEquals(wc['Rocinante'], 71)"
   ]
  },
  {
   "cell_type": "code",
   "execution_count": null,
   "metadata": {
    "collapsed": true
   },
   "outputs": [],
   "source": []
  }
 ],
 "metadata": {
  "anaconda-cloud": {},
  "kernelspec": {
   "display_name": "Python [conda root]",
   "language": "python",
   "name": "conda-root-py"
  },
  "language_info": {
   "codemirror_mode": {
    "name": "ipython",
    "version": 2
   },
   "file_extension": ".py",
   "mimetype": "text/x-python",
   "name": "python",
   "nbconvert_exporter": "python",
   "pygments_lexer": "ipython2",
   "version": "2.7.12"
  }
 },
 "nbformat": 4,
 "nbformat_minor": 0
}
