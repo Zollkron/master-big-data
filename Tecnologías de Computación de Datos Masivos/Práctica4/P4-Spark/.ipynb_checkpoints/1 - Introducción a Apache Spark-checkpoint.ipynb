{
 "cells": [
  {
   "cell_type": "markdown",
   "metadata": {},
   "source": [
    "Introducción a Apache Spark\n",
    "==========================="
   ]
  },
  {
   "cell_type": "markdown",
   "metadata": {},
   "source": [
    "## [Apache Spark](http://spark.apache.org/)\n",
    "\n",
    "### Plataforma de computación cluster rápida\n",
    "\n",
    "-   Extiende modelo MapReduce soportando de manera eficiente otros tipos\n",
    "    de computación\n",
    "\n",
    "    -   queries interactivas\n",
    "\n",
    "    -   procesado streaming\n",
    "\n",
    "-   Soporta computaciones en memoria\n",
    "\n",
    "-   Mejora a MapReduce para aplicaciones complejas (10-20x más rápido)\n",
    "\n",
    "#### Propósito general\n",
    "\n",
    "-   Modos de funcionamiento batch, interactivo o streaming\n",
    "\n",
    "-   Reduce el número de herramientas a emplear y mantener\n"
   ]
  },
  {
   "cell_type": "markdown",
   "metadata": {},
   "source": [
    "#### Historia\n",
    "\n",
    "-   Iniciado en el 2009 en el UC Berkeley RAD Lab (AMPLab)\n",
    "\n",
    "    -   Motivado por la ineficiencia de MapReduce para trabajos\n",
    "        iterativos e interactivos\n",
    "\n",
    "-   Mayores contribuidores: [Databricks](https://databricks.com/),\n",
    "    Yahoo! e Intel\n",
    "\n",
    "-   Declarado open source en marzo del 2010\n",
    "\n",
    "-   Transferido a la Apache Software Foundation en junio de 2013, TLP en\n",
    "    febrero de 2014\n",
    "\n",
    "-   Uno de los proyectos Big Data más activos\n",
    "\n",
    "-   Versión 1.0 lanzada en mayo de 2014"
   ]
  },
  {
   "cell_type": "markdown",
   "metadata": {},
   "source": [
    "#### Características de Spark\n",
    "\n",
    "-   Soporta gran variedad de workloads: batch, queries interactivas,\n",
    "    streaming, machine learning, procesado de grafos\n",
    "\n",
    "-   APIs en Scala, Java, Python, SQL y R\n",
    "\n",
    "-   Shells interactivos en Scala y Python\n",
    "\n",
    "-   Se integra con otras soluciones BigData: HDFS, Cassandra, etc."
   ]
  },
  {
   "cell_type": "markdown",
   "metadata": {},
   "source": [
    "### La pila Spark\n",
    "\n",
    "<img src=figs/sparkstack.png width=700 alt=\"La pila Spark\"/>"
   ]
  },
  {
   "cell_type": "markdown",
   "metadata": {},
   "source": [
    "### Conceptos clave\n",
    "\n",
    "<img src=figs/sparkcontext.png width=700 alt=\"Conceptos clave\"/>\n",
    "\n",
    "#### Driver\n",
    "\n",
    "-   Crea un `SparkContext`\n",
    "\n",
    "-   Convierte el programa de usuario en tareas:\n",
    "\n",
    "    -   `DAG` de operaciones lógico $\\rightarrow$ plan de ejecución\n",
    "        físico\n",
    "\n",
    "-   Planifica las tareas en los ejecutores\n",
    "\n",
    "#### SparkContext\n",
    "\n",
    "-   El SparkContext realiza la conexión con el cluster\n",
    "\n",
    "    -   Permite construir RDDs a partir de ficheros, listas u otros\n",
    "        objetos\n",
    "\n",
    "-   En el shell, se define automáticamente (variable `sc`)\n",
    "\n",
    "-   Creación en un script Python\n",
    "\n",
    "                from pyspark import SparkContext\n",
    "                sc = SparkContext(master=\"local\", appName=\"Mi app\")\n",
    "\n",
    "#### Executors\n",
    "\n",
    "-   Ejecutan las tareas individuales y devuelven los resultados al\n",
    "    Driver\n",
    "\n",
    "-   Proporcionan almacenamiento en memoria para los datos de las tareas\n",
    "\n",
    "#### Cluster Manager\n",
    "\n",
    "-   Componente *enchufable* en Spark\n",
    "\n",
    "-   YARN, Mesos o Spark Standalone\n"
   ]
  },
  {
   "cell_type": "markdown",
   "metadata": {},
   "source": [
    "### RDD: Resilient Distributed Datasets\n",
    "\n",
    "-   Colección inmutable y distribuida de elementos que pueden\n",
    "    manipularse en paralelo\n",
    "\n",
    "-   Un programa Spark opera sobre RDDs:\n",
    "\n",
    "    -   Creación de RDDs\n",
    "\n",
    "    -   Transformación de RDDs (map, filter, etc.)\n",
    "\n",
    "    -   Realización de acciones sobre RDDs para obtener resultados\n",
    "\n",
    "-   Spark automáticamente distribuye los datos y paraleliza las\n",
    "    operaciones"
   ]
  },
  {
   "cell_type": "markdown",
   "metadata": {},
   "source": [
    "#### Creación de RDDs\n",
    "\n",
    "Dos formas:\n",
    "\n",
    "-   Paralelizando una colección en el programa driver"
   ]
  },
  {
   "cell_type": "code",
   "execution_count": 1,
   "metadata": {
    "collapsed": false
   },
   "outputs": [
    {
     "name": "stdout",
     "output_type": "stream",
     "text": [
      "Collecting pyspark\n",
      "\u001b[31m  Could not find a version that satisfies the requirement pyspark (from versions: )\u001b[0m\n",
      "\u001b[31mNo matching distribution found for pyspark\u001b[0m\n"
     ]
    }
   ],
   "source": [
    "!pip install pyspark"
   ]
  },
  {
   "cell_type": "code",
   "execution_count": 17,
   "metadata": {
    "collapsed": false
   },
   "outputs": [],
   "source": [
    "from pyspark import SparkContext\n",
    "sc = SparkContext._active_spark_context"
   ]
  },
  {
   "cell_type": "code",
   "execution_count": 18,
   "metadata": {
    "collapsed": false
   },
   "outputs": [
    {
     "name": "stdout",
     "output_type": "stream",
     "text": [
      "[[0, 1, 2, 3, 4, 5, 6, 7, 8, 9, 10, 11, 12, 13, 14, 15, 16, 17, 18, 19, 20, 21, 22, 23, 24], [25, 26, 27, 28, 29, 30, 31, 32, 33, 34, 35, 36, 37, 38, 39, 40, 41, 42, 43, 44, 45, 46, 47, 48, 49], [50, 51, 52, 53, 54, 55, 56, 57, 58, 59, 60, 61, 62, 63, 64, 65, 66, 67, 68, 69, 70, 71, 72, 73, 74], [75, 76, 77, 78, 79, 80, 81, 82, 83, 84, 85, 86, 87, 88, 89, 90, 91, 92, 93, 94, 95, 96, 97, 98, 99]]\n"
     ]
    }
   ],
   "source": [
    "from __future__ import print_function\n",
    "\n",
    "numeros = sc.parallelize([\"uno\", \"dos\", \"tres\"])\n",
    "\n",
    "import numpy as np\n",
    "array = sc.parallelize(np.array(range(100)))\n",
    "print(array.glom().collect())"
   ]
  },
  {
   "cell_type": "markdown",
   "metadata": {},
   "source": [
    "\n",
    "-   Leyendo datos de un fichero"
   ]
  },
  {
   "cell_type": "code",
   "execution_count": 19,
   "metadata": {
    "collapsed": false
   },
   "outputs": [],
   "source": [
    "quijote = sc.textFile(\"datos/quijote.txt\")"
   ]
  },
  {
   "cell_type": "markdown",
   "metadata": {},
   "source": [
    "### Particiones\n",
    "\n",
    "Spark divide el RDD en en conjunto de particiones\n",
    "\n",
    "-   El número de particiones por defecto es función del tamaño del\n",
    "    cluster o del número de bloques del fichero (p.e. bloques HDFS)\n",
    "\n",
    "-   Se puede especificar otro valor en el momento de crear el RDD"
   ]
  },
  {
   "cell_type": "code",
   "execution_count": 20,
   "metadata": {
    "collapsed": false
   },
   "outputs": [
    {
     "name": "stdout",
     "output_type": "stream",
     "text": [
      "N de Particiones 2\n",
      "Particiones [[1, 2], [3, 4]]\n"
     ]
    }
   ],
   "source": [
    "rdd = sc.parallelize([1, 2, 3, 4], 2)\n",
    "print(\"N de Particiones {0}\".format(rdd.getNumPartitions()))\n",
    "print(\"Particiones {0}\".format(rdd.glom().collect()))"
   ]
  },
  {
   "cell_type": "markdown",
   "metadata": {},
   "source": [
    "-   Volveremos sobre las particiones más adelante"
   ]
  },
  {
   "cell_type": "markdown",
   "metadata": {},
   "source": [
    "### Transformaciones\n",
    "\n",
    "Operaciones sobre RDDs que devuelven un nuevo RDD\n",
    "\n",
    "-   Se computan de forma “perezosa” (*lazy*)\n",
    "\n",
    "-   Normalmente, ejecutan una función (anónima o no) sobre cada uno de\n",
    "    los elementos del RDD de origen"
   ]
  },
  {
   "cell_type": "code",
   "execution_count": 21,
   "metadata": {
    "collapsed": false
   },
   "outputs": [
    {
     "data": {
      "text/plain": [
       "PythonRDD[34] at RDD at PythonRDD.scala:48"
      ]
     },
     "execution_count": 21,
     "metadata": {},
     "output_type": "execute_result"
    }
   ],
   "source": [
    "quijs = quijote.filter(lambda l: \"Quijote\" in l)\n",
    "sanchs = quijote.filter(lambda l: \"Sancho\" in l)\n",
    "quijssanchs = quijs.intersection(sanchs)\n",
    "quijssanchs.cache()"
   ]
  },
  {
   "cell_type": "markdown",
   "metadata": {},
   "source": [
    "### Acciones\n",
    "\n",
    "Obtienen datos de salida a partir de los RDDs\n",
    "\n",
    "-   Devuelven valores al driver o al sistema de almacenamiento\n",
    "\n",
    "-   Fuerzan a que se realicen las transformaciones pendientes"
   ]
  },
  {
   "cell_type": "code",
   "execution_count": 22,
   "metadata": {
    "collapsed": false
   },
   "outputs": [
    {
     "name": "stdout",
     "output_type": "stream",
     "text": [
      "Líneas con Quijote y Sancho: 350\n",
      "\n",
      "Muestra de 10 de estas líneas, sin repetición\n",
      "don Quijote y turbaban el corazón de Sancho. De cuando en cuando, rebuznaba\n",
      "-Duerme tú, Sancho -respondió don Quijote-, que naciste para dormir; que\n",
      "-Por Dios, Sancho -dijo don Quijote-, que, por solas estas últimas razones\n",
      "-Por cierto -dijo don Quijote-, que la parsimonia y limpieza con que Sancho\n",
      "Quedó pasmado don Quijote, absorto Sancho, suspenso el primo, atónito el\n",
      "don Quijote y su buen escudero Sancho Panza pasaron en la venta que, por su\n",
      "don Quijote buen trecho, volvió la cabeza y vio que Sancho venía, y\n",
      "-Tú me harás desesperar, Sancho -dijo don Quijote-. Ven acá, hereje: ¿no te\n",
      "partieron los dos, y don Quijote y Sancho después, como se ha dicho: don\n",
      "-¿Qué te parece, Sancho amigo? -dijo a este punto don Quijote-. ¿No oyes lo\n",
      "\n",
      "\n",
      "Todas las líneas\n",
      " [u'Quijote-. Mas yo te juro, Sancho Panza, a fe de caballero andante, que', u'-Pues yo te digo, Sancho amigo -dijo don Quijote-, que es tan verdad que', u'de que yo no soy el don Quijote impreso en la segunda parte, ni este Sancho', u'Esto pasaba entre s\\xed Sancho el d\\xeda de la partida; y, saliendo don Quijote,', u'-\\xa1Eso s\\xed, Sancho! -dijo don Quijote-: \\xa1encaja, ensarta, enhila refranes,', u'A esta saz\\xf3n, ya se hab\\xeda puesto don Quijote de hinojos junto a Sancho, y', u'a Sancho, y a pedir a don Quijote se lo pagase; el cual, con gran sosiego,', u'don Quijote buen trecho, volvi\\xf3 la cabeza y vio que Sancho ven\\xeda, y', u'-H\\xe1galo Dios -respondi\\xf3 don Quijote- como yo deseo y t\\xfa, Sancho, has', u'-El miedo que tienes -dijo don Quijote- te hace, Sancho, que ni veas ni', u'Solos quedaron don Quijote y Sancho, y, apenas se hubo apartado Sans\\xf3n,', u'diez vieron distintamente a don Quijote, a quien dio voces Sancho,', u'Cogi\\xf3la Sancho a mano salva y present\\xf3sela a don Quijote, el cual estaba', u'tal golpe a don Quijote que le hizo caer de espaldas. Sancho Panza, que de', u'-No, Sancho amigo -respondi\\xf3 don Quijote-, no me estaba a m\\xed bien hacer', u'-Verdad dices, Sancho -respondi\\xf3 don Quijote-, pero ya te he dicho que hay', u'-Ahora s\\xed -dijo don Quijote- has dado, Sancho, en el punto que puede y debe', u'pero don Quijote, temeroso que Sancho se descosiese y desbuchase alg\\xfan', u'Vista fue \\xe9sta que admir\\xf3 a Sancho, suspendi\\xf3 a don Quijote, hizo parar al', u'albarda, a las armas, al rucio, a Rocinante, a Sancho y a don Quijote.', u'-Pues, \\xbfqu\\xe9 tanto ha, Sancho, que os la promet\\xed? -dijo don Quijote.', u'Con esto dio fin a su larga pl\\xe1tica Sancho, temiendo siempre don Quijote', u'-Callad, Sancho -dijo don Quijote-, y no interrump\\xe1is al se\\xf1or bachiller, a', u'Ri\\xf3se don Quijote de las afectadas razones de Sancho, y pareci\\xf3le ser', u'Don Quijote, que vio el vuelo sin alas de Sancho, pregunt\\xf3 al general si', u'de Sancho, pero no dio mucho gusto a don Quijote verle tan mal adeli\\xf1ado', u'-Calla, Sancho -respondi\\xf3 don Quijote con voz no muy desmayada-; calla,', u'En lo que se detuvo don Quijote en que Sancho subiese en el alcornoque,', u'Y, dejando a don Quijote, se volvi\\xf3 a Sancho Panza, y, asi\\xe9ndole de las', u'-Por cierto, Sancho -dijo don Quijote-, que siempre traes tus refranes tan', u'Quijote, el d\\xeda que dio los consejos a Sancho, aquella tarde se los dio', u'conocimiento le fue f\\xe1cil poner en admiraci\\xf3n a don Quijote y a Sancho', u'respondiendo a su intenci\\xf3n don Quijote, y a esta saz\\xf3n dijo Sancho:', u'-\\xbfQu\\xe9 te parece, Sancho amigo? -dijo a este punto don Quijote-. \\xbfNo oyes lo', u'-\\xbfTan mala es tu Teresa, Sancho? -dijo don Quijote.', u'-Tienes raz\\xf3n, Sancho -dijo don Quijote-, porque este pintor es como', u'ser Sancho Panza, el escudero del se\\xf1or don Quijote.', u'Sancho y don Quijote, al cual los dos le ataron luego fort\\xedsimamente con', u'-Mal haces, Sancho -dijo don Quijote-, en decir mal de tu mujer, que, en', u'-Come, Sancho amigo -dijo don Quijote-, sustenta la vida, que m\\xe1s que a m\\xed', u'Responder quer\\xeda don Quijote a Sancho Panza, pero estorb\\xf3selo una carreta', u'Lleg\\xf3 don Quijote y descolg\\xf3 a Sancho; el cual, vi\\xe9ndose libre y en el', u'-Aunque eso as\\xed suceda, \\xa1oh Sancho! -respondi\\xf3 don Quijote-, nunca llegar\\xe1', u'-Cr\\xe9anme vuesas mercedes -dijo Sancho- que el Sancho y el don Quijote desa', u'-Yo agradezco tu buena intenci\\xf3n, amigo Sancho -respondi\\xf3 don Quijote-, mas', u'-\\xbfDe qu\\xe9 te r\\xedes, Sancho? -dijo don Quijote.', u'-Como te conozco, Sancho -respondi\\xf3 don Quijote-, no hago caso de tus', u'H\\xedzolo as\\xed don Quijote, y, qued\\xe1ndose en pelota, abrig\\xf3 a Sancho, el cual', u'-Todav\\xeda -respondi\\xf3 don Quijote-, si t\\xfa, Sancho, me dejaras acometer, como', u'-Advierte, Sancho -respondi\\xf3 don Quijote-, que hay dos maneras de', u'Finalmente, Sancho se qued\\xf3 dormido al pie de un alcornoque, y don Quijote', u'Sancho Panza, pusieron a don Quijote en el carro, como antes ven\\xeda. La', u'menguado humor de don Quijote y que todos hac\\xedan burla d\\xe9l, sino Sancho', u'-Plega a Dios, Sancho -replic\\xf3 don Quijote-, que yo te vea mudo antes que', u'Volvi\\xf3se don Quijote a Sancho, y, encendido el rostro y col\\xe9rico, le dijo:', u'-Confieso -dijo don Quijote- que todo lo que dices, Sancho, sea verdad.', u'-Digo, Sancho -respondi\\xf3 don Quijote-, que sea como t\\xfa quisieres, que no me', u'famoso don Quijote de la Mancha y Sancho Panza, su escudero, pasaron', u'-No m\\xe1s, Sancho -dijo a este punto don Quijote-. Tente en buenas, y no te', u'-Cada d\\xeda, Sancho -dijo don Quijote-, te vas haciendo menos simple y m\\xe1s', u'-Calla, Sancho -dijo don Quijote-; que, aunque parecen ace\\xf1as, no lo son; y', u'-Calla, Sancho amigo -dijo don Quijote-, que, pues esta se\\xf1ora due\\xf1a de tan', u'-Vamos, Sancho hijo -respondi\\xf3 don Quijote-; y, en albricias destas no', u'-\\xbfC\\xf3mo puedes t\\xfa, Sancho -dijo don Quijote-, ver d\\xf3nde hace esa l\\xednea, ni', u'don Quijote y su buen escudero Sancho Panza pasaron en la venta que, por su', u'Pareci\\xf3le a don Quijote que o\\xeda la voz de Sancho Panza, de que qued\\xf3', u'-D\\xe1selos, Sancho -dijo don Quijote-, no para tomar el mono, sino la mona; y', u'Quijote y el primo; pero la mala suerte de Sancho parece que orden\\xf3 que el', u'-\\xa1V\\xe1lame Dios -dijo don Quijote-, y qu\\xe9 vida nos hemos de dar, Sancho', u'Quijote, tembl\\xf3 Sancho Panza, y, finalmente, aun hasta los mesmos sabidores', u'alameda, llegaron don Quijote y Sancho al r\\xedo Ebro, y el verle fue de gran', u'-\\xa1Y que no viese yo todo eso, Sancho! -dijo don Quijote-. Ahora torno a', u'Don Quijote respondi\\xf3 que \\xe9l le perdonaba, y el cura fue por Sancho, el', u'-Con todo eso -replic\\xf3 don Quijote-, te ruego, Sancho, que tengas buen', u'-Ese Sancho no eres t\\xfa -dijo don Quijote-, porque no s\\xf3lo no eres buen', u'don Quijote y Sancho, y este fin tuvo la aventura del encantado barco.', u'Mas, apenas hubo dejado su caballer\\xeda Sancho por acudir a don Quijote,', u'Quijote recibi\\xf3 pesadumbre y Sancho miedo, y los duques hicieron alg\\xfan', u'Sancho fue a do estaba la bac\\xeda y la trujo; y, as\\xed como don Quijote la vio,', u'Al polvo y al cansancio que don Quijote y Sancho sacaron del', u'Sac\\xf3 Sancho de las alforjas hilas y ung\\xfcento. Mas, cuando don Quijote lleg\\xf3', u'-Ya te entiendo, Sancho -le respondi\\xf3 don Quijote-; que bien se me trasluce', u'Quijote y se le entristecieron a Sancho, porque no sab\\xeda la casa de', u'Quijote a los gritos de Sancho, que ya por ellos le hab\\xeda conocido, viole', u'el valeroso don Quijote de la Mancha, y el otro, su escudero Sancho, de', u'-Calla, te digo otra vez, Sancho -dijo don Quijote-; porque te hago saber', u'-No hay dejarlo a tu cortes\\xeda, Sancho -dijo don Quijote-, porque eres duro', u'El ventero, que vio a don Quijote atravesado en el asno, pregunt\\xf3 a Sancho', u'claro la diferencia de los dos don Quijotes y la de los dos Sanchos sus', u'-Pues no ha de ser as\\xed, Sancho amigo -respondi\\xf3 don Quijote-, sino que para', u'-Por m\\xed -replic\\xf3 don Quijote-, miente t\\xfa, Sancho, cuanto quisieres, que yo', u'entablarle las costillas. Don Quijote y Sancho volvieron a proseguir su', u'juicio de nuestro don Quijote. S\\xf3lo Sancho Panza pensaba que cuanto su amo', u'-\\xbfQu\\xe9 te parece desto, Sancho? -dijo don Quijote-. \\xbfHay encantos que valgan', u'Cap\\xedtulo LXXI. De lo que a don Quijote le sucedi\\xf3 con su escudero Sancho', u'-\\xa1V\\xe1lame Dios -dijo don Quijote-, y qu\\xe9 de necedades vas, Sancho,', u'-D\\xedgote, Sancho -dijo don Quijote-, que est\\xe1s en lo cierto, y que habr\\xe9 de', u'don Quijote y Sancho, fueron a recebir a Altisidora y a bajarla del t\\xfamulo;', u'Agradeci\\xe9ndoselo don Quijote, comi\\xf3 algo, y Sancho mucho, y ech\\xe1ronse a', u'-Advierte, Sancho -dijo don Quijote-, que el amor ni mira respetos ni', u'-Pues, \\xbfc\\xf3mo, Sancho? -dijo don Quijote-. \\xbfHaste medido t\\xfa con ella?', u'-Sancho, Sancho -respondi\\xf3 don Quijote-, tiempos hay de burlar, y tiempos', u'Media noche era por filo, poco m\\xe1s a menos, cuando don Quijote y Sancho', u'-Mira, Sancho -dijo don Quijote-, mucha diferencia hay de las obras que se', u'Finalmente, don Quijote y Sancho se abrazaron y quedaron amigos, y con', u'el cura, y los tres a pie, Cardenio, el barbero y Sancho Panza, don Quijote', u'-No m\\xe1s refranes, Sancho -dijo don Quijote-, pues cualquiera de los que has', u'-Estemos a raz\\xf3n, Sancho -replic\\xf3 don Quijote-. Ven ac\\xe1: \\xbfen qu\\xe9', u'Con esto, se fue el bachiller; y don Quijote pregunt\\xf3 a Sancho que qu\\xe9 le', u'Quijote desarmado y de camino, Sancho a pie, por ir el rucio cargado con', u'-Y yo lo digo tambi\\xe9n -respondi\\xf3 don Quijote-. Decid, Sancho amigo; pas\\xe1', u'Quijote, acudi\\xf3 a levantarla, y Sancho a componer y cinchar el albarda, que', u'-En fin -dijo don Quijote-, t\\xfa eres, Sancho, el mayor glot\\xf3n del mundo y el', u'-Asolviese quieres decir, Sancho -dijo don Quijote-. Di en buen hora, que', u'-Responde en buen hora -dijo don Quijote-, Sancho amigo, que yo no estoy', u'Sancho y apart\\xe1ronse los dos algo adelante, y d\\xedjole don Quijote:', u'Renov\\xf3se la admiraci\\xf3n en todos, especialmente en Sancho y don Quijote: en', u'-Calla, amigo Sancho -respondi\\xf3 don Quijote-, que las cosas de la guerra,', u'Miraba Sancho a don Quijote de en hito en hito, en tanto que los tales', u'-Har\\xeda yo una buena apuesta con vos, Sancho -dijo don Quijote-: que ahora', u'-\\xbfNo te dije yo, Sancho -dijo a esta saz\\xf3n don Quijote-, que hab\\xedamos', u'-T\\xfa dices bien, Sancho -dijo don Quijote-, pero has de advertir que no', u'eran los verdaderos don Quijote y Sancho, y no los que describ\\xeda su autor', u'-Por quien Dios es, Sancho -dijo a esta saz\\xf3n don Quijote-, que concluyas', u'-Raz\\xf3n tienes, Sancho -dijo don Quijote-, porque un caballero andante, como', u'si no fue que en ella acab\\xf3 Sancho su tarea, de que qued\\xf3 don Quijote', u'-Encomi\\xe9ndalo t\\xfa a Dios, Sancho -respondi\\xf3 don Quijote-, que \\xc9l dar\\xe1 lo que', u'-Con todo eso -dijo don Quijote-, mira, Sancho, lo que hablas, porque', u'admiraci\\xf3n ver dos don Quijotes y dos Sanchos a un mismo tiempo, tan', u'Quijote y Sancho, y at\\xf3nitos todos los presentes.', u'Obedeci\\xe9ronle don Quijote y Sancho, y vinieron donde ya estaba el retablo', u'Ya en esto don Quijote y Sancho, que la paliza de Rocinante hab\\xedan visto,', u'-\\xbfAd\\xf3nde vas a parar, Sancho, que seas maldito? -dijo don Quijote-; que', u'una carta de don Quijote para el gobernador. Mand\\xf3 Sancho al secretario que', u'muestras de estar vivo el derribado caballero, y Sancho dijo a don Quijote:', u'don Quijote, y sobre Sancho, Rocinante y el rucio, dando con todos ellos en', u'Dorotea le vio y fue informada de Sancho que aqu\\xe9l era don Quijote, dio del', u'-\\xbfAd\\xf3nde, Sancho? -replic\\xf3 don Quijote-; vuelve los ojos y mira, y ver\\xe1s', u'-Nunca te he o\\xeddo hablar, Sancho -dijo don Quijote-, tan elegantemente como', u'Subi\\xf3 don Quijote, sin replicarle m\\xe1s palabra, y, guiando Sancho sobre su', u'Escuchaban el primo y Sancho las palabras de don Quijote, que las dec\\xeda', u'Cu\\xe9ntase, pues, que, apenas se hubo partido Sancho, cuando don Quijote', u'-Eso no, Sancho -respondi\\xf3 don Quijote-, que el necio en su casa ni en la', u'-\\xa1Qu\\xe9 poco sabes, Sancho -respondi\\xf3 don Quijote-, de achaque de caballer\\xeda!', u'-Ata y calla -respondi\\xf3 don Quijote-, que tal empresa como aqu\\xe9sta, Sancho', u'Lleg\\xf3se el d\\xeda de la partida de don Antonio, y el de don Quijote y Sancho,', u'Quijote y Sancho: el uno, para acabar en la campa\\xf1a rasa la tanda de su', u'cual, abrazando a don Quijote y a Sancho, sigui\\xf3 su camino, y don Quijote', u'-No dices mal, Sancho -respondi\\xf3 don Quijote-; mas, antes que se llegue a', u'Quijote, y qued\\xe1base Sancho en pie para servirle la copa, que era hecha de', u'-No m\\xe1s refranes, Sancho, por un solo Dios -dijo don Quijote-, que parece', u'Quijote y a Sancho los llevasen a las que ellos ya se sab\\xedan.', u'Viendo, pues, don Quijote que Sancho hac\\xeda burla d\\xe9l, se corri\\xf3 y enoj\\xf3 en', u'-Lev\\xe1ntate, Sancho -dijo a este punto don Quijote-, que ya veo que la', u'Carta de don Quijote de la Mancha a Sancho Panza, gobernador de la \\xednsula', u'Oy\\xf3lo don Quijote, y dijo a Sancho:', u'y apenas las hubo visto don Quijote, cuando con voz alta dijo a Sancho:', u'-T\\xfa me har\\xe1s desesperar, Sancho -dijo don Quijote-. Ven ac\\xe1, hereje: \\xbfno te', u'com\\xeda don Quijote, de puro pesaroso, ni Sancho no osaba tocar a los', u'cabeza encantada, y con don Quijote, Sancho y otros dos amigos, con las dos', u'En esto, ya estaba a caballo Sancho, ayudado de don Quijote, el cual', u'En tanto, don Quijote se encerr\\xf3 con Sancho en su aposento; y, estando', u'-Todo eso pudiera ser, Sancho -replic\\xf3 don Quijote-, pero no es as\\xed, porque', u'el mono, y, puesto delante de don Quijote y de Sancho, dijo:', u'-Mira, Sancho -respondi\\xf3 don Quijote-: si el consejo que me das de que me', u'como desmayados, tendidos por el suelo. Don Quijote y Sancho se levantaron', u'-Que me maten, Sancho -dijo, en oy\\xe9ndole, don Quijote-, si nos ha de', u'-A fe, Sancho -respondi\\xf3 don Quijote-, que si t\\xfa supieras, como yo lo s\\xe9,', u'Roque, don Quijote y Sancho con otros seis escuderos a Barcelona. Llegaron', u'-\\xbfPurgatorio le llamas, Sancho? -dijo don Quijote-. Mejor hicieras de', u'Apenas hubo dicho esto Sancho, cuando don Quijote tembl\\xf3, creyendo sin duda', u'-Duerme t\\xfa, Sancho -respondi\\xf3 don Quijote-, que naciste para dormir; que', u'don Quijote y turbaban el coraz\\xf3n de Sancho. De cuando en cuando, rebuznaba', u'-Y \\xbfti\\xe9nesla todav\\xeda en la memoria, Sancho? -dijo don Quijote.', u'-Mal cristiano eres, Sancho -dijo, oyendo esto, don Quijote-, porque nunca', u'don Quijote, por parecerle que siempre hab\\xeda de hablar d\\xe9l y de Sancho, sin', u'-T\\xfa est\\xe1s en lo cierto, Sancho -dijo don Quijote-: vete adonde quisieres, y', u'-No te entiendo, Sancho -dijo luego don Quijote-, pues no s\\xe9 qu\\xe9 quiere', u'-Don Quijote de la Mancha -respondi\\xf3 Sancho Panza-, y es caballero', u'-Yo no me acuerdo, Sancho -respondi\\xf3 don Quijote-, del tal cap\\xedtulo; y,', u'Sancho al trav\\xe9s en el agua; pero v\\xednole bien a don Quijote, que sab\\xeda', u'arrebatadamente a Sancho y a don Quijote, los entraron en el patio,', u'-\\xbfQui\\xe9n te mete a ti en esto, Sancho? -dijo don Quijote.', u'Cap\\xedtulo XLIII. De los consejos segundos que dio don Quijote a Sancho Panza', u'-\\xbfQue te faltan las alforjas, Sancho? -dijo don Quijote.', u'-\\xa1Que todav\\xeda das, Sancho -dijo don Quijote-, en decir, en pensar, en creer', u'-Quiz\\xe1, Sancho -respondi\\xf3 don Quijote-, no se estender\\xe1 el encantamento a', u'las trincheas de Sancho, y derribando no s\\xf3lo a don Quijote, sino llevando', u'-\\xbfQui\\xe9n ha de ser -respondi\\xf3 Sancho- sino el mismo don Quijote de la', u'Quijote y a Sancho, a quien dio los diez escudos prometidos, que hasta', u'asimismo el duque y don Quijote, y pusi\\xe9ronse a sus lados; Sancho se puso', u'Quijote y Sancho, con intenci\\xf3n de buscar alg\\xfan lugar donde bizmarle y', u'-Yo no veo, Sancho -dijo don Quijote-, sino a tres labradoras sobre tres', u'Ri\\xf3se don Quijote del donaire de Sancho, pero, con todo, propuso de', u'-En ninguna manera me enojar\\xe9 -respondi\\xf3 don Quijote-. Bien puedes, Sancho,', u'\"Vengan m\\xe1s quijotadas: embista don Quijote y hable Sancho Panza, y sea lo', u'Quijote, el cual iba sin celada, que la llevaba Sancho como maleta en el', u'-Muy fil\\xf3sofo est\\xe1s, Sancho -respondi\\xf3 don Quijote-, muy a lo discreto', u'Ape\\xe1ronse don Quijote y Sancho, y, dejando al jumento y a Rocinante a sus', u'-Simplic\\xedsimo eres, Sancho -respondi\\xf3 don Quijote-; y mira que este gran', u'-No tornes a esas pl\\xe1ticas, Sancho, por tu vida -dijo don Quijote-, que me', u'En tanto, pues, que esto pasaba Sancho, estaba don Quijote mirando c\\xf3mo,', u'Tendieron don Quijote y Sancho la vista por todas partes: vieron el mar,', u'de don Quijote y de Sancho, que no advirtieron lo que ser pod\\xeda. Lleg\\xf3 de', u'-No lo dudes, Sancho -replic\\xf3 don Quijote-, porque del mesmo y por los', u'partieron los dos, y don Quijote y Sancho despu\\xe9s, como se ha dicho: don', u'Llegado, pues, el esperado d\\xeda, arm\\xf3se don Quijote, visti\\xf3se Sancho, y,', u'A las nuevas desta venida de don Quijote, acudi\\xf3 la mujer de Sancho Panza,', u'D\\xe9janse de poner aqu\\xed los llantos de Sancho, sobrina y ama de don Quijote,', u'-Erutar, Sancho, que no regoldar -dijo don Quijote.', u'Ri\\xf3se don Quijote de la interpretaci\\xf3n que Sancho hab\\xeda dado al nombre y al', u'-Pues \\xe9sa es tu determinaci\\xf3n -replic\\xf3 don Quijote-, Sancho bueno, Sancho', u'-Don Quijote dir\\xeda, se\\xf1ora -dijo a esta saz\\xf3n Sancho Panza-, o, por otro', u'de don Quijote y de la de Sancho Panza; y, confirm\\xe1ndose en la intenci\\xf3n', u'Quijote, es ahora el se\\xf1or Sancho gobernador de la \\xednsula Barataria, como', u'estas bendiciones por ver que tiene ya en campa\\xf1a a don Quijote y a Sancho,', u'muestras de estar corrido. Mir\\xf3 tambi\\xe9n don Quijote a Sancho, y viole que', u'Cuenta la historia que cuando don Quijote daba voces a Sancho que le', u'Con las voces y gemidos de Sancho revivi\\xf3 don Quijote, y la primer palabra', u'-T\\xfa tienes raz\\xf3n, Sancho amigo -respondi\\xf3 don Quijote-, y halo hecho muy', u'Sancho; don Quijote puso mano a su espada y arremeti\\xf3 a los cuadrilleros.', u'-M\\xe1s has dicho, Sancho, de lo que sabes -dijo don Quijote-; que hay algunos', u'-Ya te he dicho, Sancho -respondi\\xf3 don Quijote-, que sabes poco de achaque', u'-Reducida has de decir, Sancho -dijo don Quijote-, que no relucida.', u'Sancho Panza en el suelo. Don Quijote, que vio tan malparado a Sancho,', u'-Eng\\xe1\\xf1aste, Sancho -dijo don Quijote-; seg\\xfan aquello, quando caput', u'En resoluci\\xf3n, Sancho acomod\\xf3 a don Quijote sobre el asno y puso de reata a', u'amigos, con don Quijote y Sancho, fueron a las galeras. El cuatralbo, que', u'-\\xa1Oh Sancho bendito! \\xa1Oh Sancho amable -respondi\\xf3 don Quijote-, y cu\\xe1n', u'-Eso puedes t\\xfa decir bien, Sancho -replic\\xf3 don Quijote-, pues la viste en', u'-\\xbfTan malas obras te hago, Sancho -respondi\\xf3 don Quijote-, que me querr\\xedas', u'reposaba don Quijote sali\\xf3 Sancho Panza todo alborotado, diciendo a voces:', u'-Mira, Sancho -dijo don Quijote-: dondequiera que est\\xe1 la virtud en', u'Cont\\xf3 don Quijote por menudo todo el suceso del gobierno de Sancho, con que', u'don Quijote que llegasen a ella a beber un trago. Apenas oy\\xf3 esto Sancho', u'En tanto que don Quijote pasaba el libro, pasaba Sancho la maleta, sin', u'-Duerme, Sancho amigo -respondi\\xf3 don Quijote-, si es que te dan lugar los', u'del retablo, y acomodados don Quijote, Sancho, el paje y el primo en los', u'-No te maravilles deso, Sancho amigo -respondi\\xf3 don Quijote-, porque te', u'-\\xa1Santo Dios! \\xbfQu\\xe9 es lo que dices, Sancho amigo? -dijo don Quijote-. Mira', u'-Yo te aseguro, Sancho -dijo don Quijote-, que debe de ser alg\\xfan sabio', u'Sancho, como del estremo de la locura de don Quijote.', u'-As\\xed lo has de hacer, Sancho -dijo don Quijote-, y dar\\xe1sme aviso de todo lo', u'-Los sucesos lo dir\\xe1n, Sancho -respondi\\xf3 don Quijote-; que el tiempo,', u'persuasi\\xf3n de Sancho, comido don Quijote de lo que ven\\xeda en el repuesto del', u'Con esto se despidieron, y don Quijote y Sancho se retiraron a su aposento,', u'-Tienes mucha raz\\xf3n, Sancho -dijo don Quijote-; mas, para decirte verdad,', u'Esto dicho, volvi\\xf3 Sancho las espaldas y vare\\xf3 su rucio, y don Quijote se', u'Y, diciendo esto, don Quijote se apart\\xf3 con Sancho en remota parte, de', u'-Pregunta lo que quisieres, hijo Sancho -respondi\\xf3 don Quijote-, que yo te', u'Entraron a don Quijote en una sala, desarm\\xf3le Sancho, qued\\xf3 en valones y en', u'Qued\\xf3 pasmado don Quijote, absorto Sancho, suspenso el primo, at\\xf3nito el', u'-Sigue tu cuento, Sancho -dijo don Quijote-, y del camino que hemos de', u'Quijote se colg\\xf3 del cuello de Sancho, d\\xe1ndole mil besos en la frente y en', u'llegaban ijadeando; y dijo don Quijote a Sancho:', u'satisfaci\\xf3n de don Quijote que de Sancho.', u'pedrada; Sancho, en pelota y temeroso de la Santa Hermandad; don Quijote,', u'-Bien has dicho, Sancho -respondi\\xf3 don Quijote-: cu\\xe9lguense mis armas por', u'-Eng\\xe1\\xf1aste en eso, Sancho -respondi\\xf3 don Quijote-; que, ya que hemos ca\\xeddo', u'-Peor es meneallo, amigo Sancho -respondi\\xf3 don Quijote.', u'Volvieron a subir don Quijote y Sancho; con el mismo aplauso y m\\xfasica', u'Quijote y Sancho, sobre Rocinante y el rucio, se partieron.', u'-Ahora yo te digo, Sancho -dijo don Quijote-, que eres un mentecato; y', u'-Yo lo creo, Sancho -dijo don Quijote-; ve en buena hora, y Dios te gu\\xede.', u'Ri\\xf3se don Quijote de las r\\xfasticas alabanzas de Sancho Panza; pareci\\xf3le que,', u'-Si yo te hubiera de pagar, Sancho -respondi\\xf3 don Quijote-, conforme lo que', u'cuanto quiso, y Sancho se lo llev\\xf3 a don Quijote, que estaba con las manos', u'Panza, mujer de Sancho, ad\\xf3nde don Quijote quedaba, busc\\xf3 nuevas armas y', u'gustaba de las cosas de Sancho y de don Quijote; y haciendo tomar los', u'-Encomendadlo a Dios, Sancho -dijo don Quijote-, que todo se har\\xe1 bien, y', u'Fuese llegando a ellos don Quijote, no con poca pesadumbre de Sancho, que', u'-Prosigue, Sancho amigo, y no desmayes -le dijo don Quijote-, que yo doblo', u'Oyendo esto don Quijote, le dijo a Sancho:', u'esperando a don Quijote y a Sancho, el cual no quiso subir a ver al duque', u'En el que estuvieron encerrados don Quijote y Sancho, pasaron las razones', u'-Bien dices, Sancho -respondi\\xf3 don Quijote-, y ser\\xe1 gran prudencia dejar', u'-No temas eso, Sancho -dijo don Quijote-, que mejor lo har\\xe1 el cielo', u'-\\xa1Qu\\xe9 mal lo entiendes! -respondi\\xf3 don Quijote-. H\\xe1gote saber, Sancho, que', u'retir\\xf3 don Quijote con Sancho a un rinc\\xf3n de la caballeriza, donde, sin ser', u'As\\xed como entr\\xf3 en la venta, conoci\\xf3 a don Quijote y a Sancho, por cuyo', u'contar a Sancho siglos, si los viviera; y, lleg\\xe1ndose don Quijote a Sancho,', u'-Has dicho, Sancho -dijo don Quijote-, mil sentencias encerradas en el', u'Sancho y Carrasco, a quien don Quijote recibi\\xf3 con mucha cortes\\xeda.', u'H\\xedzolo as\\xed don Quijote, pareci\\xe9ndole que las razones de Sancho m\\xe1s eran de', u'-Por Dios, Sancho -dijo don Quijote-, que, por solas estas \\xfaltimas razones', u'-A fe, Sancho -dijo don Quijote-, que, a lo que parece, que no est\\xe1s t\\xfa m\\xe1s', u'-Si desa manera cuentas tu cuento, Sancho -dijo don Quijote-, repitiendo', u'Quijote y con Sancho Panza en el suelo, medio chamuscados.', u'-Socarr\\xf3n sois, Sancho -respondi\\xf3 don Quijote-. A fee que no os falta', u'-Eso me parece, Sancho -dijo don Quijote-, a lo que sucedi\\xf3 a un famoso', u'-Como me quieres bien, Sancho, hablas desa manera -dijo don Quijote-; y,', u'cuadrilleros, Sancho, Rocinante, cura y barbero, y m\\xe1s a don Quijote,', u'Cap\\xedtulo XLII. De los consejos que dio don Quijote a Sancho Panza antes que', u'-T\\xfa debes, Sancho -dijo don Quijote-, errarte en el sobrenombre de ese', u'Don Quijote callaba, y Sancho andaba muerto por ver el rostro de la', u'En resoluci\\xf3n, en aquellos tres d\\xedas don Quijote y Sancho se acomodaron de', u'suyo y gusto de don Quijote, hab\\xeda de ser castillo. Porfiaba Sancho que era', u'-Habla con respeto, Sancho, de las cosas de mi se\\xf1ora -dijo don Quijote-, y', u'-\\xbfBardas de corral se te antojaron aqu\\xe9llas, Sancho -dijo don Quijote-,', u'Carta de Sancho Panza a don Quijote de la Mancha', u'-Con todo eso, vamos all\\xe1, Sancho -replic\\xf3 don Quijote-, que como yo la', u'Sigui\\xf3 su camino el carro, y don Quijote, Sancho y el del Verde Gab\\xe1n', u'enjalmas, la moza a su rancho; solos los desventurados don Quijote y Sancho', u'tales casos deb\\xedan hacerse, con lo que quedaron don Quijote y Sancho muy', u'-En eso har\\xe1s lo que debes, Sancho -dijo don Quijote-, porque, para entrar', u'Quijote de la Mancha es loco, menguado y mentecato, y Sancho Panza su', u'-Sancho amigo -respondi\\xf3 don Quijote-, a las veces, tan buena suele ser una', u'quien don Quijote quit\\xf3 el yelmo de Mambrino y Sancho Panza los aparejos', u'-Antes creo, Sancho -dijo don Quijote-, que te quieres encaramar y subir en', u'-En fin -dijo don Quijote-, bien se parece, Sancho, que eres villano y de', u'-\\xbfNo te lo dec\\xeda yo? -dijo don Quijote-. Esp\\xe9rate, Sancho, que en un credo', u'Entr\\xf3 Sancho, y el cura y el barbero se despidieron de don Quijote, de cuya', u'-Aqu\\xed -dijo, en vi\\xe9ndole, don Quijote- podemos, hermano Sancho Panza, meter', u'acab\\xf3 su pl\\xe1tica, y Sancho volvi\\xf3 a ver a don Quijote para dar orden en su', u'mov\\xedan. Pasm\\xf3se Sancho en vi\\xe9ndolas, y don Quijote no las tuvo todas', u'A esta saz\\xf3n, dijo don Quijote, volvi\\xe9ndose a Sancho:', u'Solos quedaron jumento y Rocinante, Sancho y Don Quijote; el jumento,', u'-\\xbfPor qu\\xe9 lo dices, Sancho? -dijo don Quijote.', u'porque no fuese conocido de Sancho ni de don Quijote.', u'-\\xbfQuerr\\xe1s t\\xfa decir agora, Sancho -respondi\\xf3 don Quijote-, que no me dol\\xeda', u'-\\xbfEs posible -le dijo don Quijote- que todav\\xeda, \\xa1oh Sancho!, pienses que', u'Don Quijote, que vio la atenci\\xf3n con que Sancho miraba lo que pasaba, le', u'de don Quijote y azor\\xf3se el de Sancho, porque la gente que se les llegaba', u'-No digo yo, Sancho -replic\\xf3 don Quijote-, que sea forzoso a los caballeros', u'Cuando estaban don Quijote y Sancho en las razones referidas en el cap\\xedtulo', u'-\\xbfQu\\xe9 quieres, Sancho hermano? -respondi\\xf3 don Quijote con el mesmo tono', u'-H\\xedncate de rodillas, Sancho -dijo don Quijote-, y besa los pies a Su', u'-Mira, Sancho -respondi\\xf3 don Quijote-: yo traigo los refranes a prop\\xf3sito,', u'-D\\xe9jate deso y saca fuerzas de flaqueza, Sancho -respondi\\xf3 don Quijote-,', u'alborot\\xf3 a don Quijote y puso miedo en el coraz\\xf3n de Sancho; mas luego se', u'-Naturalmente eres cobarde, Sancho -dijo don Quijote-, pero, porque no', u'Rompi\\xf3 tambi\\xe9n el silencio don Quijote, diciendo a Sancho:', u'Quijote ni a las sandeces de Sancho, salieran a luz. Y as\\xed, en esta segunda', u'-Eso no -dijo a esta saz\\xf3n Sancho, antes que don Quijote respondiese-. Y a', u'-Aun las tuyas, Sancho -replic\\xf3 don Quijote-, deben de estar hechas a', u'-Ya te tengo dicho antes de agora muchas veces, Sancho -dijo don Quijote-,', u'-S\\xe1bete, amigo Sancho -respondi\\xf3 don Quijote-, que la vida de los', u'Cap\\xedtulo III. Del rid\\xedculo razonamiento que pas\\xf3 entre don Quijote, Sancho', u'Hici\\xe9ronlo as\\xed, y, qued\\xe1ndose solos don Quijote, Sancho y Roque, aguardaron', u'Quijote, que ya Sancho hab\\xeda dado al trav\\xe9s con todo su esfuerzo. Lo', u'Cap\\xedtulo LXXII. De c\\xf3mo don Quijote y Sancho llegaron a su aldea', u'son borricos, o borricas, como yo soy don Quijote y t\\xfa Sancho Panza; a lo', u'Di\\xe9ronle a don Quijote un vestido de monte y a Sancho otro verde, de', u'-\\xa1Oh, maldito seas de Dios, Sancho! -dijo a esta saz\\xf3n don Quijote-.', u'-Ya te entiendo, Sancho -respondi\\xf3 don Quijote-: t\\xfa mueres porque te alce', u'de don Quijote, ni a la de Sancho, pasaron por cima de los dos, deshaciendo', u'Volvi\\xf3 Sancho a casa de don Quijote, y, volviendo al pasado razonamiento,', u'-\\xbfHas acabado tu arenga, Sancho? -dijo don Quijote.', u'-Yo no me acuerdo de nada, Sancho -respondi\\xf3 don Quijote-; di lo que', u'-Por cierto -dijo don Quijote-, que la parsimonia y limpieza con que Sancho']\n"
     ]
    }
   ],
   "source": [
    "nquijs = quijssanchs.count()\n",
    "print(\"Líneas con Quijote y Sancho: {0}\\n\".format(nquijs))\n",
    "\n",
    "print(\"Muestra de 10 de estas líneas, sin repetición\")\n",
    "for l in quijssanchs.takeSample(False, 10):\n",
    "    print(l)\n",
    "\n",
    "print(\"\\n\\nTodas las líneas\\n {0}\".format(quijssanchs.collect()))"
   ]
  },
  {
   "cell_type": "code",
   "execution_count": null,
   "metadata": {
    "collapsed": false
   },
   "outputs": [],
   "source": []
  }
 ],
 "metadata": {
  "anaconda-cloud": {},
  "kernelspec": {
   "display_name": "Python [default]",
   "language": "python",
   "name": "python2"
  },
  "language_info": {
   "codemirror_mode": {
    "name": "ipython",
    "version": 2
   },
   "file_extension": ".py",
   "mimetype": "text/x-python",
   "name": "python",
   "nbconvert_exporter": "python",
   "pygments_lexer": "ipython2",
   "version": "2.7.12"
  }
 },
 "nbformat": 4,
 "nbformat_minor": 0
}
