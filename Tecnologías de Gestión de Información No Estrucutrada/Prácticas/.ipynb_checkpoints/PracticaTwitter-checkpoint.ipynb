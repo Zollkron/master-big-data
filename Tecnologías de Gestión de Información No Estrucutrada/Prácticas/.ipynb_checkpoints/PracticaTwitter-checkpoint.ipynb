{
 "cells": [
  {
   "cell_type": "markdown",
   "metadata": {},
   "source": [
    "# Segunda práctica de TGINE: Clasificador de Tweets"
   ]
  },
  {
   "cell_type": "markdown",
   "metadata": {},
   "source": [
    " Los personajes elegidos para la práctica son Lady Gaga y Robbie Williams ya que ambos son del mismo gremio (cantantes pop), pero también tienen sus estilos y diferencias. Lady Gaga es una chica y al ser neoyorquina su inglés es americano. Robbie Williams es un chico y su inglés es británico. Por tanto aunque ambos compartan cosas en común como la música, los discos, los premios Grammy, etc... También tienen sus caracterísitcas diferenciadoras y por eso quería poner a prueba la potencia de los clasificadores de Scikit-Learn con un caso tan particular como este."
   ]
  },
  {
   "cell_type": "markdown",
   "metadata": {},
   "source": [
    " La primera parte de la práctica consiste en leer los tweets de cada uno hasta conseguir el máximo que nos dejara Twitter. En el caso de Lady Gaga pude recuperar un máximo de 2938 tweets y en el caso de Robbie Williams 2969 por lo que el tamaño muestral entre un personaje y otro no era muy distinto entre ellos y lo consideraba suficiente para hacer la práctica. Tras ello debíamos persistirlos en disco, y al igual que en la primera práctica de Reddit elegí el formato XML como la mejor opción."
   ]
  },
  {
   "cell_type": "markdown",
   "metadata": {},
   "source": [
    " Para ello se define el siguiente XML Schema, que luego nos servirá para validar que el documento está bien estructurado antes de guardarlo en disco.\n",
    "\n",
    "- esquema-twitter.xsd"
   ]
  },
  {
   "cell_type": "raw",
   "metadata": {},
   "source": [
    "<?xml version=\"1.0\" encoding=\"UTF-8\"?>\n",
    "<xs:schema xmlns:xs=\"http://www.w3.org/2001/XMLSchema\" targetNamespace=\"practicaTwitter\" xmlns=\"practicaTwitter\" elementFormDefault=\"qualified\">\n",
    "  <xs:element name=\"twitter\">\n",
    "    <xs:complexType>\n",
    "      <xs:sequence>\n",
    "        <xs:element name=\"personaje\" minOccurs=\"2\" maxOccurs=\"2\">\n",
    "          <xs:complexType>\n",
    "            <xs:sequence>\n",
    "              <xs:element name=\"tweet\" minOccurs=\"1\" maxOccurs=\"unbounded\">\n",
    "                <xs:complexType>\n",
    "                  <xs:attribute name=\"id\" type=\"xs:string\" />\n",
    "              \t  <xs:attribute name=\"autor\" type=\"xs:string\" />\n",
    "              \t  <xs:attribute name=\"fecha\" type=\"xs:dateTime\" />\n",
    "              \t  <xs:attribute name=\"texto\" type=\"xs:string\" />\n",
    "                </xs:complexType>\n",
    "              </xs:element>\n",
    "            </xs:sequence>\n",
    "            <xs:attribute name=\"nombre\" type=\"xs:string\" />\n",
    "          </xs:complexType>\n",
    "        </xs:element>\n",
    "      </xs:sequence>\n",
    "      <xs:attribute name=\"nombre\" type=\"xs:string\" />\n",
    "    </xs:complexType>\n",
    "  </xs:element>\n",
    "</xs:schema>"
   ]
  },
  {
   "cell_type": "markdown",
   "metadata": {},
   "source": [
    " Como se puede apreciar el XML esquema sigue un orden jeráquico de los elementos que nos vamos a encontrar en la lectura de los tweets de cada personaje. El elemento 'twitter' sería el elemento raíz que recoge un atributo nombre que por defecto se llamará \"twitter\" también. Después tendrá dos hijos, denominados 'personajes' que recogerán los tweets de cada personaje desde los más recientes hasta el límite histórico que nos deje Twitter. Aunque se guardan cuatro atributos, que son id del tweet, autor, fecha y texto, para el vectorizador sólo nos importará el texto."
   ]
  },
  {
   "cell_type": "markdown",
   "metadata": {},
   "source": [
    "## Primer Script: Practica2-TGINE-Twitter-CreacionXML.py "
   ]
  },
  {
   "cell_type": "code",
   "execution_count": 21,
   "metadata": {
    "collapsed": false
   },
   "outputs": [],
   "source": [
    "#!/usr/bin/env python2\n",
    "# -*- coding: utf-8 -*-\n",
    "\"\"\"\n",
    "Created on Tue Dec 13 01:20:10 2016\n",
    "\n",
    "@author: moises\n",
    "\"\"\"\n",
    "\n",
    "#Importación de librerías\n",
    "import tweepy\n",
    "import time\n",
    "import sys\n",
    "import xml.etree.ElementTree as ET\n",
    "from lxml import etree\n",
    "#from pprint import pprint\n",
    "\n",
    "#Definición y cuerpo de las funciones\n",
    "def conectarATwitter():\n",
    "    consumer_key = \"laKE1QB5iFi0KuC7x5bQmkbTN\"\n",
    "    consumer_secret = \"Kb4JxhQiIejiO5KCchCuQ0xrebLgeNzCjj7ac2ZBGVqFoliLuc\"\n",
    "    access_token = \"555410287-aoOran4OYexuSRO5UhrBcga99foD8HbpDPv9IwMR\"\n",
    "    access_token_secret = \"ZGZ3DM91Aeyti8CI3MZ4WP0hRfxKWdJcoWqrjffeh5CZb\"\n",
    "\n",
    "    auth = tweepy.OAuthHandler(consumer_key, consumer_secret)\n",
    "    auth.set_access_token(access_token, access_token_secret)\n",
    "\n",
    "    wrapper = tweepy.API(auth, wait_on_rate_limit=True, wait_on_rate_limit_notify=True, retry_count=3, retry_delay=60)\n",
    "    return wrapper"
   ]
  },
  {
   "cell_type": "markdown",
   "metadata": {},
   "source": [
    " Se crea una primera función para conectar a Twitter usando la librería tweepy que ha sido la que he encontrado más actualizada y con más documentación. Esta función nos devolverá el wrapper a partir del cual obtendremos los tweets de cada personaje."
   ]
  },
  {
   "cell_type": "markdown",
   "metadata": {},
   "source": [
    "NOTA: Se usa pprint para la identificación de los atributos de los objetos devueltos por Twitter ya que en la documentación de Twitter no he podido encontrar nada que me lo indicase. Se deja como comentario para que no interfiera en el la ejecución del script, pero me gustaría dejarlo constar una vez más."
   ]
  },
  {
   "cell_type": "code",
   "execution_count": 22,
   "metadata": {
    "collapsed": false
   },
   "outputs": [],
   "source": [
    "def construirXML(wrapper):\n",
    "    xmlnsUri = \"practicaTwitter\"\n",
    "    xmlnsXsi = \"http://www.w3.org/2001/XMLSchema-instance\"\n",
    "    xsiSchema = \"practicaTwitter practicaTwitter.xsd\"\n",
    "    raiz = ET.Element(\"twitter\", nombre=\"twitter\", xmlns=xmlnsUri, \n",
    "                  **{'xmlns:xsi':xmlnsXsi,'xsi:schemaLocation':xsiSchema})\n",
    "    print \"LADY GAGA\"\n",
    "    #Se crea un elemento personaje para Lady Gaga dentro del XML\n",
    "    ladygaga = ET.SubElement(raiz, \"personaje\", nombre=\"Lady Gaga\")\n",
    "    maximo_id = -1\n",
    "    for i in range(1,16):\n",
    "        if maximo_id != -1:\n",
    "            tweets = wrapper.user_timeline(screen_name=\"@ladygaga\",count=200, include_retweets=False, max_id=maximo_id)\n",
    "        else:\n",
    "            tweets = wrapper.user_timeline(screen_name=\"@ladygaga\",count=200, include_retweets=False)\n",
    "        for tweet in tweets:\n",
    "            fecha_formateada = tweet.created_at.strftime(\"%Y-%m-%dT%H:%M:%S\")\n",
    "            ET.SubElement(ladygaga, \"tweet\", id=tweet.id_str, autor=tweet.author.screen_name, fecha=fecha_formateada, texto=tweet.text)\n",
    "            maximo_id = tweet.id\n",
    "        time.sleep(60)\n",
    "    #Añadimos un descanso de 5 minutos más entre ambos personajes por si acaso\n",
    "    time.sleep(300)\n",
    "    print \"ROBBIE WILLIAMS\"\n",
    "    #Se crea un elemento personaje para Robbie Williams dentro del XML\n",
    "    robbiewilliams = ET.SubElement(raiz, \"personaje\", nombre=\"Robbie Williams\")\n",
    "    maximo_id = -1\n",
    "    for i in range(1,16):\n",
    "        if maximo_id != -1:\n",
    "            tweets = wrapper.user_timeline(screen_name=\"@robbiewilliams\",count=200, include_retweets=False, max_id=maximo_id)\n",
    "        else:\n",
    "            tweets = wrapper.user_timeline(screen_name=\"@robbiewilliams\",count=200, include_retweets=False)\n",
    "        for tweet in tweets:\n",
    "            fecha_formateada = tweet.created_at.strftime(\"%Y-%m-%dT%H:%M:%S\")\n",
    "            ET.SubElement(robbiewilliams, \"tweet\", id=tweet.id_str, autor=tweet.author.screen_name, fecha=fecha_formateada, texto=tweet.text)\n",
    "            maximo_id = tweet.id\n",
    "        time.sleep(60)\n",
    "    return raiz"
   ]
  },
  {
   "cell_type": "markdown",
   "metadata": {},
   "source": [
    " A diferencia de la primera práctica no hay que obtener ninguna subred ni nada parecido sino directamente solicitarle los tweets de cada personaje en los intervalos fijados por el rate_limit de Twitter, en este caso una llamada por minuto para un window frame de 15 minutos. Se deja después un descanso de más de 5 minutos para asegurarnos de que los tweets del segundo personaje los empieza a recuperar en otra window frame de otros 15 minutos. Como detalle especial comentar que siempre hay que guardar el último id del tweet recibido en cada llamada para que la próxima vez nos devuelva los 200 máximos anteriores a ese. A pesar de las 15 iteraciones llega un momento en el que no puede traerse más Tweets ya que Twitter tiene también un límite de años de antigüedad, por ejemplo no me dejó recuperar ningún tweet más allá del año 2012.\n",
    " \n",
    " - Siguien el esquema XML conforme se van obteniendo los tweets se van guardando en documento XML en memoria."
   ]
  },
  {
   "cell_type": "code",
   "execution_count": null,
   "metadata": {
    "collapsed": false
   },
   "outputs": [],
   "source": [
    "def validarXML(xml):\n",
    "   fichero = open(\"esquema-twitter.xsd\",\"r\")\n",
    "   schema = etree.XML(fichero.read())\n",
    "   xmlSchema = etree.XMLSchema(schema)\n",
    "   xmlParser = etree.XMLParser(schema = xmlSchema)\n",
    "   try:\n",
    "       etree.fromstring(ET.tostring(xml), xmlParser) \n",
    "   except etree.XMLSyntaxError:\n",
    "       mensaje = \"El XML no se ha validado porque:\\n\" + str(sys.exc_info()[1])\n",
    "       print(mensaje)\n",
    "       return False     \n",
    "   else:\n",
    "       mensaje = \"El XML generado es correcto.\"\n",
    "       print(mensaje)\n",
    "       return True    "
   ]
  },
  {
   "cell_type": "markdown",
   "metadata": {},
   "source": [
    " Tras ello hay una función de validarXML para asegurarnos que el XML construido en memoria es correcto según el esquema que hemos definido antes de persistirlo en disco. "
   ]
  },
  {
   "cell_type": "code",
   "execution_count": null,
   "metadata": {
    "collapsed": true
   },
   "outputs": [],
   "source": [
    "#Principio de la identación de Python en este script (que coloquialmente podemos asimilar a la función main)\n",
    "wrapper = conectarATwitter()\n",
    "xml = construirXML(wrapper)\n",
    "resultado = validarXML(xml)\n",
    "if resultado == True:\n",
    "    print(\"Guardamos\")\n",
    "    from xml.dom import minidom\n",
    "    xmlstr = minidom.parseString(ET.tostring(xml)).toprettyxml(indent=\"   \")\n",
    "    with open(\"CantantesTwitter.xml\", \"w\") as f:\n",
    "        f.write(xmlstr.encode('utf-8'))"
   ]
  },
  {
   "cell_type": "markdown",
   "metadata": {},
   "source": [
    " Lo que viene a continuación se podría decir que es \"la función main\" del script, pero para Python en realidad es el principio de su identación en este script. Tras generar el XML ya tenemos los datos necesarios para leerlo, extraer sus tweets y pasaro por el vectorizador de scikit-learn y los distintos clasificadores, y eso es justo lo que hará el segundo script. "
   ]
  },
  {
   "cell_type": "markdown",
   "metadata": {},
   "source": [
    "## Segundo Script: Practica2-TGINE-Twitter-Vectorizacion.py"
   ]
  },
  {
   "cell_type": "code",
   "execution_count": 23,
   "metadata": {
    "collapsed": false
   },
   "outputs": [],
   "source": [
    "#!/usr/bin/env python2\n",
    "# -*- coding: utf-8 -*-\n",
    "\"\"\"\n",
    "Created on Tue Dec  6 18:05:54 2016\n",
    "\n",
    "@author: moises\n",
    "\"\"\"\n",
    "#Importación de librerías\n",
    "from lxml import etree\n",
    "from sklearn.feature_extraction.text import TfidfVectorizer\n",
    "import matplotlib.pyplot as plotter\n",
    "from sklearn import svm\n",
    "\n",
    "#Definición y cuerpo de las funciones\n",
    "def leerXML(ruta):\n",
    "    return etree.parse(ruta)"
   ]
  },
  {
   "cell_type": "markdown",
   "metadata": {},
   "source": [
    " La primera función sólo se limita a leer el contenido del fichero XML guardado en disco por el anterior script, en nuestro caso particular es 'CantantesTwitter.xml'."
   ]
  },
  {
   "cell_type": "code",
   "execution_count": 24,
   "metadata": {
    "collapsed": false
   },
   "outputs": [],
   "source": [
    "def extraerTweets(personaje):\n",
    "    tweets = []\n",
    "    for tweet in personaje:\n",
    "        #print post.get('texto')\n",
    "        tweets.append(tweet.get('texto'))\n",
    "    return tweets"
   ]
  },
  {
   "cell_type": "markdown",
   "metadata": {},
   "source": [
    " La segunda función extraerTweets es para que construya una colección de documentos de texto a partir del texto de los tweets, cada tweet formaría un documento individual."
   ]
  },
  {
   "cell_type": "code",
   "execution_count": 26,
   "metadata": {
    "collapsed": true
   },
   "outputs": [],
   "source": [
    "def crearMatrizConfusion(real, predicho):\n",
    "    x,y = 2,2\n",
    "    matrizConfusion = [[0 for i in range(x)] for j in range(y)] \n",
    "    i = 0\n",
    "    for elemento in predicho:\n",
    "        if(real[i] == 0 and elemento == 0):\n",
    "            matrizConfusion[0][0] += 1\n",
    "        if(real[i] == 0 and elemento == 1):\n",
    "            matrizConfusion[0][1] += 1\n",
    "        if(real[i] == 1 and elemento == 0):\n",
    "            matrizConfusion[1][0] += 1\n",
    "        if(real[i] == 1 and elemento == 1):\n",
    "            matrizConfusion[1][1] += 1    \n",
    "        i += 1\n",
    "    return matrizConfusion\n",
    "    \n",
    "def obtenerPrecision(matrizConfusion):\n",
    "    a = matrizConfusion[0][0]\n",
    "    b = matrizConfusion[0][1]\n",
    "    c = matrizConfusion[1][0]\n",
    "    d = matrizConfusion[1][1]\n",
    "    precision = float(a+d)/float(a+b+c+d)\n",
    "    return precision\n",
    "    \n",
    "def probabilidad(casos, todos):\n",
    "    return float(casos)/float(todos)"
   ]
  },
  {
   "cell_type": "markdown",
   "metadata": {},
   "source": [
    " Éstas son funciones auxiliares que luego nos vendrán bien a la hora de calcular la Matriz de Confusión, y la Precisión para medir la bondad y comportamiento de un clasificador; y la probablidad tanto de positividad como de negatividad en el análisis básico de sentimiento."
   ]
  },
  {
   "cell_type": "code",
   "execution_count": 27,
   "metadata": {
    "collapsed": false
   },
   "outputs": [],
   "source": [
    "#Principio de la identación de Python en este script (que coloquialmente podemos asimilar a la función main)\n",
    "\n",
    "#Leemos el documento XML creado con el script anterior\n",
    "documentoXML = leerXML(\"CantantesTwitter.xml\")\n",
    "#Extraemos el elemento raíz\n",
    "raiz = documentoXML.getroot()\n",
    "#A partir de dicho elemento raíz extraemos los Tweets de cada Personaje\n",
    "tweetsLadyGaga = extraerTweets(raiz[0])\n",
    "totalTweetsLG = len(tweetsLadyGaga)\n",
    "#print totalTweetsLG\n",
    "tweetsRobbieWilliams = extraerTweets(raiz[1])\n",
    "totalTweetsRW = len(tweetsRobbieWilliams)\n",
    "#print totalTweetsRW"
   ]
  },
  {
   "cell_type": "markdown",
   "metadata": {},
   "source": [
    " Leemos el fichero XML guardado en disco por el anterior script, en nuestro caso particular es 'CantantesTwitter.xml'. Tras ello, obtenemos el elemento raíz correspondiente que por defecto habíamos puesto 'twitter'. A continuación, le pasamos el primer hijo del elemento raíz a la función extraerTweets que equivale al elemento 'personaje' \"Lady Gaga\" para que construya su colección de documentos de texto. Hacemos lo mismo para el segundo hijo del elemento raíz que equvale al elemento 'personaje' \"Robbie Williams\". Estas dos colecciones de documentos de texto diferenciadas por cada uno de los personajes, son las que usaremos para definirnos nuestros conjuntos de entrenamiento, de test, extraer su bolsa de palabras, etc... más adelante."
   ]
  },
  {
   "cell_type": "code",
   "execution_count": 28,
   "metadata": {
    "collapsed": true
   },
   "outputs": [],
   "source": [
    "tamanyoEntrenamientoLG = int(totalTweetsLG*0.8)\n",
    "#print tamanyoEntrenamientoLG\n",
    "tamanyoEntrenamientoRW = int(totalTweetsRW*0.8)\n",
    "#print tamanyoEntrenamientoRW\n",
    "\n",
    "trainingLG = []\n",
    "testLG = []\n",
    "for i in range(0,totalTweetsLG):\n",
    "    if(i < tamanyoEntrenamientoLG):\n",
    "        trainingLG.append(tweetsLadyGaga[i])\n",
    "    else:\n",
    "        testLG.append(tweetsLadyGaga[i])\n",
    "#print trainingLG\n",
    "#print testLG\n",
    "\n",
    "trainingRW = []\n",
    "testRW = []\n",
    "for i in range(0,totalTweetsRW):\n",
    "    if(i < tamanyoEntrenamientoRW):\n",
    "        trainingRW.append(tweetsRobbieWilliams[i])\n",
    "    else:\n",
    "        testRW.append(tweetsRobbieWilliams[i])\n",
    "#print trainingRW\n",
    "#print testRW\n",
    "\n",
    "y = []\n",
    "training = []\n",
    "for tweet in trainingLG:\n",
    "    training.append(tweet)\n",
    "    y.append(0)\n",
    "\n",
    "for tweet in trainingRW:\n",
    "    training.append(tweet)\n",
    "    y.append(1)\n",
    "\n",
    "#print y\n",
    "\n",
    "y_test = []\n",
    "test = []\n",
    "for tweet in testLG:\n",
    "    test.append(tweet)\n",
    "    y_test.append(0)\n",
    "\n",
    "for tweet in testRW:\n",
    "    test.append(tweet)\n",
    "    y_test.append(1)\n",
    "#print test"
   ]
  },
  {
   "cell_type": "markdown",
   "metadata": {},
   "source": [
    " Antes de crear el vectorizador hago un preprocesamiento de los tweets obtenidos de cada uno para extraer por una parte los conjuntos de entrenamiento de cada uno de forma equitativa (80% de cada uno), así como el conjunto de test de cada uno de forma equitativa (20% de cada uno). Para luego más adelante al combinarlos en un sólo conjunto de training y de test extraer los vectores binarios y e y_test para saber de quienes son los tweets de cada uno. El vector binario y se utilizará para el entrenamiento del clasificador, y el vector binario y_test se utilizará para crear la matriz de confusión y así medir la bondad y comportamiento de cada uno de los clasificadores."
   ]
  },
  {
   "cell_type": "code",
   "execution_count": 29,
   "metadata": {
    "collapsed": false
   },
   "outputs": [],
   "source": [
    "#Creamos el vectorizador para que analice por palabra, y que filtre todas aquellas\n",
    "#palabras que aparezcan en menos de 10 documentos así como las stop_words en inglés\n",
    "vectorizer = TfidfVectorizer(analyzer='word', min_df = 1, stop_words = 'english')\n",
    "#Usando el vectorizador extraemos la matriz vectorizada de todas las palabras\n",
    "matrizVectorizadaTraining = vectorizer.fit_transform(training)\n",
    "matrizVectorizadaTest = vectorizer.transform(test)"
   ]
  },
  {
   "cell_type": "markdown",
   "metadata": {},
   "source": [
    " A continuación, nos creamos un vectorizador del tipo TfidfVectorizer indicándole que lo que queremos es analizar palabras, y que filtre sólo las stop-words en inglés para que me coja todas las palabras relevantes de cada tweet. Una vez preparado el vectorizador, lo usamos para obtener la matriz vectorizada a partir de nuestro conjunto de training, y también hacemos lo propio para el conjunto de test. Como vamos a trabajar con clasificadores de la propia librería de Scikit-Learn no es necesario descomprimir esta vez las matrices vectorizadas para poder utilizarlas en los clasificadores."
   ]
  },
  {
   "cell_type": "markdown",
   "metadata": {},
   "source": [
    "### Clasificadores "
   ]
  },
  {
   "cell_type": "code",
   "execution_count": 30,
   "metadata": {
    "collapsed": false
   },
   "outputs": [
    {
     "name": "stdout",
     "output_type": "stream",
     "text": [
      "[[0, 588], [0, 594]]\n",
      "0.502538071066\n",
      "[[0, 588], [0, 594]]\n",
      "0.502538071066\n",
      "[[0, 588], [0, 594]]\n",
      "0.502538071066\n",
      "[[0, 588], [0, 594]]\n",
      "0.502538071066\n",
      "[[0, 588], [0, 594]]\n",
      "0.502538071066\n",
      "[[0, 588], [0, 594]]\n",
      "0.502538071066\n",
      "[[0, 588], [0, 594]]\n",
      "0.502538071066\n",
      "[[0, 588], [0, 594]]\n",
      "0.502538071066\n",
      "[[0, 588], [0, 594]]\n",
      "0.502538071066\n",
      "[[0, 588], [0, 594]]\n",
      "0.502538071066\n"
     ]
    },
    {
     "data": {
      "image/png": "[encoded data removed]",
      "text/plain": [
       "<matplotlib.figure.Figure at 0x7f31d2ca61d0>"
      ]
     },
     "metadata": {},
     "output_type": "display_data"
    }
   ],
   "source": [
    "precisionesSVCRBF = []\n",
    "ejeX = []\n",
    "#Clasificador SVC con kernel RBF usando C como hiperparámetro\n",
    "for c in range(1, 100, 10):\n",
    "    clf = svm.SVC(C=float(c)/10, kernel='rbf')\n",
    "    clf.fit(matrizVectorizadaTraining, y)     \n",
    "    prediccion = clf.predict(matrizVectorizadaTest)    \n",
    "    matrizConfusion = crearMatrizConfusion(y_test, prediccion)\n",
    "    print matrizConfusion\n",
    "    precision = obtenerPrecision(matrizConfusion)\n",
    "    print precision\n",
    "    precisionesSVCRBF.append(precision)\n",
    "    ejeX.append(float(c)/10)\n",
    "plotter.xlabel('Valor de C')\n",
    "plotter.ylabel('Precision')\n",
    "plotter.plot(ejeX, precisionesSVCRBF, 'k-')\n",
    "plotter.show()"
   ]
  },
  {
   "cell_type": "markdown",
   "metadata": {},
   "source": [
    " Construimos un primer clasificador SVC con kernel RBF, este tipo de kernel usa dos hiperparámetros C y gamma (según hemos visto en la asignatura de Aprendizaje Estadístico), por el momento usamos sólo C como único hiperparámetro y a continuación mostramos mediante una gráfica los resultados de los distintos valores del hiperparámetro C pasados al clasificador creando sus respectivas matrices de confusión y preciones. Después haremos lo mismo pero con el hiperparámetro gamma."
   ]
  },
  {
   "cell_type": "code",
   "execution_count": 31,
   "metadata": {
    "collapsed": false,
    "scrolled": true
   },
   "outputs": [
    {
     "name": "stdout",
     "output_type": "stream",
     "text": [
      "[[511, 77], [20, 574]]\n",
      "0.9179357022\n",
      "[[506, 82], [23, 571]]\n",
      "0.91116751269\n",
      "[[484, 104], [24, 570]]\n",
      "0.891708967851\n",
      "[[472, 116], [18, 576]]\n",
      "0.886632825719\n",
      "[[354, 234], [0, 594]]\n",
      "0.802030456853\n",
      "[[60, 528], [0, 594]]\n",
      "0.553299492386\n",
      "[[17, 571], [0, 594]]\n",
      "0.516920473773\n",
      "[[11, 577], [0, 594]]\n",
      "0.511844331641\n",
      "[[8, 580], [0, 594]]\n",
      "0.509306260575\n"
     ]
    },
    {
     "data": {
      "image/png": "[encoded data removed]",
      "text/plain": [
       "<matplotlib.figure.Figure at 0x7f31d2c70090>"
      ]
     },
     "metadata": {},
     "output_type": "display_data"
    }
   ],
   "source": [
    "precisionesSVCRBF = []\n",
    "ejeX = []\n",
    "#Clasificador SVC con kernel RBF usando gamma como hiperparámetro\n",
    "for g in range(1, 10, 1):\n",
    "    clf = svm.SVC(gamma=g, kernel='rbf') #C por defecto se inicializa a 1.0\n",
    "    clf.fit(matrizVectorizadaTraining, y)     \n",
    "    prediccion = clf.predict(matrizVectorizadaTest)    \n",
    "    matrizConfusion = crearMatrizConfusion(y_test, prediccion)\n",
    "    print matrizConfusion\n",
    "    precision = obtenerPrecision(matrizConfusion)\n",
    "    print precision\n",
    "    precisionesSVCRBF.append(precision)\n",
    "    ejeX.append(g)\n",
    "plotter.xlabel('Valor de Gamma')\n",
    "plotter.ylabel('Precision')\n",
    "plotter.plot(ejeX, precisionesSVCRBF, 'k-')\n",
    "plotter.show()"
   ]
  },
  {
   "cell_type": "markdown",
   "metadata": {},
   "source": [
    " Construimos un segundo clasificador SVC con kernel RBF, este tipo de kernel usa dos hiperparámetros C y gamma (según hemos visto en la asignatura de Aprendizaje Estadístico), en esta ocasión usaremos gamma como único hiperparámetro y a continuación mostramos mediante una gráfica los resultados de los distintos valores del hiperparámetro gamma pasados al clasificador creando sus respectivas matrices de confusión y preciones."
   ]
  },
  {
   "cell_type": "code",
   "execution_count": 32,
   "metadata": {
    "collapsed": false,
    "scrolled": true
   },
   "outputs": [
    {
     "name": "stdout",
     "output_type": "stream",
     "text": [
      "[[501, 87], [37, 557]]\n",
      "0.895093062606\n",
      "[[504, 84], [21, 573]]\n",
      "0.91116751269\n",
      "[[501, 87], [15, 579]]\n",
      "0.913705583756\n",
      "[[503, 85], [15, 579]]\n",
      "0.915397631134\n",
      "[[502, 86], [15, 579]]\n",
      "0.914551607445\n",
      "[[502, 86], [15, 579]]\n",
      "0.914551607445\n",
      "[[502, 86], [15, 579]]\n",
      "0.914551607445\n",
      "[[502, 86], [15, 579]]\n",
      "0.914551607445\n",
      "[[502, 86], [15, 579]]\n",
      "0.914551607445\n",
      "[[502, 86], [15, 579]]\n",
      "0.914551607445\n"
     ]
    },
    {
     "data": {
      "image/png": "[encoded data removed]",
      "text/plain": [
       "<matplotlib.figure.Figure at 0x7f31d28303d0>"
      ]
     },
     "metadata": {},
     "output_type": "display_data"
    }
   ],
   "source": [
    "precisionesSVCLinear = []\n",
    "ejeX = []\n",
    "#Clasificador SVC con kernel Linear\n",
    "for c in range(1, 100, 10):\n",
    "    clf = svm.SVC(C=float(c)/10, kernel='linear')\n",
    "    clf.fit(matrizVectorizadaTraining, y)     \n",
    "    prediccion = clf.predict(matrizVectorizadaTest)    \n",
    "    matrizConfusion = crearMatrizConfusion(y_test, prediccion)\n",
    "    print matrizConfusion\n",
    "    precision = obtenerPrecision(matrizConfusion)\n",
    "    print precision\n",
    "    precisionesSVCLinear.append(precision)\n",
    "    ejeX.append(float(c)/10)\n",
    "plotter.xlabel('Valor de C')\n",
    "plotter.ylabel('Precision')\n",
    "plotter.plot(ejeX, precisionesSVCLinear, 'k-')\n",
    "plotter.show()"
   ]
  },
  {
   "cell_type": "markdown",
   "metadata": {},
   "source": [
    " Construimos un tercer clasificador SVC con kernel Linear este tipo de kernel sólo se ve afectado por el hiperparámetro C (según hemos visto en la asignatura de Aprendizaje Estadístico) por lo que a continuación mostramos mediante una gráfica los resultados de los distintos valores del hiperparámetro C pasados al clasificador creando sus respectivas matrices de confusión y preciones."
   ]
  },
  {
   "cell_type": "code",
   "execution_count": 33,
   "metadata": {
    "collapsed": false,
    "scrolled": false
   },
   "outputs": [
    {
     "name": "stdout",
     "output_type": "stream",
     "text": [
      "[[503, 85], [22, 572]]\n",
      "0.909475465313\n",
      "[[507, 81], [16, 578]]\n",
      "0.9179357022\n",
      "[[505, 83], [15, 579]]\n",
      "0.917089678511\n",
      "[[505, 83], [15, 579]]\n",
      "0.917089678511\n",
      "[[503, 85], [15, 579]]\n",
      "0.915397631134\n",
      "[[503, 85], [15, 579]]\n",
      "0.915397631134\n",
      "[[503, 85], [15, 579]]\n",
      "0.915397631134\n",
      "[[503, 85], [15, 579]]\n",
      "0.915397631134\n",
      "[[503, 85], [15, 579]]\n",
      "0.915397631134\n",
      "[[503, 85], [15, 579]]\n",
      "0.915397631134\n"
     ]
    },
    {
     "data": {
      "image/png": "[encoded data removed]",
      "text/plain": [
       "<matplotlib.figure.Figure at 0x7f31d26ed150>"
      ]
     },
     "metadata": {},
     "output_type": "display_data"
    }
   ],
   "source": [
    "precisionesLinearSVC = []\n",
    "ejeX = []\n",
    "#Clasificador LinearSVC\n",
    "for c in range(1, 100, 10):\n",
    "    clf = svm.LinearSVC(C=float(c)/10)\n",
    "    clf.fit(matrizVectorizadaTraining, y)     \n",
    "    prediccion = clf.predict(matrizVectorizadaTest)    \n",
    "    matrizConfusion = crearMatrizConfusion(y_test, prediccion)\n",
    "    print matrizConfusion\n",
    "    precision = obtenerPrecision(matrizConfusion)\n",
    "    print precision\n",
    "    precisionesLinearSVC.append(precision)\n",
    "    ejeX.append(float(c)/10)\n",
    "plotter.xlabel('Valor de C')\n",
    "plotter.ylabel('Precision')\n",
    "plotter.plot(ejeX, precisionesLinearSVC, 'k-')\n",
    "plotter.show()"
   ]
  },
  {
   "cell_type": "markdown",
   "metadata": {},
   "source": [
    " Construimos un cuarto clasificador LinearSVC, que al igual que el SVC con kernel Linear, sólo se ve afectado por el hiperparámetro C (según hemos visto en la asignatura de Aprendizaje Estadístico) por lo que a continuación mostramos mediante una gráfica los resultados de los distintos valores del hiperparámetro C pasados al clasificador creando sus respectivas matrices de confusión y preciones.\n",
    " \n",
    " Como nota interesante cabe destacar que según la documentación de Scikit-Learn las diferencias\n",
    "entre LinearSVC y SVC con kernel linear son:\n",
    "\n",
    " - LinearSVC minimiza la pérdida de bisagra al cuadrado mientras SVC minimiza la pérdida de bisagra regular.\n",
    " - LinearSVC utiliza la reducción multiclase One-vs-All (también conocida como One-vs-Rest) mientras que SVC utiliza la reducción multiclase One-vs-One."
   ]
  },
  {
   "cell_type": "code",
   "execution_count": 34,
   "metadata": {
    "collapsed": false,
    "scrolled": false
   },
   "outputs": [
    {
     "name": "stdout",
     "output_type": "stream",
     "text": [
      "[[0, 588], [0, 594]]\n",
      "0.502538071066\n",
      "[[529, 59], [31, 563]]\n",
      "0.92385786802\n",
      "[[531, 57], [31, 563]]\n",
      "0.925549915398\n",
      "[[532, 56], [32, 562]]\n",
      "0.925549915398\n",
      "[[533, 55], [32, 562]]\n",
      "0.926395939086\n",
      "[[533, 55], [32, 562]]\n",
      "0.926395939086\n",
      "[[533, 55], [32, 562]]\n",
      "0.926395939086\n",
      "[[533, 55], [33, 561]]\n",
      "0.925549915398\n",
      "[[534, 54], [33, 561]]\n",
      "0.926395939086\n",
      "[[534, 54], [33, 561]]\n",
      "0.926395939086\n"
     ]
    },
    {
     "data": {
      "image/png": "[encoded data removed]",
      "text/plain": [
       "<matplotlib.figure.Figure at 0x7f31d27b1710>"
      ]
     },
     "metadata": {},
     "output_type": "display_data"
    }
   ],
   "source": [
    "precisionesSVCPolinomica = []\n",
    "ejeX = []\n",
    "#Clasificador SVC con kernel Polinomico de grado 3 y gamma 1 cambiando C\n",
    "for c in range(1, 100, 10):\n",
    "    clf = svm.SVC(C=float(c)/10, kernel='poly', degree=3, gamma=1)\n",
    "    clf.fit(matrizVectorizadaTraining, y)     \n",
    "    prediccion = clf.predict(matrizVectorizadaTest)    \n",
    "    matrizConfusion = crearMatrizConfusion(y_test, prediccion)\n",
    "    print matrizConfusion\n",
    "    precision = obtenerPrecision(matrizConfusion)\n",
    "    print precision\n",
    "    precisionesSVCPolinomica.append(precision)\n",
    "    ejeX.append(float(c)/10)\n",
    "plotter.xlabel('Valor de C')\n",
    "plotter.ylabel('Precision')\n",
    "plotter.plot(ejeX, precisionesSVCPolinomica, 'k-')\n",
    "plotter.show()"
   ]
  },
  {
   "cell_type": "markdown",
   "metadata": {},
   "source": [
    " Construimos un quinto clasificador SVC con kernel Polinómico, este tipo de kernel se ve afectado por los hiperparámetros C y grado (según hemos visto en la asignatura de Aprendizaje Estadístico) por lo que a continuación mostramos mediante una gráfica los resultados de los distintos valores del hiperparámetro C pasados al clasificador creando sus respectivas matrices de confusión y preciones. En el siguiente clasificador haremos lo mismo pero usando el grado como hiperparámetro."
   ]
  },
  {
   "cell_type": "code",
   "execution_count": 35,
   "metadata": {
    "collapsed": false,
    "scrolled": false
   },
   "outputs": [
    {
     "name": "stdout",
     "output_type": "stream",
     "text": [
      "[[509, 79], [19, 575]]\n",
      "0.917089678511\n",
      "[[530, 58], [19, 575]]\n",
      "0.934856175973\n",
      "[[536, 52], [35, 559]]\n",
      "0.926395939086\n",
      "[[534, 54], [66, 528]]\n",
      "0.89847715736\n",
      "[[458, 130], [35, 559]]\n",
      "0.860406091371\n",
      "[[144, 444], [10, 584]]\n",
      "0.615905245347\n",
      "[[71, 517], [2, 592]]\n",
      "0.560913705584\n",
      "[[43, 545], [2, 592]]\n",
      "0.537225042301\n",
      "[[26, 562], [1, 593]]\n",
      "0.523688663283\n"
     ]
    },
    {
     "data": {
      "image/png": "[encoded data removed]",
      "text/plain": [
       "<matplotlib.figure.Figure at 0x7f31d51c02d0>"
      ]
     },
     "metadata": {},
     "output_type": "display_data"
    }
   ],
   "source": [
    "precisionesSVCPolinomica = []\n",
    "ejeX = []\n",
    "#Clasificador SVC con kernel Polinomico con C=1.0 y gamma 1 cambiando los grados\n",
    "for g in range(1, 10, 1):\n",
    "    clf = svm.SVC(kernel='poly', degree=g, gamma=1)\n",
    "    clf.fit(matrizVectorizadaTraining, y)     \n",
    "    prediccion = clf.predict(matrizVectorizadaTest)    \n",
    "    matrizConfusion = crearMatrizConfusion(y_test, prediccion)\n",
    "    print matrizConfusion\n",
    "    precision = obtenerPrecision(matrizConfusion)\n",
    "    print precision\n",
    "    precisionesSVCPolinomica.append(precision)\n",
    "    ejeX.append(g)\n",
    "plotter.xlabel('Grado')\n",
    "plotter.ylabel('Precision')\n",
    "plotter.plot(ejeX, precisionesSVCPolinomica, 'k-')\n",
    "plotter.show()"
   ]
  },
  {
   "cell_type": "markdown",
   "metadata": {},
   "source": [
    " Construimos un sexto clasificador SVC con kernel Polinómico, este tipo de kernel se ve afectado por los hiperparámetros C y grado (según hemos visto en la asignatura de Aprendizaje Estadístico) por lo que a continuación mostramos mediante una gráfica los resultados de los distintos valores del hiperparámetro grado pasados al clasificador creando sus respectivas matrices de confusión y preciones."
   ]
  },
  {
   "cell_type": "markdown",
   "metadata": {},
   "source": [
    "## Conclusión Clasificadores "
   ]
  },
  {
   "cell_type": "markdown",
   "metadata": {},
   "source": [
    "- El clasificador que mayor precisión ha conseguido de los seís probados es el SVC con kernel polinómico e hiperparámetros C=1.0, gamma=1 y grado=2 con una precisión del 93.4856175973%. Lo cual indica un porcentaje bastante alto de acierto en las predicciones.\n",
    "\n",
    "- No obstante, se observa que el clasificador que tiene un comportamiento más regular es el LinearSVC, el cual se comporta ligeramente mejor que el SVC con kernel linear cuyo único hiperparámetro en común es el C. Ya que los porcentajes obtenidos para todos los C dados oscilan entre el 90.9475465313% de mínimo y el 91.79357022% de máximo. Lo cual podría indicar una mayor fiabilidad para este caso en concreto de clasificación. Siendo el máximo porcentaje obtenido un porcentaje bastante alto de acierto también.\n",
    "\n",
    "- Como conclusión final para los clasificadores se puede decir que, aparte de la complejidad del problema de clasificación, en este caso sólo han sido dos clases, pero podrían ser 3 clases o más, la complejidad de una buena clasificación también depende y mucho del kernel que usemos y de sus principales hiperparámetros que no son los mismos para un kernel que para otro. Por lo que un clasificador que puede venir bien para este problema puede venir mal para otro y viceversa. La solución estriba en hallar una solución de compromiso de forma empírica, tal y como se ha hecho, pero dependiendo del problema tal vez esto no siempre sea posible."
   ]
  },
  {
   "cell_type": "markdown",
   "metadata": {},
   "source": [
    "### Análisis básico de sentimiento "
   ]
  },
  {
   "cell_type": "code",
   "execution_count": 36,
   "metadata": {
    "collapsed": true
   },
   "outputs": [],
   "source": [
    "#Analizador Básico\n",
    "palabrasPositivas = []\n",
    "ficheroPositivos = open('positive-words.txt', 'r')\n",
    "for linea in ficheroPositivos:\n",
    "    if(linea[0] != ';' and linea[0] != '\\n'):\n",
    "        #print (linea)\n",
    "        palabrasPositivas.append(linea.replace('\\n',''))\n",
    "#print(palabrasPositivas)\n",
    "\n",
    "palabrasNegativas = []\n",
    "ficheroNegativos = open('negative-words.txt', 'r')\n",
    "for linea in ficheroNegativos:\n",
    "    if(linea[0] != ';' and linea[0] != '\\n'):\n",
    "        #print (linea)\n",
    "        palabrasNegativas.append(linea.replace('\\n',''))\n",
    "#print(palabrasNegativas)"
   ]
  },
  {
   "cell_type": "markdown",
   "metadata": {},
   "source": [
    " Obtenemos las palabras positivas y negativas del lexicon en inglés a partir de los ficheros de texto del artículo de Bing y Liu."
   ]
  },
  {
   "cell_type": "code",
   "execution_count": 37,
   "metadata": {
    "collapsed": true
   },
   "outputs": [],
   "source": [
    "def analisisSentimiento(palabrasPositivas, palabrasNegativas, tweets, texto):\n",
    "    #Creamos el vectorizador para que analice por palabra, y que filtre todas aquellas\n",
    "    #palabras stop_words en inglés\n",
    "    vectorizer = TfidfVectorizer(analyzer='word', min_df = 1, stop_words = 'english')\n",
    "    #Usando el vectorizador extraemos la matriz vectorizada de todas las palabras\n",
    "    matrizVectorizada = vectorizer.fit_transform(tweets)\n",
    "    #Usamos también el vectorizador para extraer todas las palabras que haya encontrado\n",
    "    palabras = vectorizer.get_feature_names()\n",
    "    #print palabrasLG\n",
    "    \n",
    "    positivas = 0\n",
    "    negativas = 0\n",
    "    for palabra in palabras:\n",
    "        if(palabra.encode('utf-8') in palabrasPositivas):\n",
    "            positivas += 1\n",
    "        if(palabra.encode('utf-8') in palabrasNegativas):\n",
    "            negativas += 1\n",
    "    print \"Análisis de sentimiento de \" + texto\n",
    "    print \"Porcentaje de Positividad: \" + str(probabilidad(positivas,positivas+negativas)*100) + \"%\"\n",
    "    print \"Porcentaje de Negatividad: \" + str(probabilidad(negativas,positivas+negativas)*100) + \"%\"\n",
    "    #print str(positivas) + \" - \" + str(negativas)    "
   ]
  },
  {
   "cell_type": "markdown",
   "metadata": {},
   "source": [
    " Función para realizar el análisis de sentimiento en función de la colección de tweets (que puede ser sólo 1 tweet si lo queremos evaluar de forma individual o un conjunto de varios tweets). También les pasamos las palabras positivas y negativas recogidas del lexicon anterior. Mediante un bucle for recorremos palabra por palabra todas aquellas palabras contenidas en la bolsa de palabras de los tweets pasados como parámetros y vamos acumulando cuantas de ellas son positivas y cuantas son negativas. Finalmente aplicando la regla de Laplace (casos favorables(o desfavorables)/todos los casos) hallamos la probabilidad de positividad y de negatividad para todo el conjunto de Tweets de esta persona (si sólo hay un tweet pues sería de ese tweet en concreto)."
   ]
  },
  {
   "cell_type": "code",
   "execution_count": 38,
   "metadata": {
    "collapsed": false
   },
   "outputs": [
    {
     "name": "stdout",
     "output_type": "stream",
     "text": [
      "Análisis de sentimiento de Lady Gaga\n",
      "Porcentaje de Positividad: 53.0769230769%\n",
      "Porcentaje de Negatividad: 46.9230769231%\n",
      "Análisis de sentimiento de Robbie Williams\n",
      "Porcentaje de Positividad: 58.8377723971%\n",
      "Porcentaje de Negatividad: 41.1622276029%\n"
     ]
    }
   ],
   "source": [
    "#Análisis global\n",
    "analisisSentimiento(palabrasPositivas, palabrasNegativas, tweetsLadyGaga, \"Lady Gaga\")\n",
    "analisisSentimiento(palabrasPositivas, palabrasNegativas, tweetsRobbieWilliams, \"Robbie Williams\")"
   ]
  },
  {
   "cell_type": "markdown",
   "metadata": {},
   "source": [
    " Primero hacemos un análisis global de todo el conjunto de tweets por cada personaje."
   ]
  },
  {
   "cell_type": "code",
   "execution_count": 39,
   "metadata": {
    "collapsed": false
   },
   "outputs": [
    {
     "name": "stdout",
     "output_type": "stream",
     "text": [
      "[u'#MILLIONREASONS video tomorrow, + it starts right where #PerfectIllusion left off. @MTV premiere WORLDWIDE at 3pm E\\u2026 https://t.co/ZppCNsrICf']\n",
      "Análisis de sentimiento de tweet mas reciente recogido de Lady Gaga\n",
      "Porcentaje de Positividad: 100.0%\n",
      "Porcentaje de Negatividad: 0.0%\n",
      "[u'\\u201cAs I\\u2019m going to be a father soon, I felt like my trip to Mexico hit home more than ever.\" Don\\'t miss Robbie in this week\\'s @hellomag!']\n",
      "Análisis de sentimiento de tweet mas lejano recogido de Robbie Williams\n",
      "Porcentaje de Positividad: 50.0%\n",
      "Porcentaje de Negatividad: 50.0%\n"
     ]
    }
   ],
   "source": [
    "#Análisis individual\n",
    "tweetMasRecienteLG = []\n",
    "tweetMasRecienteLG.append(tweetsLadyGaga[0]) #Colección con un sólo tweet\n",
    "print(tweetMasRecienteLG)\n",
    "analisisSentimiento(palabrasPositivas, palabrasNegativas, tweetMasRecienteLG, \"tweet mas reciente recogido de Lady Gaga\")\n",
    "tweetMasLejanoRW = []\n",
    "tweetMasLejanoRW.append(tweetsRobbieWilliams[len(tweetsRobbieWilliams)-1])\n",
    "print(tweetMasLejanoRW)\n",
    "analisisSentimiento(palabrasPositivas, palabrasNegativas, tweetMasLejanoRW, \"tweet mas lejano recogido de Robbie Williams\")"
   ]
  },
  {
   "cell_type": "markdown",
   "metadata": {},
   "source": [
    " Después lo hacemos de forma individual para, por ejemplo, el tweet más reciente de Lady Gaga y el tweet más lejano históricamente de Robbie Williams que hemos podido recopilar."
   ]
  },
  {
   "cell_type": "markdown",
   "metadata": {},
   "source": [
    "## Conclusión Analizador Básico de Sentimiento"
   ]
  },
  {
   "cell_type": "markdown",
   "metadata": {},
   "source": [
    " El analizador es muy básico y nos centramos en el conjunto cuando queremos comprobar tendencias positivas o negativas en la personalidad de cada personaje o sobre sus reservas a la hora de hacer públicos sus sentimientos de enfado o frustración en la red social. Pero el analizador también se puede aplicar para un tweet concreto de forma individual por lo que podríamos saber el estado de humor del personaje en el instante del tiempo en que el tweet se creo. En el caso del tweet más reciente recogido de Lady Gaga nos da un 100% de positividad, por lo que justo en ese momento esa persona estaba muy contenta por lo que parece indicar. Sin embargo, para el tweet más lejano de Robbie Williams parece haber sentimientos encontrados, ya que por un lado está bien por estar de gira en México pero al mismo tiempo le gustaría estar en su hogar cerca de su esposa que está a punto de dar a luz, de ahí que los porcentajes estén al 50%. Las interpretaciones que se podrían sacar son muchas y variadas, y todo depende también del contexto y la veracidad de la información. Pero como conclusión final podemos decir que dicho analizador podría ser un buen punto de partida para indicar tendencias en los sentimientos recogidos en los textos."
   ]
  }
 ],
 "metadata": {
  "anaconda-cloud": {},
  "kernelspec": {
   "display_name": "Python [default]",
   "language": "python",
   "name": "python2"
  },
  "language_info": {
   "codemirror_mode": {
    "name": "ipython",
    "version": 2
   },
   "file_extension": ".py",
   "mimetype": "text/x-python",
   "name": "python",
   "nbconvert_exporter": "python",
   "pygments_lexer": "ipython2",
   "version": "2.7.12"
  }
 },
 "nbformat": 4,
 "nbformat_minor": 1
}
